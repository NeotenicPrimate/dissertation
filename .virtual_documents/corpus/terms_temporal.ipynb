%run './model/multi_corpus.py'
%run './model/ergm_functions.py'
%run './constants.py'

from datetime import datetime
from matplotlib import cm






corpora = citation_graphs()
Dfs = {field_name: corpus['Df'] for (field_name, corpus) in corpora.items()}


corpora = co_occurence_graphs(n_edges=200)
Gs = {field_name: corpus['G'] for (field_name, corpus) in corpora.items()}


sns.reset_defaults()

field_name = 'Geophysics'
emphasized_terms = []
n_emphasized = 3
date_range = [2000, 2020]


dfs = {}
for field_name in Gs.keys():

    print(field_name)

    df_temporal = (
        pl.read_parquet(os.path.join(os.path.join(OUTPUT_PATH, 'temporal_dfs'), field_name + '.parquet'))
            .select(pl.col('Year'), pl.col('CumDoi'))
            .filter(
                pl.col("Year").ge(date_range[0]) & pl.col("Year").le(date_range[-1])
            )
    )

    df = Dfs[field_name]
    G = Gs[field_name]
    terms = list(G.nodes)

    year_dict = {}
    for i in range(len(df_temporal)):
        year, dois = df_temporal.row(i)
        df_dois = df.filter(pl.col('Doi').is_in(dois))
        
        terms_dict = {}
        for term in terms:
            n, = df_dois.select(pl.col('Text').arr.contains(term).sum()).row(0)
            terms_dict[term] = n

        sorted_terms = sorted(terms_dict.items(), key=lambda tup: tup[1], reverse=True)
        ranked_sorted_terms = dict([(term, i) for i, (term, _) in enumerate(sorted_terms)])
        
        year_dict[year] = ranked_sorted_terms

    years, terms = zip(*year_dict.items())

    df = pl.DataFrame(terms)
    dfs[field_name] = df

    first_rank = df.select(pl.all().first())
    last_rank = df.select(pl.all().last())
    delta_rank = last_rank - first_rank
    delta_rank = delta_rank.to_dict(as_series=False)

    sorted_delta_rank = sorted(delta_rank.items(), key=lambda tup: tup[1][0], reverse=True)

    most_down_term = [t for t, _ in sorted_delta_rank[-n_emphasized:]]
    most_up_term = [t for t, _ in sorted_delta_rank[:n_emphasized]]

    fig = plt.figure(figsize=(15, 18))
    ax = fig.add_axes([0, 0, 1, 1])

    for col in df.columns:
        freq = df[col].to_list()

        if len(emphasized_terms) > 0:
            if col in emphasized_terms:
                color = 'b'
                linewidth = 3
            else:
                color='grey'
                linewidth = 1
        else:
            color = None
            linewidth = 3

        if col in most_down_term:
            color = 'r'
            linewidth = 3
        elif col in most_up_term:
            color = 'g'
            linewidth = 3
        else:
            color='grey'
            linewidth = 1

        ax.plot(
            years, 
            freq, 
            'o-',
            color=color,
            markeredgewidth=1, 
            markeredgecolor='k', 
            markerfacecolor="white", 
            linewidth=linewidth,
            label=col
        )
        ax.set_xlabel('Year')
        ax.set_ylabel('Count')

        ax.annotate(
            col,
            xy=(2020, freq[-1]), 
            xytext=(2021, freq[-1]), 
            va="center"
        )

        ax.grid(False)
        ax.get_yaxis().set_visible(False)

    plt.xlim([years[0]-1, years[-1]+4])

    fig.tight_layout()

    # plt.savefig(
    #     os.path.join(LATEX_FIGURES_PATH, 'term_temp_rank', f'{field_name.capitalize()}.png'), 
    #     transparent=True, 
    #     dpi=300,
    #     bbox_inches='tight'
    # )




dfs_var = {}
for field_name, df in dfs.items():
    stds = df.select(pl.all().std()).row(0)
    dfs_var[field_name] = np.round(np.mean(stds), 3)

dfs_var





corpora = citation_graphs()
Gs = {field_name: corpus['G'] for (field_name, corpus) in corpora.items()}
Dfs = {field_name: corpus['Df'] for (field_name, corpus) in corpora.items()}


field_name = 'Sociology'
corpus = corpora[field_name]

df = corpus['Df']
G = corpus['G'].reverse()


term = 'gender'

roots = (
    df
    .filter(pl.col('Text').arr.contains(term))
    .sort('Date')
    .select(pl.col('Doi'))
    .row(0)
)

assert(len(roots) == 1)

root = roots[0]

G_genealogy = nx.bfs_tree(G, root)
nodes = list(G_genealogy.nodes)

df_genealogy = (
    df
    .filter(pl.col('Doi').is_in(nodes))
    .groupby(pl.col('Text').arr.contains(term))
    .agg(pl.col('Doi'))
    .rows()
)
dict_genealogy = dict(df_genealogy)

nodes_with_term = dict_genealogy[True]
nodes_without_term = dict_genealogy[False]


sns.reset_defaults()
cmap = cm.plasma

node_size = 50

# pos = nx.nx_agraph.graphviz_layout(G_genealogy, prog="dot") # dot, twopi, fdp, sfdp, circo
pos = nx.nx_agraph.graphviz_layout(G_genealogy, prog="sfdp") # dot, twopi, fdp, sfdp, circo
# pos = nx.nx_agraph.graphviz_layout(G_genealogy, prog="circo") # dot, twopi, fdp, sfdp, circo
# pos = nx.nx_agraph.graphviz_layout(G_genealogy, prog="twopi") # dot, twopi, fdp, sfdp, circo

plt.figure(figsize=(25, 25))

root_node = nx.draw_networkx_nodes(
    G_genealogy, 
    pos, 
    nodelist=[root],
    node_size=200,
    node_color='red',
    node_shape='o',
    alpha=None,
    cmap=None,
    vmin=None,
    vmax=None,
    ax=None,
    linewidths=1.0, 
    edgecolors='k', 
    label=root, 
    margins=None
)
root_node.set_zorder(2)

nodes_with = nx.draw_networkx_nodes(
    G_genealogy, 
    pos, 
    nodelist=nodes_with_term,
    node_size=node_size*2,
    node_color='red',
    node_shape='o',
    alpha=None,
    cmap=cmap,
    vmin=None,
    vmax=None,
    ax=None,
    linewidths=1.0, 
    edgecolors='k', 
    # label=None, 
    margins=None
)
nodes_with.set_zorder(1)

nodes_without = nx.draw_networkx_nodes(
    G_genealogy, 
    pos, 
    nodelist=nodes_without_term,
    node_size=node_size,
    # node_color=None,
    node_shape='o',
    alpha=None,
    cmap=cmap,
    vmin=None,
    vmax=None,
    ax=None,
    linewidths=1.0, 
    edgecolors='k', 
    # label=None, 
    margins=None
)
nodes_without.set_zorder(1)

edges = nx.draw_networkx_edges(
    G_genealogy, 
    pos,
    edgelist=None,
    width=1.0,
    edge_color='k',
    style='solid',
    alpha=0.5,
    arrowstyle=None,
    arrowsize=10,
    edge_cmap=None,
    edge_vmin=None,
    edge_vmax=None,
    ax=None,
    arrows=None,
    label=None,
    node_size=node_size,
    nodelist=None,
    node_shape='o',
    connectionstyle='arc3',
    min_source_margin=0,
    min_target_margin=0,
)

for c in edges:
    c.set_zorder(-1)
# edges.set_zorder(-1)

plt.legend()

plt.grid(False)
plt.box(False)

root = root.replace('/', '-')

plt.show()
# plt.savefig(
#     os.path.join(LATEX_FIGURES_PATH, 'genealogy_trees', f'{root}.png'), 
#     transparent=True, 
#     dpi=300,
#     bbox_inches='tight',
# )





field_name = 'Sociology'
corpus = corpora[field_name]

df = corpus['Df']
G = corpus['G'].reverse()


term = 'social'

df_with_term = (
    df
    .filter(pl.col('Text').arr.contains(term))
    .select(
        pl.col('Doi'), 
        pl.col('Date').dt.year()
    )
)

dois = df_with_term['Doi'].to_list()
dates = df_with_term['Date'].to_list()

dois_dates = dict(zip(dois, dates))

G_term = G.subgraph(dois)
G_term = nx.DiGraph(G_term)
G_term.remove_nodes_from(list(nx.isolates(G_term)))

dates = [dois_dates[n] for n in G_term.nodes]

vmin = min(dates)
vmax = max(dates)


node_factor = 500
cmap = plt.cm.coolwarm

fig, ax = plt.subplots(1, figsize=(15, 10))

print(field_name)

pos = nx.nx_agraph.graphviz_layout(G_term, prog="sfdp") # dot, twopi, fdp, sfdp, circo

# for i, (node, cent) in enumerate(normalized_node_map.items()):
nodes = nx.draw_networkx_nodes(
    G_term,
    pos,
    # nodelist=dois,
    node_size=100,
    node_color=dates,
    node_shape='o',
    alpha=1,
    ax=ax,
    cmap=cmap,
    linewidths=1,
    edgecolors='k',
    margins=None,
    vmin=vmin, vmax=vmax
) 
nodes.set_zorder(1)

edges = nx.draw_networkx_edges(
    G_term, 
    pos,
    width=1.0,
    edge_color='k',
    style='solid',
    alpha=0.5, 
    ax=ax,
    arrows=True,
    # nodelist=dois,
    node_size=100,
    node_shape='o',
    connectionstyle='arc3', # , rad=0.3
)

# edges.set_zorder(-1)
for c in edges:
    c.set_zorder(-1)

ax.grid(False)
plt.box(False)

sm = plt.cm.ScalarMappable(cmap=cmap, norm=plt.Normalize(vmin=vmin, vmax=vmax))
sm.set_array([])
cbar = plt.colorbar(sm)

plt.show()


norm_dates



