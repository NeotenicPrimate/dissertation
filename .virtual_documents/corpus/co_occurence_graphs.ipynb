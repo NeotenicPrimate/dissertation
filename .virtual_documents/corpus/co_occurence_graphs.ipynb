%run './model/multi_corpus.py'
%run './constants.py'


corpora = co_occurence_graphs(n_edges=100)
Gs = {field_name: corpus['G'] for (field_name, corpus) in corpora.items()}
Dfs = {field_name: corpus['Df'] for (field_name, corpus) in corpora.items()}


from netgraph import Graph, ArcDiagram
from itertools import accumulate
import operator
from mpl_toolkits.axes_grid1.inset_locator import inset_axes

import seaborn as sns

field_comm_num = {}
for field_name, G in Gs.items():

    if field_name not in ['Ethnic & Cultural Studies', 'Probability & Statistics', 'Sociology', 'Political Science', 'Ethnic & Cultural Studies']:
        continue

    communities = nx_comm.louvain_communities(G)
    communities = {node: i for i, comm in enumerate(communities) for node in comm}

    num_comm = len(set(communities.values()))
    print(field_name, num_comm)
    field_comm_num[field_name] = num_comm

    node_size = dict(nx.degree(G))
    node_size = {node: max(2, np.log(size)) for node, size in node_size.items()}

    comm_color = sns.color_palette()
    node_color = {node: comm_color[i] for node, i in communities.items()}

    node_alpha = nx.core_number(G)
    max_core = max(node_alpha.values())
    node_alpha = {n: core / max_core for n, core in node_alpha.items()}

    node_labels = dict(zip(G.nodes, G.nodes))

    fig, ax = plt.subplots(figsize=(20, 20))

    Graph(
        G,
        edge_layout='bundled',
        node_layout='community',
        node_size=node_size,
        node_color=node_color,
        node_labels=True,
        node_label_fontdict={'size': 15},
        node_label_offset=0.00,
        node_alpha=node_alpha,
        ax=ax,
        node_layout_kwargs=dict(node_to_community=communities)
    )

    plt.title(field_name, fontsize=40)
    
    plt.savefig(
        os.path.join('./latex/figures/co_occurrence_graphs_bundled', f'{field_name.capitalize()}.png'), 
        transparent=True, 
        dpi=150 
    )

    plt.show()





corpora = co_citation_graphs()
Gs_cc = {field_name: corpus['G'] for (field_name, corpus) in corpora.items()}
Dfs_cc = {field_name: corpus['Df'] for (field_name, corpus) in corpora.items()}


df = Dfs_cc[field_name]

df_comm = pl.DataFrame({
    'Text': list(communities.keys()),
    'Comm': list(communities.values()),
})

df = (
    df
    .select('Doi', 'Date', 'Text')
    .explode('Text')
    .filter(pl.col('Text').is_in(list(G.nodes)))
    .groupby('Doi')
    .agg('Text', pl.col('Date').take(0))
    .with_columns(pl.col('Text').apply(lambda arr: list(combinations(arr, 2))))
    .explode('Text')
    .explode('Text')
    .join(df_comm, on='Text')
    .groupby(pl.col('Date').dt.year())
    .agg('Comm')
    .sort('Date')
)

d_comms = defaultdict(dict)
for date, comms in df.to_numpy():
    counter = Counter(comms)
    for k, v in counter.items():
        d_comms[k][date] = v

# ax1 = fig.add_axes([0.6, 0.6, 0.25, 0.25]) # , anchor='NE', zorder=1
ax1 = inset_axes(ax, width=2., height=2., bbox_transform=ax.transAxes) # , loc='upper right'
for comms, d in d_comms.items():
    ax1.plot(d.keys(), list(accumulate(d.values(), operator.add)), label=comms, linewidth=2, color=comm_color[comms])

ax1.set_xticks([])
ax1.set_yticks([])

plt.show()





communities=True
co_citation=False

for field_name, G in Gs.items():

    print(field_name)
    
    fig, ax = plt.subplots(1, figsize=(15, 15))

    node_deg = dict(nx.degree(G))
    node_names = list(node_deg.keys())
    node_sizes = list(map(lambda deg: deg*200, node_deg.values()))
    node_labels = dict(zip(node_names, node_names))

    new_node_labels = (
        pl.read_parquet(f'./output/main_dfs/{field_name}.parquet')
        .select(
            pl.col('Doi'), 
            pl.concat_str([
                pl.lit('('),
                pl.col('Authors').arr.first().str.split(', ').arr.first(),
                pl.lit(', '),
                pl.col('Date').dt.year(),
                pl.lit(')')
            ])
        )
        .filter(pl.col('Doi').is_in(node_names))
        .to_numpy()
    )

    new_node_labels = dict(map(tuple, new_node_labels))
    if co_citation:
        node_labels.update(new_node_labels)

    if communities:
        comms = nx_comm.louvain_communities(G)
        palette = sns.color_palette("pastel", len(comms))
        node_color_map = {}
        for comm, color in zip(comms, palette):
            for node in comm:
                node_color_map[node] = color
        node_color = [node_color_map[n] for n in G.nodes]
        node_color

    pos = nx.nx_agraph.graphviz_layout(G, prog='sfdp') # dot, twopi, fdp, sfdp, circo

    nx.draw_networkx_nodes(
        G, 
        pos,
        nodelist=node_names,
        node_size=node_sizes,
        # node_color='#00ABB3',
        node_color=node_color,
        node_shape='o',
        alpha=None,
        cmap=plt.cm.Blues,
        ax=ax,
        linewidths=1.0,
        edgecolors='k',
    ).set_zorder(1)

    nx.draw_networkx_labels(G, pos=pos, ax=ax, labels=node_labels)

    nx.draw_networkx_edges(
        G, 
        pos,
        width=1.0,
        edge_color='k',
        style='solid',
        alpha=0.5,
        arrowsize=10,
        ax=ax,
        nodelist=node_names,
        node_size=node_sizes,
        node_shape='o',
        connectionstyle='arc3',
    ).set_zorder(-1)

    ax.grid(False)

    # plt.savefig(
    #     os.path.join(LATEX_FIGURES_PATH, 'co_occurrence_graphs', f'{field_name.capitalize()}.png'), 
    #     transparent=True, 
    #     dpi=150 
    # )

    plt.show()








corpora = co_occurence_graphs(n_edges=1000)
Gs = {field_name: corpus['G'] for (field_name, corpus) in corpora.items()}
Dfs = {field_name: corpus['Df'] for (field_name, corpus) in corpora.items()}


from netgraph import Graph, ArcDiagram
from itertools import accumulate
import operator
from mpl_toolkits.axes_grid1.inset_locator import inset_axes

import seaborn as sns

field_comm_num = {}
for field_name, G in Gs.items():

    communities = nx_comm.louvain_communities(G)
    communities = {node: i for i, comm in enumerate(communities) for node in comm}

    num_comm = len(set(communities.values()))
    print(field_name, num_comm)
    field_comm_num[field_name] = num_comm

    node_size = dict(nx.degree(G))
    node_size = {node: max(2, np.log(size)) for node, size in node_size.items()}

    comm_color = sns.color_palette()
    node_color = {node: comm_color[i] for node, i in communities.items()}

    node_alpha = nx.core_number(G)
    max_core = max(node_alpha.values())
    node_alpha = {n: core / max_core for n, core in node_alpha.items()}

    node_labels = dict(zip(G.nodes, G.nodes))

    fig, ax = plt.subplots(figsize=(20, 20))

    Graph(
        G,
        edge_layout='bundled',
        node_layout='community',
        node_size=node_size,
        node_color=node_color,
        # node_labels=True,
        # node_label_fontdict={'size': 15},
        # node_label_offset=0.00,
        node_alpha=node_alpha,
        ax=ax,
        node_layout_kwargs=dict(node_to_community=communities)
    )

    plt.title(field_name, fontsize=20)

    # plt.savefig(
    #     os.path.join(LATEX_FIGURES_PATH, 'co_occurrence_graphs_bundled', f'{field_name.capitalize()}.png'), 
    #     transparent=True, 
    #     dpi=150 
    # )

    plt.show()





corpora = co_occurence_graphs(n_edges=10_000)
Gs = {field_name: corpus['G'] for (field_name, corpus) in corpora.items()}
Dfs = {field_name: corpus['Df'] for (field_name, corpus) in corpora.items()}


from matplotlib import cm

cmap = cm.plasma
node_factor = 500
# n_cols = 2
# n_rows = np.ceil(len(corpora) / n_cols)

sns.set()

for field_name, G in Gs.items():
    fig, ax = plt.subplots(1, figsize=(10, 10))

    print(field_name, G)

    G = G.to_undirected()
    G = G.subgraph(max(nx.connected_components(G), key=len))
    cent_map = dict(nx.betweenness_centrality(G))

    sorted_cent_map = dict(sorted(cent_map.items(), key=lambda tup: tup[1]))
    node_list = list(sorted_cent_map.keys())
    node_cent = np.fromiter(sorted_cent_map.values(), float)
    normalized_node_map = dict(zip(node_list, node_cent / node_cent.max()))
    normalized_node_list = list(normalized_node_map.keys())
    normalized_node_cent = np.fromiter(normalized_node_map.values(), float)

    pos = nx.nx_agraph.graphviz_layout(G, prog="sfdp") # dot, twopi, fdp, sfdp, circo

    for i, (node, cent) in enumerate(normalized_node_map.items()):
        greater_nodes = nx.draw_networkx_nodes(
            G, 
            pos, 
            nodelist=[node],
            node_size=[cent * node_factor + 25],
            # node_color=[cent],
            node_shape='o',
            alpha=1,
            ax=ax,
            cmap=cmap,
            linewidths=1,
            edgecolors='k',
            margins=None,
        ) 
        greater_nodes.set_zorder(i)

    edges = nx.draw_networkx_edges(
        G, 
        pos,
        width=1.0,
        edge_color='k',
        style='solid',
        alpha=0.05, 
        ax=ax,
        arrows=True,
        nodelist=node_list,
        node_size=node_cent * node_factor,
        node_shape='o',
        connectionstyle='arc3', # , rad=0.3
    )

    # edges.set_zorder(-1)
    for c in edges:
        c.set_zorder(-1)

    ax.grid(False)

    fig.suptitle(field_name, fontsize=25)

    # ax.set_facecolor('transparent')
    # ax.axis('off')
    # fig.set_facecolor('transparent')

    plt.savefig(
        os.path.join(LATEX_FIGURES_PATH, 'co_occurrence_full_graphs', f'{field_name.capitalize()}.png'), 
        transparent=True, 
        dpi=150 
    )





corpora = co_occurence_graphs(n_edges=50)
Gs = {field_name: corpus['G'] for (field_name, corpus) in corpora.items()}
Dfs = {field_name: corpus['Df'] for (field_name, corpus) in corpora.items()}


for field_name, G in Gs.items():

    fig, ax = plt.subplots(1, figsize=(10, 10))

    nodes = G.nodes
    am = nx.to_numpy_array(G)
    up_triang = np.triu(np.ones_like(am)).astype(bool)
    cmap = plt.get_cmap('flare',30)
    cmap.set_under('white')
    cmap.set_over('yellow')

    sns.heatmap(am, linewidth=.5, cmap=cmap, linecolor='k', linewidths=0.5, xticklabels=nodes, yticklabels=nodes, mask=(am==0) | (up_triang), ax=ax, cbar_kws={"shrink": 0.5})

    ax.set_xlim(0, len(G) + 0.1)
    ax.set_ylim(len(G) + 0.1, 0)

    plt.savefig(
        os.path.join(LATEX_FIGURES_PATH, 'co_occurrence_heatmap', f'{field_name.capitalize()}.png'), 
        transparent=True, 
        dpi=150 
    )






# Fragmentation 


communities = {}
for field_name, G in Gs.items():
    communities[field_name] = nx_comm.louvain_communities(G)


{field_name: len(comms) for field_name, comms in communities.items()}



