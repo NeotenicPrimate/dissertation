{
 "cells": [
  {
   "cell_type": "code",
   "execution_count": 1,
   "metadata": {},
   "outputs": [],
   "source": [
    "%run './model/multi_corpus.py'\n",
    "%run './constants.py'\n",
    "\n",
    "%matplotlib inline\n",
    "\n",
    "from matplotlib import cm"
   ]
  },
  {
   "cell_type": "code",
   "execution_count": 2,
   "metadata": {},
   "outputs": [
    {
     "name": "stdout",
     "output_type": "stream",
     "text": [
      "Gender Studies Graph with 1070 nodes and 2505 edges\n",
      "Geometry Graph with 749 nodes and 1262 edges\n",
      "Geophysics Graph with 22475 nodes and 119997 edges\n",
      "Economics Graph with 5710 nodes and 81283 edges\n",
      "Language & Linguistics Graph with 1925 nodes and 13565 edges\n",
      "Probability & Statistics Graph with 2802 nodes and 13312 edges\n",
      "Material Engineering Graph with 32157 nodes and 450244 edges\n",
      "Artificial Intelligence Graph with 2817 nodes and 15003 edges\n",
      "Sociology Graph with 3037 nodes and 31327 edges\n",
      "International Business Graph with 4191 nodes and 82833 edges\n",
      "Political Science Graph with 3367 nodes and 21319 edges\n",
      "Genetics & Genomics Graph with 11868 nodes and 73011 edges\n",
      "Immunology Graph with 17730 nodes and 271452 edges\n",
      "Human Resources & Organizations Graph with 4657 nodes and 43787 edges\n",
      "Ethnic & Cultural Studies Graph with 747 nodes and 1502 edges\n",
      "Neurology Graph with 22058 nodes and 348235 edges\n"
     ]
    }
   ],
   "source": [
    "corpora = co_citation_graphs()\n",
    "Gs = {field_name: corpus['G'] for (field_name, corpus) in corpora.items()}\n",
    "Dfs = {field_name: corpus['Df'] for (field_name, corpus) in corpora.items()}"
   ]
  },
  {
   "cell_type": "code",
   "execution_count": 9,
   "metadata": {},
   "outputs": [
    {
     "name": "stderr",
     "output_type": "stream",
     "text": [
      "/var/folders/rz/n4jmlyh1355cy_wkn5gd00x40000gn/T/ipykernel_39335/3273755306.py:29: UserWarning: This figure includes Axes that are not compatible with tight_layout, so results might be incorrect.\n",
      "  fig.tight_layout()\n"
     ]
    }
   ],
   "source": [
    "sns.reset_defaults()\n",
    "\n",
    "data = []\n",
    "field_names = []\n",
    "\n",
    "for field_name, G in Gs.items():\n",
    "\n",
    "    degrees = dict(G.degree()).values()\n",
    "    k, freq = zip(*Counter(degrees).items())\n",
    "    pk = np.array(freq) / np.sum(freq)\n",
    "\n",
    "    fig = plt.figure(figsize=(3, 3))\n",
    "    ax = fig.add_axes([0, 0, 1, 1])\n",
    "\n",
    "    ax.plot(k, freq, 'o', markeredgewidth=1, markeredgecolor='k')\n",
    "    # ax.plot(k, target_func(k, *popt), '--')\n",
    "    ax.set_yscale('log')\n",
    "    ax.set_xscale('log')\n",
    "    ax.set_xlabel('$\\log(k)$')\n",
    "    ax.set_ylabel('$\\log(freq)$')\n",
    "\n",
    "    ax1 = ax.twinx()\n",
    "    ax1.plot(k, pk, 'o', markeredgewidth=1, markeredgecolor='k')\n",
    "\n",
    "    ax1.set_yscale('log')\n",
    "    ax1.set_xscale('log')\n",
    "    ax1.set_ylabel('$\\log(P(k))$')\n",
    "\n",
    "    fig.tight_layout()\n",
    "\n",
    "    plt.savefig(\n",
    "        os.path.join(LATEX_FIGURES_PATH, 'co_citation_deg_dist', f'{field_name.capitalize()}.png'), \n",
    "        transparent=True, \n",
    "        dpi=150,\n",
    "        bbox_inches='tight'\n",
    "    )"
   ]
  },
  {
   "cell_type": "code",
   "execution_count": null,
   "metadata": {},
   "outputs": [],
   "source": []
  }
 ],
 "metadata": {
  "kernelspec": {
   "display_name": "venv",
   "language": "python",
   "name": "python3"
  },
  "language_info": {
   "codemirror_mode": {
    "name": "ipython",
    "version": 3
   },
   "file_extension": ".py",
   "mimetype": "text/x-python",
   "name": "python",
   "nbconvert_exporter": "python",
   "pygments_lexer": "ipython3",
   "version": "3.10.3"
  },
  "orig_nbformat": 4
 },
 "nbformat": 4,
 "nbformat_minor": 2
}
