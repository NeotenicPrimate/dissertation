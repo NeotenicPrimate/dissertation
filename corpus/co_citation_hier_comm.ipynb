{
 "cells": [
  {
   "cell_type": "code",
   "execution_count": null,
   "metadata": {},
   "outputs": [],
   "source": [
    "%run './model/multi_corpus.py'\n",
    "%run './constants.py'\n"
   ]
  },
  {
   "cell_type": "code",
   "execution_count": null,
   "metadata": {},
   "outputs": [],
   "source": [
    "corpora = co_citation_graphs(n_edges=50)\n",
    "Gs = {field_name: corpus['G'] for (field_name, corpus) in corpora.items()}\n",
    "Dfs = {field_name: corpus['Df'] for (field_name, corpus) in corpora.items()}"
   ]
  },
  {
   "cell_type": "markdown",
   "metadata": {},
   "source": [
    "# Girvan-Newman"
   ]
  },
  {
   "cell_type": "code",
   "execution_count": null,
   "metadata": {},
   "outputs": [],
   "source": [
    "sns.reset_defaults()\n",
    "\n",
    "for (field_name, G) in Gs.items():\n",
    "\n",
    "    print(field_name)\n",
    "\n",
    "    nodes = list(G.nodes)\n",
    "    comms = list(nx_comm.girvan_newman(G))\n",
    "    comms.insert(0, (set(nodes),))\n",
    "\n",
    "    Z, leaves = compute_Z(comms)\n",
    "    \n",
    "    new_leaves = dict(\n",
    "        pl.read_parquet(f'./output/main_dfs/{field_name}.parquet')\n",
    "        .select(\n",
    "            pl.col('Doi'), \n",
    "            pl.concat_str([\n",
    "                pl.lit('('),\n",
    "                pl.col('Authors').arr.first().str.split(', ').arr.first(),\n",
    "                pl.lit(', '),\n",
    "                pl.col('Date').dt.year(),\n",
    "                pl.lit(')')\n",
    "            ])\n",
    "        )\n",
    "        .filter(pl.col('Doi').is_in(leaves))\n",
    "        .to_numpy()\n",
    "    )\n",
    "\n",
    "    leaves = dict(zip(leaves, leaves))\n",
    "    leaves.update(new_leaves)\n",
    "\n",
    "    fig = plt.figure(figsize=(15, 18))\n",
    "    ax = fig.add_axes([0, 0, 1, 1])\n",
    "\n",
    "    # ax.set_xlabel('Node')\n",
    "    ax.set_ylabel('Distance')\n",
    "    \n",
    "    dendrogram(Z, labels=list(leaves.values()), ax=ax)\n",
    "    ax.yaxis.grid(False)\n",
    "    ax.xaxis.grid(False)\n",
    "    \n",
    "    fig.tight_layout()\n",
    "\n",
    "    plt.savefig(\n",
    "        os.path.join(LATEX_FIGURES_PATH, 'co_citation_girvan_newman_hier_comm', f'{field_name.capitalize()}.png'), \n",
    "        transparent=True, \n",
    "        dpi=300,\n",
    "        bbox_inches='tight'\n",
    "    )\n",
    "\n",
    "    "
   ]
  },
  {
   "cell_type": "markdown",
   "metadata": {},
   "source": [
    "# Louvain"
   ]
  },
  {
   "cell_type": "code",
   "execution_count": null,
   "metadata": {},
   "outputs": [],
   "source": [
    "\n",
    "\n",
    "for (field_name, G) in Gs.items():\n",
    "\n",
    "    print(field_name)\n",
    "\n",
    "    nodes = list(G.nodes)\n",
    "    \n",
    "    comms = list(sorted(nx_comm.louvain_partitions(G, weight=None), key=len))\n",
    "    comms.insert(0, (set(nodes),))\n",
    "    comms.append(tuple({n} for n in nodes))\n",
    "\n",
    "    Z, leaves = compute_Z(comms)\n",
    "\n",
    "    new_leaves = dict(\n",
    "        pl.read_parquet(f'./output/main_dfs/{field_name}.parquet')\n",
    "        .select(\n",
    "            pl.col('Doi'), \n",
    "            pl.concat_str([\n",
    "                pl.lit('('),\n",
    "                pl.col('Authors').arr.first().str.split(', ').arr.first(),\n",
    "                pl.lit(', '),\n",
    "                pl.col('Date').dt.year(),\n",
    "                pl.lit(')')\n",
    "            ])\n",
    "        )\n",
    "        .filter(pl.col('Doi').is_in(leaves))\n",
    "        .to_numpy()\n",
    "    )\n",
    "\n",
    "    leaves = dict(zip(leaves, leaves))\n",
    "    leaves.update(new_leaves)\n",
    "\n",
    "\n",
    "    fig = plt.figure(figsize=(15, 18))\n",
    "    ax = fig.add_axes([0, 0, 1, 1])\n",
    "\n",
    "    # ax.set_xlabel('Node')\n",
    "    ax.set_ylabel('Distance')\n",
    "    \n",
    "    dendrogram(Z, labels=list(leaves.values()), ax=ax)\n",
    "    \n",
    "    ax.yaxis.grid(False)\n",
    "    ax.xaxis.grid(False)\n",
    "    \n",
    "    fig.tight_layout()\n",
    "\n",
    "    plt.savefig(\n",
    "        os.path.join(LATEX_FIGURES_PATH, 'co_citation_louvain_hier_comm', f'{field_name.capitalize()}.png'), \n",
    "        transparent=True, \n",
    "        dpi=300,\n",
    "        bbox_inches='tight'\n",
    "    )\n"
   ]
  },
  {
   "cell_type": "code",
   "execution_count": null,
   "metadata": {},
   "outputs": [],
   "source": []
  },
  {
   "cell_type": "code",
   "execution_count": null,
   "metadata": {},
   "outputs": [],
   "source": []
  },
  {
   "cell_type": "code",
   "execution_count": null,
   "metadata": {},
   "outputs": [],
   "source": []
  }
 ],
 "metadata": {
  "kernelspec": {
   "display_name": "Python 3",
   "language": "python",
   "name": "python3"
  },
  "language_info": {
   "codemirror_mode": {
    "name": "ipython",
    "version": 3
   },
   "file_extension": ".py",
   "mimetype": "text/x-python",
   "name": "python",
   "nbconvert_exporter": "python",
   "pygments_lexer": "ipython3",
   "version": "3.10.3"
  },
  "orig_nbformat": 4
 },
 "nbformat": 4,
 "nbformat_minor": 2
}
