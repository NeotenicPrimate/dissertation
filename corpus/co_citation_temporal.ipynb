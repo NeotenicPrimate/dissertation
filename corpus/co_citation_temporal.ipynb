{
 "cells": [
  {
   "cell_type": "code",
   "execution_count": null,
   "metadata": {},
   "outputs": [],
   "source": [
    "%run './model/multi_corpus.py'\n",
    "%run './constants.py'\n"
   ]
  },
  {
   "cell_type": "markdown",
   "metadata": {},
   "source": [
    "# Temporal Louvain Community Number"
   ]
  },
  {
   "cell_type": "code",
   "execution_count": null,
   "metadata": {},
   "outputs": [],
   "source": [
    "temporal_dfs_path = os.path.join(OUTPUT_PATH, 'temporal_dfs')\n",
    "data = []\n",
    "field_names = []\n",
    "for file_name in os.listdir(temporal_dfs_path):\n",
    "    field_name = file_name.split('.parquet')[0]\n",
    "    df = pl.read_parquet(os.path.join(temporal_dfs_path, file_name))\n",
    "    field_names.append(field_name)\n",
    "    data.append((df['Year'], df['CumDoi']))"
   ]
  },
  {
   "cell_type": "code",
   "execution_count": null,
   "metadata": {},
   "outputs": [],
   "source": [
    "sns.reset_defaults()\n",
    "\n",
    "for field_name, (years, dois) in zip(field_names, data):\n",
    "\n",
    "    print(field_name)\n",
    "\n",
    "    df = pl.read_csv(os.path.join(OUTPUT_PATH, 'co_citation_graphs', field_name + '.edgelist'), sep=' ', has_header=False)\n",
    "    G = nx.from_pandas_edgelist(df, create_using=nx.Graph, source='column_1', target='column_2')\n",
    "\n",
    "    louvain_comms = {}\n",
    "    for year, doi in zip(years, dois):\n",
    "        G_sub = G.subgraph(doi.to_list())\n",
    "        if nx.is_empty(G_sub):\n",
    "            louvain_comms[year] = 0   \n",
    "            continue \n",
    "        comms = nx.community.louvain_communities(G_sub, seed=123)\n",
    "        louvain_comms[year] = len(comms)\n",
    "\n",
    "    fig = plt.figure(figsize=(15, 10))\n",
    "    ax = fig.add_axes([0, 0, 1, 1])\n",
    "\n",
    "    years = louvain_comms.keys()\n",
    "    louvain_comms = louvain_comms.values()\n",
    "\n",
    "    ax.plot(years, louvain_comms, 'o-', markeredgecolor='k', markerfacecolor=\"white\", linewidth=3)\n",
    "    ax.set_xlabel('Year')\n",
    "    ax.set_ylabel('Number of Communities')\n",
    "\n",
    "    ax.grid(False)\n",
    "\n",
    "    fig.tight_layout()\n",
    "\n",
    "    plt.savefig(\n",
    "        os.path.join(LATEX_FIGURES_PATH, 'co_citation_temporal_louvain_comms', f'{field_name.capitalize()}.png'), \n",
    "        transparent=True, \n",
    "        dpi=200,\n",
    "        bbox_inches='tight'\n",
    "    )\n"
   ]
  },
  {
   "cell_type": "code",
   "execution_count": null,
   "metadata": {},
   "outputs": [],
   "source": []
  },
  {
   "cell_type": "code",
   "execution_count": null,
   "metadata": {},
   "outputs": [],
   "source": []
  },
  {
   "cell_type": "code",
   "execution_count": null,
   "metadata": {},
   "outputs": [],
   "source": []
  }
 ],
 "metadata": {
  "kernelspec": {
   "display_name": "Python 3",
   "language": "python",
   "name": "python3"
  },
  "language_info": {
   "codemirror_mode": {
    "name": "ipython",
    "version": 3
   },
   "file_extension": ".py",
   "mimetype": "text/x-python",
   "name": "python",
   "nbconvert_exporter": "python",
   "pygments_lexer": "ipython3",
   "version": "3.10.3"
  },
  "orig_nbformat": 4
 },
 "nbformat": 4,
 "nbformat_minor": 2
}
