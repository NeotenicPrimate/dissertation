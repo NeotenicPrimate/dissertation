{
 "cells": [
  {
   "cell_type": "code",
   "execution_count": null,
   "metadata": {},
   "outputs": [],
   "source": [
    "%run './model/multi_corpus.py'\n",
    "%run './constants.py'\n",
    "\n",
    "import itertools"
   ]
  },
  {
   "cell_type": "code",
   "execution_count": null,
   "metadata": {},
   "outputs": [],
   "source": [
    "corpora = co_occurence_graphs(n_edges=100)\n",
    "Gs_co = {field_name: corpus['G'] for (field_name, corpus) in corpora.items()}\n",
    "Dfs_co = {field_name: corpus['Df'] for (field_name, corpus) in corpora.items()}"
   ]
  },
  {
   "cell_type": "code",
   "execution_count": null,
   "metadata": {},
   "outputs": [],
   "source": [
    "field_name = 'Sociology'\n",
    "\n",
    "G = Gs_co[field_name]\n",
    "\n",
    "hierarchical_clusters = list(nx.community.girvan_newman(G))\n",
    "\n",
    "root = set().union(*list(hierarchical_clusters[0]))\n",
    "hierarchical_clusters.insert(0, [root])\n",
    "\n",
    "tree = nx.DiGraph()\n",
    "\n",
    "for i in range(len(hierarchical_clusters)-1):\n",
    "    for (cluster_i, cluster_i1) in itertools.product(hierarchical_clusters[i], hierarchical_clusters[i+1]):\n",
    "        if cluster_i1.issubset(cluster_i):\n",
    "            parent = (i, frozenset(cluster_i))\n",
    "            child = (i+1, frozenset(cluster_i1))\n",
    "            tree.add_edge(parent, child)\n",
    "\n",
    "pos = nx.nx_agraph.graphviz_layout(tree, prog=\"twopi\", args=\"\")\n",
    "\n",
    "plt.figure(figsize=(8, 8))\n",
    "nx.draw(tree, pos, node_size=20, alpha=0.5, node_color=\"blue\", with_labels=False)\n",
    "plt.axis(\"equal\")\n",
    "\n",
    "plt.show()"
   ]
  },
  {
   "cell_type": "code",
   "execution_count": null,
   "metadata": {},
   "outputs": [],
   "source": []
  },
  {
   "cell_type": "code",
   "execution_count": null,
   "metadata": {},
   "outputs": [],
   "source": []
  },
  {
   "cell_type": "code",
   "execution_count": null,
   "metadata": {},
   "outputs": [],
   "source": []
  },
  {
   "cell_type": "code",
   "execution_count": null,
   "metadata": {},
   "outputs": [],
   "source": []
  },
  {
   "cell_type": "code",
   "execution_count": null,
   "metadata": {},
   "outputs": [],
   "source": []
  },
  {
   "cell_type": "code",
   "execution_count": null,
   "metadata": {},
   "outputs": [],
   "source": []
  }
 ],
 "metadata": {
  "kernelspec": {
   "display_name": "Python 3",
   "language": "python",
   "name": "python3"
  },
  "language_info": {
   "codemirror_mode": {
    "name": "ipython",
    "version": 3
   },
   "file_extension": ".py",
   "mimetype": "text/x-python",
   "name": "python",
   "nbconvert_exporter": "python",
   "pygments_lexer": "ipython3",
   "version": "3.10.3"
  },
  "orig_nbformat": 4
 },
 "nbformat": 4,
 "nbformat_minor": 2
}
