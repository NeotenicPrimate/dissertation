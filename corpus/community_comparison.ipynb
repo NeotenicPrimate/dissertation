{
 "cells": [
  {
   "cell_type": "code",
   "execution_count": 1,
   "metadata": {},
   "outputs": [],
   "source": [
    "%run './model/multi_corpus.py'\n",
    "%run './constants.py'"
   ]
  },
  {
   "cell_type": "code",
   "execution_count": 2,
   "metadata": {},
   "outputs": [
    {
     "data": {
      "text/plain": [
       "'0.17.0'"
      ]
     },
     "execution_count": 2,
     "metadata": {},
     "output_type": "execute_result"
    }
   ],
   "source": [
    "\n",
    "pl.__version__"
   ]
  },
  {
   "cell_type": "code",
   "execution_count": 3,
   "metadata": {},
   "outputs": [
    {
     "name": "stdout",
     "output_type": "stream",
     "text": [
      "Gender Studies Graph with 90 nodes and 100 edges\n",
      "Geometry Graph with 96 nodes and 100 edges\n",
      "Geophysics Graph with 129 nodes and 100 edges\n",
      "Economics Graph with 73 nodes and 100 edges\n",
      "Language & Linguistics Graph with 59 nodes and 100 edges\n",
      "Probability & Statistics Graph with 49 nodes and 100 edges\n",
      "Material Engineering Graph with 87 nodes and 100 edges\n",
      "Artificial Intelligence Graph with 81 nodes and 100 edges\n",
      "Sociology Graph with 64 nodes and 100 edges\n",
      "International Business Graph with 61 nodes and 100 edges\n",
      "Political Science Graph with 119 nodes and 100 edges\n",
      "Genetics & Genomics Graph with 47 nodes and 100 edges\n",
      "Immunology Graph with 114 nodes and 100 edges\n",
      "Human Resources & Organizations Graph with 91 nodes and 100 edges\n",
      "Ethnic & Cultural Studies Graph with 90 nodes and 100 edges\n",
      "Neurology Graph with 92 nodes and 100 edges\n"
     ]
    }
   ],
   "source": [
    "corpora = co_citation_graphs(n_edges=100)\n",
    "Gs_cc = {field_name: corpus['G'] for (field_name, corpus) in corpora.items()}\n",
    "Dfs_cc = {field_name: corpus['Df'] for (field_name, corpus) in corpora.items()}"
   ]
  },
  {
   "cell_type": "code",
   "execution_count": 4,
   "metadata": {},
   "outputs": [
    {
     "name": "stdout",
     "output_type": "stream",
     "text": [
      "Gender Studies Graph with 57 nodes and 100 edges\n",
      "Geometry Graph with 61 nodes and 100 edges\n",
      "Geophysics Graph with 63 nodes and 100 edges\n",
      "Economics Graph with 50 nodes and 100 edges\n",
      "Language & Linguistics Graph with 58 nodes and 100 edges\n",
      "Probability & Statistics Graph with 58 nodes and 100 edges\n",
      "Material Engineering Graph with 49 nodes and 100 edges\n",
      "Artificial Intelligence Graph with 49 nodes and 100 edges\n",
      "Sociology Graph with 76 nodes and 100 edges\n",
      "International Business Graph with 51 nodes and 100 edges\n",
      "Political Science Graph with 56 nodes and 100 edges\n",
      "Genetics & Genomics Graph with 71 nodes and 100 edges\n",
      "Immunology Graph with 92 nodes and 100 edges\n",
      "Human Resources & Organizations Graph with 66 nodes and 100 edges\n",
      "Ethnic & Cultural Studies Graph with 52 nodes and 100 edges\n",
      "Neurology Graph with 46 nodes and 100 edges\n"
     ]
    }
   ],
   "source": [
    "corpora = co_occurence_graphs(n_edges=100)\n",
    "Gs_co = {field_name: corpus['G'] for (field_name, corpus) in corpora.items()}\n",
    "Dfs_co = {field_name: corpus['Df'] for (field_name, corpus) in corpora.items()}"
   ]
  },
  {
   "cell_type": "code",
   "execution_count": 5,
   "metadata": {},
   "outputs": [],
   "source": [
    "comms_cc = {}\n",
    "for field_name, G in Gs_cc.items():\n",
    "    communities = nx_comm.louvain_communities(G)\n",
    "    comms_cc[field_name] = len(communities)\n",
    "\n",
    "comms_co = {}\n",
    "for field_name, G in Gs_co.items():\n",
    "    communities = nx_comm.louvain_communities(G)\n",
    "    comms_co[field_name] = len(communities)"
   ]
  },
  {
   "cell_type": "code",
   "execution_count": 6,
   "metadata": {},
   "outputs": [],
   "source": [
    "df_comms_cc = pl.DataFrame({\n",
    "    'Field': list(comms_cc.keys()),\n",
    "    'CCComms': list(comms_cc.values()),\n",
    "})\n",
    "\n",
    "df_comms_co = pl.DataFrame({\n",
    "    'Field': list(comms_co.keys()),\n",
    "    'COComms': list(comms_co.values()),\n",
    "})"
   ]
  },
  {
   "cell_type": "code",
   "execution_count": 7,
   "metadata": {},
   "outputs": [
    {
     "data": {
      "text/html": [
       "<div><style>\n",
       ".dataframe > thead > tr > th,\n",
       ".dataframe > tbody > tr > td {\n",
       "  text-align: right;\n",
       "}\n",
       "</style>\n",
       "<small>shape: (16, 3)</small><table border=\"1\" class=\"dataframe\"><thead><tr><th>Field</th><th>CCComms</th><th>COComms</th></tr><tr><td>str</td><td>i64</td><td>i64</td></tr></thead><tbody><tr><td>&quot;Gender Studies…</td><td>22</td><td>5</td></tr><tr><td>&quot;Geometry&quot;</td><td>31</td><td>5</td></tr><tr><td>&quot;Geophysics&quot;</td><td>44</td><td>8</td></tr><tr><td>&quot;Economics&quot;</td><td>16</td><td>5</td></tr><tr><td>&quot;Language &amp; Lin…</td><td>11</td><td>3</td></tr><tr><td>&quot;Probability &amp; …</td><td>9</td><td>6</td></tr><tr><td>&quot;Material Engin…</td><td>20</td><td>7</td></tr><tr><td>&quot;Artificial Int…</td><td>14</td><td>3</td></tr><tr><td>&quot;Sociology&quot;</td><td>12</td><td>10</td></tr><tr><td>&quot;International …</td><td>8</td><td>5</td></tr><tr><td>&quot;Political Scie…</td><td>31</td><td>5</td></tr><tr><td>&quot;Genetics &amp; Gen…</td><td>10</td><td>4</td></tr><tr><td>&quot;Immunology&quot;</td><td>39</td><td>2</td></tr><tr><td>&quot;Human Resource…</td><td>21</td><td>5</td></tr><tr><td>&quot;Ethnic &amp; Cultu…</td><td>17</td><td>6</td></tr><tr><td>&quot;Neurology&quot;</td><td>19</td><td>6</td></tr></tbody></table></div>"
      ],
      "text/plain": [
       "shape: (16, 3)\n",
       "┌─────────────────────────────────┬─────────┬─────────┐\n",
       "│ Field                           ┆ CCComms ┆ COComms │\n",
       "│ ---                             ┆ ---     ┆ ---     │\n",
       "│ str                             ┆ i64     ┆ i64     │\n",
       "╞═════════════════════════════════╪═════════╪═════════╡\n",
       "│ Gender Studies                  ┆ 22      ┆ 5       │\n",
       "│ Geometry                        ┆ 31      ┆ 5       │\n",
       "│ Geophysics                      ┆ 44      ┆ 8       │\n",
       "│ Economics                       ┆ 16      ┆ 5       │\n",
       "│ …                               ┆ …       ┆ …       │\n",
       "│ Immunology                      ┆ 39      ┆ 2       │\n",
       "│ Human Resources & Organizations ┆ 21      ┆ 5       │\n",
       "│ Ethnic & Cultural Studies       ┆ 17      ┆ 6       │\n",
       "│ Neurology                       ┆ 19      ┆ 6       │\n",
       "└─────────────────────────────────┴─────────┴─────────┘"
      ]
     },
     "execution_count": 7,
     "metadata": {},
     "output_type": "execute_result"
    }
   ],
   "source": [
    "df = df_comms_cc.join(df_comms_co, on='Field')\n",
    "df"
   ]
  },
  {
   "cell_type": "code",
   "execution_count": 9,
   "metadata": {},
   "outputs": [
    {
     "data": {
      "text/html": [
       "<div><style>\n",
       ".dataframe > thead > tr > th,\n",
       ".dataframe > tbody > tr > td {\n",
       "  text-align: right;\n",
       "}\n",
       "</style>\n",
       "<small>shape: (1, 1)</small><table border=\"1\" class=\"dataframe\"><thead><tr><th>CCComms</th></tr><tr><td>f64</td></tr></thead><tbody><tr><td>-0.003937</td></tr></tbody></table></div>"
      ],
      "text/plain": [
       "shape: (1, 1)\n",
       "┌───────────┐\n",
       "│ CCComms   │\n",
       "│ ---       │\n",
       "│ f64       │\n",
       "╞═══════════╡\n",
       "│ -0.003937 │\n",
       "└───────────┘"
      ]
     },
     "execution_count": 9,
     "metadata": {},
     "output_type": "execute_result"
    }
   ],
   "source": [
    "df.select(pl.corr('CCComms', 'COComms').alias('Corr'))"
   ]
  },
  {
   "cell_type": "code",
   "execution_count": 10,
   "metadata": {},
   "outputs": [
    {
     "data": {
      "text/plain": [
       "array([[ 1.        , -0.00393708],\n",
       "       [-0.00393708,  1.        ]])"
      ]
     },
     "execution_count": 10,
     "metadata": {},
     "output_type": "execute_result"
    }
   ],
   "source": [
    "np.corrcoef(list(comms_cc.values()), list(comms_co.values()))"
   ]
  },
  {
   "cell_type": "code",
   "execution_count": null,
   "metadata": {},
   "outputs": [],
   "source": []
  }
 ],
 "metadata": {
  "kernelspec": {
   "display_name": "Python 3",
   "language": "python",
   "name": "python3"
  },
  "language_info": {
   "codemirror_mode": {
    "name": "ipython",
    "version": 3
   },
   "file_extension": ".py",
   "mimetype": "text/x-python",
   "name": "python",
   "nbconvert_exporter": "python",
   "pygments_lexer": "ipython3",
   "version": "3.10.3"
  },
  "orig_nbformat": 4
 },
 "nbformat": 4,
 "nbformat_minor": 2
}
