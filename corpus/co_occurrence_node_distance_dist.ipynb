{
 "cells": [
  {
   "cell_type": "code",
   "execution_count": null,
   "metadata": {},
   "outputs": [],
   "source": [
    "%run './model/multi_corpus.py'\n",
    "\n",
    "\n",
    "import itertools\n",
    "from collections import Counter"
   ]
  },
  {
   "cell_type": "code",
   "execution_count": null,
   "metadata": {},
   "outputs": [],
   "source": [
    "corpora = co_occurence_graphs(n_edges=500)\n",
    "Gs = {field_name: corpus['G'] for (field_name, corpus) in corpora.items()}\n",
    "Dfs = {field_name: corpus['Df'] for (field_name, corpus) in corpora.items()}"
   ]
  },
  {
   "cell_type": "code",
   "execution_count": null,
   "metadata": {},
   "outputs": [],
   "source": [
    "from matplotlib.ticker import MaxNLocator\n",
    "\n",
    "sns.reset_defaults()\n",
    "\n",
    "for field_name, G in Gs.items():\n",
    "\n",
    "    print(field_name)\n",
    "\n",
    "    shortest_path_dist = dict(nx.all_pairs_shortest_path_length(G))\n",
    "    distances = list(itertools.chain.from_iterable([d.values() for d in shortest_path_dist.values()]))\n",
    "    dist, freq = zip(*Counter(distances).items())\n",
    "\n",
    "    fig = plt.figure(figsize=(3, 3))\n",
    "    ax = fig.add_axes([0, 0, 1, 1])\n",
    "\n",
    "    plt.bar(dist, freq, edgecolor='k')\n",
    "\n",
    "    ax.set_xlabel('Distance')\n",
    "    ax.set_ylabel('Freq')\n",
    "\n",
    "    ax.xaxis.set_major_locator(MaxNLocator(integer=True))\n",
    "    ax.yaxis.set_major_locator(MaxNLocator(integer=True))\n",
    "\n",
    "    fig.tight_layout()\n",
    "\n",
    "    plt.savefig(\n",
    "        os.path.join('./co_occurrence_node_distance_dist', f'{field_name.capitalize()}.png'), \n",
    "        transparent=True,\n",
    "        dpi=150,\n",
    "        bbox_inches='tight'\n",
    "    )"
   ]
  },
  {
   "cell_type": "code",
   "execution_count": null,
   "metadata": {},
   "outputs": [],
   "source": []
  }
 ],
 "metadata": {
  "kernelspec": {
   "display_name": "Python 3",
   "language": "python",
   "name": "python3"
  },
  "language_info": {
   "codemirror_mode": {
    "name": "ipython",
    "version": 3
   },
   "file_extension": ".py",
   "mimetype": "text/x-python",
   "name": "python",
   "nbconvert_exporter": "python",
   "pygments_lexer": "ipython3",
   "version": "3.9.6"
  },
  "orig_nbformat": 4
 },
 "nbformat": 4,
 "nbformat_minor": 2
}
