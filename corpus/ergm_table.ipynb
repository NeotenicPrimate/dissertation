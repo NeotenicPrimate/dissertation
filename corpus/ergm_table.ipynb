{
 "cells": [
  {
   "cell_type": "code",
   "execution_count": 25,
   "metadata": {},
   "outputs": [],
   "source": [
    "%run './model/multi_corpus.py'\n",
    "%run './constants.py'\n",
    "\n",
    "\n",
    "import polars as pl\n",
    "# import pandas as pd\n",
    "import os\n",
    "from scipy.stats import norm\n",
    "import arviz as az"
   ]
  },
  {
   "cell_type": "code",
   "execution_count": 26,
   "metadata": {},
   "outputs": [],
   "source": [
    "def p_value_stars(p_value):\n",
    "    match p_value:\n",
    "        case _ if p_value <= 0.001:\n",
    "            stars = '***'\n",
    "        case _ if p_value <= 0.01:\n",
    "            stars =  '**'\n",
    "        case _ if p_value <= 0.05:\n",
    "            stars =  '*'  \n",
    "        case _:\n",
    "            stars = ' '\n",
    "    return stars"
   ]
  },
  {
   "cell_type": "code",
   "execution_count": 27,
   "metadata": {},
   "outputs": [],
   "source": [
    "traces_path = os.path.join(OUTPUT_PATH, f'co_occurence_traces')\n",
    "\n",
    "co_occurence_coef = []\n",
    "co_occurence_se = []\n",
    "\n",
    "for file in os.listdir(traces_path):\n",
    "\n",
    "    field_name = file.split('.')[0]\n",
    "    trace = az.from_netcdf(os.path.join(traces_path, file))\n",
    "\n",
    "    summary = az.summary(trace, kind=\"stats\")\n",
    "    summary.index.name = 'beta'\n",
    "    df = pl.from_pandas(summary, include_index=True)\n",
    "    df = df.with_columns(pl.col('beta').str.replace('_', ' '))\n",
    "\n",
    "    df = (\n",
    "        df\n",
    "        .with_columns((pl.col('mean') / pl.col('sd')).round(4).alias('z_score'))\n",
    "        .with_columns((pl.col('z_score').abs().apply(norm.sf).round(4).alias('p_value')))\n",
    "        .with_columns(pl.col('p_value').apply(p_value_stars).alias('significance'))\n",
    "    )\n",
    "\n",
    "    df_coef = (\n",
    "        df.select(\n",
    "            pl.col('beta'),\n",
    "            pl.concat_str(\n",
    "                [\n",
    "                    pl.col('mean'),\n",
    "                    pl.col('significance')\n",
    "                ],\n",
    "                # sep=''\n",
    "            ).alias(field_name),\n",
    "        )\n",
    "    )\n",
    "\n",
    "    df_se = (\n",
    "        df.select(\n",
    "            pl.col('beta'),\n",
    "            pl.concat_str(\n",
    "                [\n",
    "                    pl.lit('('),\n",
    "                    pl.col('sd'),\n",
    "                    pl.lit(')'),\n",
    "                ]\n",
    "            ).alias(field_name),\n",
    "        )\n",
    "    )\n",
    "\n",
    "    co_occurence_coef.append(df_coef)\n",
    "    co_occurence_se.append(df_se)\n",
    "\n",
    "iter_dfs = iter(co_occurence_coef)\n",
    "co_occurence_df_coef = next(iter_dfs)\n",
    "for df in iter_dfs:\n",
    "    co_occurence_df_coef = co_occurence_df_coef.join(df, on='beta', how='inner')\n",
    "\n",
    "iter_dfs = iter(co_occurence_se)\n",
    "co_occurence_df_se = next(iter_dfs)\n",
    "for df in iter_dfs:\n",
    "    co_occurence_df_se = co_occurence_df_se.join(df, on='beta', how='inner')"
   ]
  },
  {
   "cell_type": "code",
   "execution_count": 28,
   "metadata": {},
   "outputs": [],
   "source": [
    "traces_path = os.path.join(OUTPUT_PATH, f'co_citation_traces')\n",
    "\n",
    "co_citation_coef = []\n",
    "co_citation_se = []\n",
    "\n",
    "for file in os.listdir(traces_path):\n",
    "\n",
    "    field_name = file.split('.')[0]\n",
    "    trace = az.from_netcdf(os.path.join(traces_path, file))\n",
    "\n",
    "    summary = az.summary(trace, kind=\"stats\")\n",
    "    summary.index.name = 'beta'\n",
    "    df = pl.from_pandas(summary, include_index=True)\n",
    "    df = df.with_columns(pl.col('beta').str.replace('_', ' '))\n",
    "\n",
    "    df = (\n",
    "        df\n",
    "        .with_columns((pl.col('mean') / pl.col('sd')).round(4).alias('z_score'))\n",
    "        .with_columns((pl.col('z_score').abs().apply(norm.sf).round(4).alias('p_value')))\n",
    "        .with_columns(pl.col('p_value').apply(p_value_stars).alias('significance'))\n",
    "    )\n",
    "\n",
    "    df_coef = (\n",
    "        df.select(\n",
    "            pl.col('beta'),\n",
    "            pl.concat_str(\n",
    "                [\n",
    "                    pl.col('mean'),\n",
    "                    pl.col('significance')\n",
    "                ],\n",
    "                # sep=''\n",
    "            ).alias(field_name),\n",
    "        )\n",
    "    )\n",
    "\n",
    "    df_se = (\n",
    "        df.select(\n",
    "            pl.col('beta'),\n",
    "            pl.concat_str(\n",
    "                [\n",
    "                    pl.lit('('),\n",
    "                    pl.col('sd'),\n",
    "                    pl.lit(')'),\n",
    "                ]\n",
    "            ).alias(field_name),\n",
    "        )\n",
    "    )\n",
    "\n",
    "    co_citation_coef.append(df_coef)\n",
    "    co_citation_se.append(df_se)\n",
    "\n",
    "iter_dfs = iter(co_citation_coef)\n",
    "co_citation_df_coef = next(iter_dfs)\n",
    "for df in iter_dfs:\n",
    "    co_citation_df_coef = co_citation_df_coef.join(df, on='beta', how='inner')\n",
    "\n",
    "iter_dfs = iter(co_citation_se)\n",
    "co_citation_df_se = next(iter_dfs)\n",
    "for df in iter_dfs:\n",
    "    co_citation_df_se = co_citation_df_se.join(df, on='beta', how='inner')\n",
    "\n",
    "columns = sorted(co_citation_df_coef.select(pl.all().exclude('beta')).columns)"
   ]
  },
  {
   "cell_type": "code",
   "execution_count": 29,
   "metadata": {},
   "outputs": [
    {
     "data": {
      "text/plain": [
       "['Density & -3.712*** & -5.224*** & -4.884*** & -4.97*** & -3.93*** & -4.203*** & -2.193*** & -4.793*** & -3.509*** & -5.313*** & -3.747*** & -5.434*** & -4.262*** & -5.543*** & -4.337*** & -5.081*** & -5.346*** & -6.778*** & -5.016*** & -4.924*** & -3.811*** & -5.013*** & -2.486*** & -4.592*** & -3.794*** & -5.132*** & -2.581*** & -4.825*** & -4.482*** & -5.157*** & -2.984*** & -5.485***',\n",
       " 'Triangles & 3.353*** & 0.972*** & 2.489*** & 0.664** & 2.684*** & 2.685*** & 0.546* & 0.168  & 1.274** & -0.498  & 1.732*** & 2.435*** & 1.978** & 2.385*** & 1.996*** & 0.977** & 0.614  & 0.632  & 2.565*** & 1.334*** & 2.985*** & 1.402*** & 2.494*** & 1.26*** & 1.137* & 1.447*** & 2.483*** & 2.067*** & 1.023*** & 0.583* & 2.227*** & 2.455***',\n",
       " 'Stars & 0.061*** & 0.007*** & 0.01*** & 0.011*** & 0.018*** & 0.013*** & 0.013  & 0.006*** & -0.027  & 0.003*** & -0.013  & 0.013*** & 0.193*** & 0.012*** & 0.043*** & 0.004*** & 0.003** & 0.002*** & 0.013*** & 0.005*** & 0.021*** & 0.006*** & 0.047*** & 0.008*** & -0.028* & 0.008*** & 0.046*** & 0.008*** & 0.013** & 0.005*** & -0.026* & 0.003***',\n",
       " 'Betweenness & 0.009  & 0.015  & -0.009  & -0.021  & 0.001  & 0.003  & -0.005  & 0.002  & -0.001  & 0.005  & -0.013  & -0.435  & 0.0  & -0.057  & -0.006  & -0.003  & -0.018  & 0.0  & -0.017  & -0.01  & -0.041  & -0.005  & 0.006  & -0.021  & 0.025  & -0.045  & 0.005  & -0.005  & -0.036  & -0.007  & 0.001  & -0.025 ',\n",
       " 'Closeness & -0.016  & 0.006  & -0.067  & -0.074  & -0.029  & -0.047  & -0.023  & 0.021  & -0.007  & 0.037  & -0.033  & -0.822  & 0.002  & -0.062  & -0.033  & 0.015  & -0.021  & -0.027  & -0.054  & -0.094  & -0.01  & 0.022  & -0.001  & -0.057  & -0.007  & -0.087  & -0.014  & -0.027  & -0.029  & -0.036  & -0.04  & -0.03 ',\n",
       " 'Eigenvector & 0.018  & -0.009  & -0.01  & -0.009  & 0.029  & -0.007  & 0.005  & -0.007  & 0.006  & -0.012  & -0.022  & -0.011  & -0.019  & -0.014  & -0.016  & -0.012  & -0.01  & -0.018  & 0.01  & 0.014  & 0.022  & -0.004  & -0.006  & -0.016  & -0.026  & 0.01  & -0.012  & 0.011  & 0.006  & -0.021  & -0.005  & 0.015 ',\n",
       " 'Centralization & -0.008  & -0.019  & 0.032  & -0.432  & 0.001  & 0.057  & -0.026  & -0.091  & -0.018  & 0.014  & 0.088  & -0.351  & -0.057  & 0.03  & -0.081  & -0.025  & 0.007  & 0.007  & -0.037  & 0.008  & 0.03  & -0.04  & 0.016  & 0.007  & -0.013  & -0.013  & 0.007  & -0.063  & 0.027  & -0.02  & 0.088  & 0.007 ',\n",
       " 'Clustering & 0.032  & -0.289  & 0.228  & -0.046  & 0.253  & -0.035  & 0.228  & 0.003  & 0.014  & -0.295  & 0.148  & -0.109  & 0.0  & 0.0  & -0.049  & -0.289  & -0.189  & -0.269  & 0.239  & -0.111  & 0.156  & -0.203  & 0.101  & 0.204  & -0.025  & 0.14  & 0.163  & 0.133  & 0.201  & -0.13  & 0.365  & -0.051 ',\n",
       " 'Transitivity & 0.032  & 0.012  & 0.098  & -0.008  & 0.046  & 0.023  & 0.119  & -0.022  & 0.013  & -0.013  & 0.12  & 0.004  & 0.311  & 0.014  & 0.036  & 0.005  & 0.001  & 0.004  & 0.025  & -0.016  & 0.035  & -0.003  & 0.06  & -0.007  & 0.035  & 0.002  & 0.221  & -0.035  & 0.033  & 0.003  & 0.074  & -0.002 ',\n",
       " 'Cliques & -1.04*** & 0.016  & -0.272  & 0.038  & -0.648* & -0.867*** & 0.05  & 0.226  & 0.339  & 0.496** & -0.107* & -0.489* & 0.177  & -0.264*** & -0.22  & 0.076  & 0.422  & 0.373  & -0.463** & 0.0  & -0.856*** & -0.174  & -0.764*** & -0.062  & 0.438  & -0.08* & -0.806  & -0.559** & -0.016  & 0.121* & -0.227** & -0.398 ',\n",
       " 'Components & 2.164*** & -2.356** & -0.423  & -2.008*** & 1.58*** & -1.714*** & 3.979*** & -3.257*** & 1.443** & -4.145*** & 0.495  & -2.057*** & 3.684*** & -2.922*** & 3.004*** & -4.864*** & 1.95*** & 0.111  & -1.859*** & -2.162*** & 1.582*** & -2.409*** & 3.358*** & -1.502*** & 1.414*** & -1.681*** & 2.241*** & -2.158*** & 1.789*** & -1.517** & 1.958*** & -1.03*',\n",
       " 'Gini & -0.141  & 0.034  & -0.328  & -0.021  & -0.263  & 0.013  & -0.194  & 0.058  & -0.036  & 0.01  & -0.19  & -0.208  & -0.471  & -0.133  & -0.265  & 0.061  & -0.211  & -0.017  & -0.088  & 0.011  & -0.128  & 0.048  & -0.101  & -0.034  & 0.003  & -0.018  & -0.563  & 0.01  & -0.097  & 0.002  & -0.059  & -0.015 ',\n",
       " 'Louvain & -5.128*** & 0.098  & -0.723*** & -0.446* & -2.66*** & -3.614*** & -2.689*** & 0.362  & -3.257*** & 0.123  & -0.53** & -0.675*** & -4.313*** & -0.58*** & -5.475*** & -0.515** & -6.406*** & -3.959*** & -0.718*** & -0.892*** & -4.336*** & -3.634*** & -6.43*** & -0.06  & -6.155*** & -0.203  & -1.352*** & -0.665*** & -3.05*** & 0.78** & -6.059*** & -5.339***']"
      ]
     },
     "execution_count": 29,
     "metadata": {},
     "output_type": "execute_result"
    }
   ],
   "source": [
    "coef_df = co_citation_df_coef.join(co_occurence_df_coef, how='left', on='beta')\n",
    "coef_df = coef_df.select(['beta'] + sorted(coef_df.select(pl.all().exclude('beta')).columns))\n",
    "coef_df = coef_df.with_columns(pl.col('beta').str.split(' ').arr.first())\n",
    "coef_df = coef_df.select(pl.concat_list(pl.all()).arr.join(' & ').alias('all_fields'))\n",
    "coef_df['all_fields'].to_list()"
   ]
  },
  {
   "cell_type": "code",
   "execution_count": 30,
   "metadata": {},
   "outputs": [
    {
     "data": {
      "text/html": [
       "<div><style>\n",
       ".dataframe > thead > tr > th,\n",
       ".dataframe > tbody > tr > td {\n",
       "  text-align: right;\n",
       "}\n",
       "</style>\n",
       "<small>shape: (13, 1)</small><table border=\"1\" class=\"dataframe\"><thead><tr><th>all_fields</th></tr><tr><td>str</td></tr></thead><tbody><tr><td>&quot;(0.379) &amp; (0.3…</td></tr><tr><td>&quot;(0.633) &amp; (0.2…</td></tr><tr><td>&quot;(0.009) &amp; (0.0…</td></tr><tr><td>&quot;(1.007) &amp; (0.9…</td></tr><tr><td>&quot;(1.009) &amp; (1.0…</td></tr><tr><td>&quot;(0.989) &amp; (1.0…</td></tr><tr><td>&quot;(1.015) &amp; (1.0…</td></tr><tr><td>&quot;(0.997) &amp; (0.9…</td></tr><tr><td>&quot;(1.021) &amp; (0.9…</td></tr><tr><td>&quot;(0.318) &amp; (0.0…</td></tr><tr><td>&quot;(0.501) &amp; (0.8…</td></tr><tr><td>&quot;(0.998) &amp; (1.0…</td></tr><tr><td>&quot;(0.391) &amp; (0.3…</td></tr></tbody></table></div>"
      ],
      "text/plain": [
       "shape: (13, 1)\n",
       "┌───────────────────────────────────┐\n",
       "│ all_fields                        │\n",
       "│ ---                               │\n",
       "│ str                               │\n",
       "╞═══════════════════════════════════╡\n",
       "│ (0.379) & (0.349) & (0.339) & (0… │\n",
       "│ (0.633) & (0.238) & (0.522) & (0… │\n",
       "│ (0.009) & (0.001) & (0.003) & (0… │\n",
       "│ (1.007) & (0.989) & (0.99) & (1.… │\n",
       "│ …                                 │\n",
       "│ (0.318) & (0.036) & (0.211) & (0… │\n",
       "│ (0.501) & (0.859) & (0.421) & (0… │\n",
       "│ (0.998) & (1.02) & (1.002) & (1.… │\n",
       "│ (0.391) & (0.339) & (0.171) & (0… │\n",
       "└───────────────────────────────────┘"
      ]
     },
     "execution_count": 30,
     "metadata": {},
     "output_type": "execute_result"
    }
   ],
   "source": [
    "se_df = co_citation_df_se.join(co_occurence_df_se, how='left', on='beta')\n",
    "se_df = se_df.select(['beta'] + sorted(se_df.select(pl.all().exclude('beta')).columns))\n",
    "se_df = se_df.select(pl.concat_list(pl.all().exclude('beta')).arr.join(' & ').alias('all_fields'))\n",
    "se_df"
   ]
  },
  {
   "cell_type": "code",
   "execution_count": 31,
   "metadata": {},
   "outputs": [
    {
     "name": "stdout",
     "output_type": "stream",
     "text": [
      "Density & -3.712*** & -5.224*** & -4.884*** & -4.97*** & -3.93*** & -4.203*** & -2.193*** & -4.793*** & -3.509*** & -5.313*** & -3.747*** & -5.434*** & -4.262*** & -5.543*** & -4.337*** & -5.081*** & -5.346*** & -6.778*** & -5.016*** & -4.924*** & -3.811*** & -5.013*** & -2.486*** & -4.592*** & -3.794*** & -5.132*** & -2.581*** & -4.825*** & -4.482*** & -5.157*** & -2.984*** & -5.485*** \\\\ \n",
      " & (0.379) & (0.349) & (0.339) & (0.323) & (0.385) & (0.246) & (0.302) & (0.298) & (0.492) & (0.34) & (0.365) & (0.308) & (0.536) & (0.285) & (0.398) & (0.245) & (0.663) & (0.501) & (0.286) & (0.252) & (0.294) & (0.277) & (0.361) & (0.288) & (0.438) & (0.336) & (0.644) & (0.292) & (0.346) & (0.34) & (0.312) & (0.318) \\\\ \n",
      " \\addlinespace[0.5em] \n",
      "Triangles & 3.353*** & 0.972*** & 2.489*** & 0.664** & 2.684*** & 2.685*** & 0.546* & 0.168  & 1.274** & -0.498  & 1.732*** & 2.435*** & 1.978** & 2.385*** & 1.996*** & 0.977** & 0.614  & 0.632  & 2.565*** & 1.334*** & 2.985*** & 1.402*** & 2.494*** & 1.26*** & 1.137* & 1.447*** & 2.483*** & 2.067*** & 1.023*** & 0.583* & 2.227*** & 2.455*** \\\\ \n",
      " & (0.633) & (0.238) & (0.522) & (0.241) & (0.521) & (0.379) & (0.297) & (0.513) & (0.502) & (0.505) & (0.325) & (0.481) & (0.762) & (0.287) & (0.614) & (0.394) & (0.787) & (0.822) & (0.399) & (0.409) & (0.459) & (0.366) & (0.577) & (0.284) & (0.506) & (0.242) & (0.703) & (0.503) & (0.194) & (0.332) & (0.315) & (0.596) \\\\ \n",
      " \\addlinespace[0.5em] \n",
      "Stars & 0.061*** & 0.007*** & 0.01*** & 0.011*** & 0.018*** & 0.013*** & 0.013  & 0.006*** & -0.027  & 0.003*** & -0.013  & 0.013*** & 0.193*** & 0.012*** & 0.043*** & 0.004*** & 0.003** & 0.002*** & 0.013*** & 0.005*** & 0.021*** & 0.006*** & 0.047*** & 0.008*** & -0.028* & 0.008*** & 0.046*** & 0.008*** & 0.013** & 0.005*** & -0.026* & 0.003*** \\\\ \n",
      " & (0.009) & (0.001) & (0.003) & (0.001) & (0.003) & (0.003) & (0.01) & (0.0) & (0.018) & (0.0) & (0.008) & (0.001) & (0.033) & (0.002) & (0.005) & (0.0) & (0.001) & (0.0) & (0.002) & (0.001) & (0.006) & (0.001) & (0.01) & (0.001) & (0.017) & (0.001) & (0.014) & (0.001) & (0.005) & (0.0) & (0.014) & (0.0) \\\\ \n",
      " \\addlinespace[0.5em] \n",
      "Betweenness & 0.009  & 0.015  & -0.009  & -0.021  & 0.001  & 0.003  & -0.005  & 0.002  & -0.001  & 0.005  & -0.013  & -0.435  & 0.0  & -0.057  & -0.006  & -0.003  & -0.018  & 0.0  & -0.017  & -0.01  & -0.041  & -0.005  & 0.006  & -0.021  & 0.025  & -0.045  & 0.005  & -0.005  & -0.036  & -0.007  & 0.001  & -0.025  \\\\ \n",
      " & (1.007) & (0.989) & (0.99) & (1.02) & (0.982) & (0.996) & (0.995) & (0.98) & (0.965) & (0.993) & (1.005) & (0.998) & (1.005) & (1.026) & (0.984) & (1.026) & (1.009) & (0.987) & (1.005) & (0.998) & (1.002) & (1.01) & (0.994) & (1.014) & (1.021) & (0.998) & (0.991) & (0.997) & (0.989) & (1.012) & (0.99) & (1.002) \\\\ \n",
      " \\addlinespace[0.5em] \n",
      "Closeness & -0.016  & 0.006  & -0.067  & -0.074  & -0.029  & -0.047  & -0.023  & 0.021  & -0.007  & 0.037  & -0.033  & -0.822  & 0.002  & -0.062  & -0.033  & 0.015  & -0.021  & -0.027  & -0.054  & -0.094  & -0.01  & 0.022  & -0.001  & -0.057  & -0.007  & -0.087  & -0.014  & -0.027  & -0.029  & -0.036  & -0.04  & -0.03  \\\\ \n",
      " & (1.009) & (1.006) & (0.998) & (0.986) & (0.994) & (1.002) & (1.015) & (1.011) & (1.001) & (0.998) & (0.999) & (1.013) & (0.997) & (1.027) & (0.997) & (0.98) & (1.022) & (1.004) & (1.001) & (1.009) & (1.001) & (1.001) & (0.974) & (1.013) & (0.97) & (0.991) & (0.982) & (1.0) & (1.003) & (0.986) & (0.988) & (0.991) \\\\ \n",
      " \\addlinespace[0.5em] \n",
      "Eigenvector & 0.018  & -0.009  & -0.01  & -0.009  & 0.029  & -0.007  & 0.005  & -0.007  & 0.006  & -0.012  & -0.022  & -0.011  & -0.019  & -0.014  & -0.016  & -0.012  & -0.01  & -0.018  & 0.01  & 0.014  & 0.022  & -0.004  & -0.006  & -0.016  & -0.026  & 0.01  & -0.012  & 0.011  & 0.006  & -0.021  & -0.005  & 0.015  \\\\ \n",
      " & (0.989) & (1.002) & (1.012) & (1.024) & (1.024) & (0.99) & (1.0) & (0.985) & (0.998) & (1.009) & (0.997) & (0.982) & (0.995) & (0.998) & (0.977) & (1.004) & (1.006) & (1.015) & (1.006) & (1.017) & (0.994) & (1.013) & (0.99) & (0.982) & (0.99) & (1.003) & (0.985) & (0.981) & (0.983) & (0.98) & (1.009) & (0.999) \\\\ \n",
      " \\addlinespace[0.5em] \n",
      "Centralization & -0.008  & -0.019  & 0.032  & -0.432  & 0.001  & 0.057  & -0.026  & -0.091  & -0.018  & 0.014  & 0.088  & -0.351  & -0.057  & 0.03  & -0.081  & -0.025  & 0.007  & 0.007  & -0.037  & 0.008  & 0.03  & -0.04  & 0.016  & 0.007  & -0.013  & -0.013  & 0.007  & -0.063  & 0.027  & -0.02  & 0.088  & 0.007  \\\\ \n",
      " & (1.015) & (1.013) & (1.017) & (1.017) & (1.015) & (0.999) & (1.004) & (1.003) & (0.998) & (1.03) & (0.986) & (0.991) & (0.994) & (1.005) & (0.991) & (0.986) & (1.019) & (1.004) & (1.029) & (1.007) & (0.998) & (0.993) & (1.003) & (0.989) & (0.993) & (1.004) & (0.998) & (1.043) & (0.995) & (1.016) & (1.01) & (0.984) \\\\ \n",
      " \\addlinespace[0.5em] \n",
      "Clustering & 0.032  & -0.289  & 0.228  & -0.046  & 0.253  & -0.035  & 0.228  & 0.003  & 0.014  & -0.295  & 0.148  & -0.109  & 0.0  & 0.0  & -0.049  & -0.289  & -0.189  & -0.269  & 0.239  & -0.111  & 0.156  & -0.203  & 0.101  & 0.204  & -0.025  & 0.14  & 0.163  & 0.133  & 0.201  & -0.13  & 0.365  & -0.051  \\\\ \n",
      " & (0.997) & (0.978) & (0.973) & (0.996) & (0.985) & (0.996) & (0.99) & (1.002) & (0.998) & (1.027) & (0.985) & (1.0) & (0.992) & (0.99) & (0.999) & (1.0) & (0.987) & (0.994) & (1.003) & (0.986) & (0.978) & (0.982) & (1.009) & (0.996) & (1.002) & (1.019) & (0.999) & (0.974) & (0.992) & (0.986) & (0.998) & (1.002) \\\\ \n",
      " \\addlinespace[0.5em] \n",
      "Transitivity & 0.032  & 0.012  & 0.098  & -0.008  & 0.046  & 0.023  & 0.119  & -0.022  & 0.013  & -0.013  & 0.12  & 0.004  & 0.311  & 0.014  & 0.036  & 0.005  & 0.001  & 0.004  & 0.025  & -0.016  & 0.035  & -0.003  & 0.06  & -0.007  & 0.035  & 0.002  & 0.221  & -0.035  & 0.033  & 0.003  & 0.074  & -0.002  \\\\ \n",
      " & (1.021) & (0.996) & (0.996) & (0.993) & (0.996) & (1.002) & (1.018) & (1.01) & (1.006) & (0.989) & (1.003) & (0.991) & (1.0) & (1.002) & (0.996) & (0.996) & (0.998) & (0.991) & (0.991) & (0.995) & (0.99) & (0.984) & (1.002) & (1.022) & (1.003) & (0.994) & (1.029) & (0.99) & (1.019) & (0.999) & (1.004) & (0.998) \\\\ \n",
      " \\addlinespace[0.5em] \n",
      "Cliques & -1.04*** & 0.016  & -0.272  & 0.038  & -0.648* & -0.867*** & 0.05  & 0.226  & 0.339  & 0.496** & -0.107* & -0.489* & 0.177  & -0.264*** & -0.22  & 0.076  & 0.422  & 0.373  & -0.463** & 0.0  & -0.856*** & -0.174  & -0.764*** & -0.062  & 0.438  & -0.08* & -0.806  & -0.559** & -0.016  & 0.121* & -0.227** & -0.398  \\\\ \n",
      " & (0.318) & (0.036) & (0.211) & (0.044) & (0.354) & (0.183) & (0.059) & (0.232) & (0.266) & (0.185) & (0.065) & (0.215) & (0.414) & (0.058) & (0.215) & (0.156) & (0.533) & (0.414) & (0.154) & (0.164) & (0.211) & (0.134) & (0.209) & (0.075) & (0.32) & (0.041) & (0.542) & (0.232) & (0.018) & (0.061) & (0.074) & (0.294) \\\\ \n",
      " \\addlinespace[0.5em] \n",
      "Components & 2.164*** & -2.356** & -0.423  & -2.008*** & 1.58*** & -1.714*** & 3.979*** & -3.257*** & 1.443** & -4.145*** & 0.495  & -2.057*** & 3.684*** & -2.922*** & 3.004*** & -4.864*** & 1.95*** & 0.111  & -1.859*** & -2.162*** & 1.582*** & -2.409*** & 3.358*** & -1.502*** & 1.414*** & -1.681*** & 2.241*** & -2.158*** & 1.789*** & -1.517** & 1.958*** & -1.03* \\\\ \n",
      " & (0.501) & (0.859) & (0.421) & (0.424) & (0.417) & (0.441) & (0.451) & (0.736) & (0.562) & (0.655) & (0.415) & (0.368) & (0.594) & (0.334) & (0.582) & (0.551) & (0.55) & (0.82) & (0.359) & (0.403) & (0.458) & (0.74) & (0.529) & (0.413) & (0.45) & (0.429) & (0.427) & (0.445) & (0.403) & (0.515) & (0.438) & (0.471) \\\\ \n",
      " \\addlinespace[0.5em] \n",
      "Gini & -0.141  & 0.034  & -0.328  & -0.021  & -0.263  & 0.013  & -0.194  & 0.058  & -0.036  & 0.01  & -0.19  & -0.208  & -0.471  & -0.133  & -0.265  & 0.061  & -0.211  & -0.017  & -0.088  & 0.011  & -0.128  & 0.048  & -0.101  & -0.034  & 0.003  & -0.018  & -0.563  & 0.01  & -0.097  & 0.002  & -0.059  & -0.015  \\\\ \n",
      " & (0.998) & (1.02) & (1.002) & (1.007) & (0.986) & (0.994) & (1.021) & (1.006) & (0.995) & (1.007) & (0.985) & (0.989) & (0.988) & (1.007) & (0.988) & (0.998) & (1.001) & (1.018) & (0.995) & (0.981) & (0.999) & (1.011) & (0.982) & (1.006) & (0.975) & (0.99) & (1.002) & (0.99) & (0.988) & (0.996) & (1.032) & (1.003) \\\\ \n",
      " \\addlinespace[0.5em] \n",
      "Louvain & -5.128*** & 0.098  & -0.723*** & -0.446* & -2.66*** & -3.614*** & -2.689*** & 0.362  & -3.257*** & 0.123  & -0.53** & -0.675*** & -4.313*** & -0.58*** & -5.475*** & -0.515** & -6.406*** & -3.959*** & -0.718*** & -0.892*** & -4.336*** & -3.634*** & -6.43*** & -0.06  & -6.155*** & -0.203  & -1.352*** & -0.665*** & -3.05*** & 0.78** & -6.059*** & -5.339*** \\\\ \n",
      " & (0.391) & (0.339) & (0.171) & (0.204) & (0.387) & (0.458) & (0.392) & (0.236) & (0.501) & (0.258) & (0.187) & (0.16) & (0.454) & (0.144) & (0.423) & (0.21) & (0.386) & (0.67) & (0.169) & (0.259) & (0.411) & (0.659) & (0.384) & (0.19) & (0.506) & (0.152) & (0.16) & (0.198) & (0.257) & (0.288) & (0.512) & (0.543) \\\\ \n",
      " \\addlinespace[0.5em] \n",
      "\n"
     ]
    }
   ],
   "source": [
    "coef_df = coef_df['all_fields'].to_list()\n",
    "se_df = se_df['all_fields'].to_list()\n",
    "\n",
    "row_str = ''\n",
    "for i in range(len(se_df)):\n",
    "    row_str += f'{coef_df[i]} \\\\\\ \\n & {se_df[i]} \\\\\\ \\n \\\\addlinespace[0.5em] \\n'\n",
    "\n",
    "print(row_str)"
   ]
  },
  {
   "cell_type": "code",
   "execution_count": 32,
   "metadata": {},
   "outputs": [
    {
     "name": "stdout",
     "output_type": "stream",
     "text": [
      "$G_{c}$ & $G_{o}$ \n",
      "& $G_{c}$ & $G_{o}$ \n",
      "& $G_{c}$ & $G_{o}$ \n",
      "& $G_{c}$ & $G_{o}$ \n",
      "& $G_{c}$ & $G_{o}$ \n",
      "& $G_{c}$ & $G_{o}$ \n",
      "& $G_{c}$ & $G_{o}$ \n",
      "& $G_{c}$ & $G_{o}$ \n",
      "& $G_{c}$ & $G_{o}$ \n",
      "& $G_{c}$ & $G_{o}$ \n",
      "& $G_{c}$ & $G_{o}$ \n",
      "& $G_{c}$ & $G_{o}$ \n",
      "& $G_{c}$ & $G_{o}$ \n",
      "& $G_{c}$ & $G_{o}$ \n",
      "& $G_{c}$ & $G_{o}$ \n",
      "& $G_{c}$ & $G_{o}$\n"
     ]
    }
   ],
   "source": [
    "new_sub_columns = ' \\n& '.join(['$G_{c}$ & $G_{o}$' for _ in columns])\n",
    "print(new_sub_columns)"
   ]
  },
  {
   "cell_type": "code",
   "execution_count": 33,
   "metadata": {},
   "outputs": [
    {
     "name": "stdout",
     "output_type": "stream",
     "text": [
      "cccccccccccccccccccccccccccccccc\n"
     ]
    }
   ],
   "source": [
    "alignments = ''.join(['c']*len(columns)*2)\n",
    "print(alignments)"
   ]
  },
  {
   "cell_type": "code",
   "execution_count": 34,
   "metadata": {},
   "outputs": [
    {
     "name": "stdout",
     "output_type": "stream",
     "text": [
      "\\multicolumn{2}{c}{ \\begin{tabular}{cc} Artificial \\\\ Intelligence \\end{tabular} } \n",
      "& \\multicolumn{2}{c}{ \\begin{tabular}{cc} Economics \\end{tabular} } \n",
      "& \\multicolumn{2}{c}{ \\begin{tabular}{cc} Ethnic \\& \\\\ Cultural Studies \\end{tabular} } \n",
      "& \\multicolumn{2}{c}{ \\begin{tabular}{cc} Gender \\\\ Studies \\end{tabular} } \n",
      "& \\multicolumn{2}{c}{ \\begin{tabular}{cc} Genetics \\& \\\\ Genomics \\end{tabular} } \n",
      "& \\multicolumn{2}{c}{ \\begin{tabular}{cc} Geometry \\end{tabular} } \n",
      "& \\multicolumn{2}{c}{ \\begin{tabular}{cc} Geophysics \\end{tabular} } \n",
      "& \\multicolumn{2}{c}{ \\begin{tabular}{cc} Human Resources \\& \\\\ Organizations \\end{tabular} } \n",
      "& \\multicolumn{2}{c}{ \\begin{tabular}{cc} Immunology \\end{tabular} } \n",
      "& \\multicolumn{2}{c}{ \\begin{tabular}{cc} International \\\\ Business \\end{tabular} } \n",
      "& \\multicolumn{2}{c}{ \\begin{tabular}{cc} Language \\& \\\\ Linguistics \\end{tabular} } \n",
      "& \\multicolumn{2}{c}{ \\begin{tabular}{cc} Material \\\\ Engineering \\end{tabular} } \n",
      "& \\multicolumn{2}{c}{ \\begin{tabular}{cc} Neurology \\end{tabular} } \n",
      "& \\multicolumn{2}{c}{ \\begin{tabular}{cc} Political \\\\ Science \\end{tabular} } \n",
      "& \\multicolumn{2}{c}{ \\begin{tabular}{cc} Probability \\& \\\\ Statistics \\end{tabular} } \n",
      "& \\multicolumn{2}{c}{ \\begin{tabular}{cc} Sociology \\end{tabular} }\n"
     ]
    }
   ],
   "source": [
    "\n",
    "new_columns = []\n",
    "for col in columns:\n",
    "    \n",
    "    if ' & ' in col:\n",
    "        first, second = col.split(' & ')\n",
    "        s = f'\\\\multicolumn{{2}}{{c}}{{ \\\\begin{{tabular}}{{cc}} {first} \\& \\\\\\ {second} \\\\end{{tabular}} }}'\n",
    "        new_columns.append(s)\n",
    "    elif ' ' in col:\n",
    "        first, second = col.split(' ')\n",
    "        s = f'\\\\multicolumn{{2}}{{c}}{{ \\\\begin{{tabular}}{{cc}} {first} \\\\\\ {second} \\\\end{{tabular}} }}'\n",
    "        new_columns.append(s)\n",
    "    else:\n",
    "        s = f'\\\\multicolumn{{2}}{{c}}{{ \\\\begin{{tabular}}{{cc}} {col} \\\\end{{tabular}} }}'\n",
    "        new_columns.append(s)\n",
    "new_columns = ' \\n& '.join(new_columns)\n",
    "print(new_columns)"
   ]
  },
  {
   "cell_type": "code",
   "execution_count": 35,
   "metadata": {},
   "outputs": [
    {
     "name": "stdout",
     "output_type": "stream",
     "text": [
      "\\cmidrule(lr){2-3} \n",
      "\\cmidrule(lr){4-5} \n",
      "\\cmidrule(lr){6-7} \n",
      "\\cmidrule(lr){8-9} \n",
      "\\cmidrule(lr){10-11} \n",
      "\\cmidrule(lr){12-13} \n",
      "\\cmidrule(lr){14-15} \n",
      "\\cmidrule(lr){16-17} \n",
      "\\cmidrule(lr){18-19} \n",
      "\\cmidrule(lr){20-21} \n",
      "\\cmidrule(lr){22-23} \n",
      "\\cmidrule(lr){24-25} \n",
      "\\cmidrule(lr){26-27} \n",
      "\\cmidrule(lr){28-29} \n",
      "\\cmidrule(lr){30-31} \n",
      "\\cmidrule(lr){32-33} \n",
      "\n"
     ]
    }
   ],
   "source": [
    "mid_rules = ''\n",
    "for i in range(2, len(columns)*2+1, 2):\n",
    "    mid_rules += f'\\\\cmidrule(lr){{{i}-{i+1}}} \\n'\n",
    "\n",
    "print(mid_rules)"
   ]
  },
  {
   "cell_type": "code",
   "execution_count": 36,
   "metadata": {},
   "outputs": [],
   "source": [
    "table_str = f\"\"\"\n",
    "\\\\begin{{tabular}}{{l*{{{len(columns)*2}}}{{c}}}}\n",
    "\\\\toprule\n",
    "\\\\addlinespace[0.7em]\n",
    "& {new_columns} \\\\\\ \n",
    "{mid_rules}\n",
    "& {new_sub_columns} \\\\\\ \n",
    "\\\\midrule\n",
    "\\\\midrule\n",
    "\\\\addlinespace[0.5em]\n",
    "{row_str}\n",
    "\\\\bottomrule\n",
    "\\end{{tabular}}\n",
    "\n",
    "\"\"\"\n",
    "\n",
    "with open(os.path.join(LATEX_TABLE_PATH, 'ergm.tex'), \"w+\") as file:\n",
    "    file.write(table_str)"
   ]
  },
  {
   "cell_type": "code",
   "execution_count": null,
   "metadata": {},
   "outputs": [],
   "source": []
  },
  {
   "cell_type": "code",
   "execution_count": null,
   "metadata": {},
   "outputs": [],
   "source": []
  },
  {
   "cell_type": "code",
   "execution_count": null,
   "metadata": {},
   "outputs": [],
   "source": []
  },
  {
   "cell_type": "code",
   "execution_count": null,
   "metadata": {},
   "outputs": [],
   "source": []
  }
 ],
 "metadata": {
  "kernelspec": {
   "display_name": "Python 3",
   "language": "python",
   "name": "python3"
  },
  "language_info": {
   "codemirror_mode": {
    "name": "ipython",
    "version": 3
   },
   "file_extension": ".py",
   "mimetype": "text/x-python",
   "name": "python",
   "nbconvert_exporter": "python",
   "pygments_lexer": "ipython3",
   "version": "3.10.3"
  },
  "orig_nbformat": 4
 },
 "nbformat": 4,
 "nbformat_minor": 2
}
