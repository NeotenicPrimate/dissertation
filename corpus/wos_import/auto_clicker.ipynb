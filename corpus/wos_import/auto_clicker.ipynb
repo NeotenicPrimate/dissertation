{
 "cells": [
  {
   "cell_type": "code",
   "execution_count": 9,
   "metadata": {},
   "outputs": [],
   "source": [
    "import numpy as np\n",
    "import pyautogui as ag\n",
    "import os\n",
    "import time\n",
    "\n",
    "import polars as pl"
   ]
  },
  {
   "cell_type": "code",
   "execution_count": 15,
   "metadata": {},
   "outputs": [],
   "source": [
    "cols = {\n",
    "    \"DI\": \"Doi\",\n",
    "    \"AU\": \"Authors\", \n",
    "    \"PY\": \"Year\",\n",
    "    \"PD\": \"Month\",\n",
    "    \"TI\": \"Title\",\n",
    "    \"AB\": \"Abstract\",\n",
    "    \"SO\": \"Journal\",\n",
    "    \"DE\": \"AuthorKeywords\",\n",
    "    \"ID\": \"WosKeywords\",\n",
    "    \"WC\": \"Category\",\n",
    "    \"SC\": \"Areas\",\n",
    "    \"CR\": \"References\",\n",
    "} \n",
    "\n",
    "corpora = {}\n",
    "\n",
    "data_path = '../data'\n",
    "for field in os.listdir(data_path):\n",
    "    full_path = f'{data_path}/{field}/savedrecs*.txt'\n",
    "    df = pl.read_csv(\n",
    "        file=full_path,\n",
    "        has_header=True, \n",
    "        columns=list(cols.keys()),\n",
    "        new_columns=list(cols.values()),\n",
    "        sep=\"\\t\",\n",
    "        dtypes=dict(zip(cols.keys(), [pl.Utf8] * len(cols))),\n",
    "        null_values=None,\n",
    "        ignore_errors=False,\n",
    "        parse_dates=False,\n",
    "        n_threads=None,\n",
    "        infer_schema_length=100,\n",
    "    )\n",
    "    corpora[field] = df\n"
   ]
  },
  {
   "cell_type": "code",
   "execution_count": null,
   "metadata": {},
   "outputs": [],
   "source": [
    "corpora"
   ]
  },
  {
   "cell_type": "code",
   "execution_count": 67,
   "metadata": {},
   "outputs": [],
   "source": [
    "num_docs = 6_818\n",
    "\n",
    "start = np.arange(1, num_docs+1, 500)\n",
    "end = np.arange(500, num_docs+1, 500)\n",
    "\n",
    "doc_ranges = list(zip(start, end))\n",
    "\n",
    "if not end[-1] == num_docs:\n",
    "    doc_ranges.append((end[-1]+1, num_docs))"
   ]
  },
  {
   "cell_type": "code",
   "execution_count": 66,
   "metadata": {},
   "outputs": [],
   "source": [
    "time.sleep(2)\n",
    "\n",
    "current_len_downloads = 0\n",
    "for (start_record, end_record) in doc_ranges:\n",
    "\n",
    "    export_button_1 = (758, 481)\n",
    "    ag.click(export_button_1)\n",
    "    time.sleep(0.5)\n",
    "\n",
    "    tab_delimited_file_button = (765, 694)\n",
    "    # tab_delimited_file_button = (779, 725)\n",
    "    # tab_delimited_file_button = (817, 337)a2501\n",
    "    ag.click(tab_delimited_file_button)\n",
    "    time.sleep(0.5)\n",
    "\n",
    "    records_from_button = (553, 586)\n",
    "    # records_from_button = (554, 573)\n",
    "    ag.click(records_from_button)\n",
    "    time.sleep(0.5)\n",
    "\n",
    "    first_number = (681, 598)\n",
    "    # first_number = (682, 587)\n",
    "    ag.click(first_number)\n",
    "    with ag.hold('command'):\n",
    "        ag.press('a')\n",
    "    ag.write(str(start_record))\n",
    "    time.sleep(0.5)\n",
    "\n",
    "    second_number = (768, 598)\n",
    "    # second_number = (766, 586)\n",
    "    ag.click(second_number)\n",
    "    with ag.hold('command'):\n",
    "        ag.press('a')\n",
    "    ag.write(str(end_record))\n",
    "    time.sleep(0.5)\n",
    "\n",
    "    record_content = (908, 720)\n",
    "    ag.click(record_content)\n",
    "    \n",
    "    time.sleep(0.5)\n",
    "\n",
    "    full_record_and_cited_references = (747, 822)\n",
    "    ag.click(full_record_and_cited_references)\n",
    "    time.sleep(0.5)\n",
    "\n",
    "    export_button_2 = (568, 772)\n",
    "    ag.click(export_button_2)\n",
    "    \n",
    "    while True:\n",
    "        \n",
    "        download_files = os.listdir('/Users/vladimirborel/Downloads/')\n",
    "        filtered_download_files = list(filter(lambda s: s.startswith('savedrecs'), download_files))\n",
    "        len_filtered_download_files = len(filtered_download_files)\n",
    "\n",
    "        if len_filtered_download_files != current_len_downloads:\n",
    "            current_len_downloads += 1\n",
    "            break\n",
    "    \n",
    "    time.sleep(0.5)\n"
   ]
  },
  {
   "cell_type": "code",
   "execution_count": 62,
   "metadata": {},
   "outputs": [
    {
     "data": {
      "text/plain": [
       "Point(x=765, y=694)"
      ]
     },
     "execution_count": 62,
     "metadata": {},
     "output_type": "execute_result"
    }
   ],
   "source": [
    "ag.position()"
   ]
  },
  {
   "cell_type": "code",
   "execution_count": 9,
   "metadata": {},
   "outputs": [],
   "source": []
  },
  {
   "cell_type": "code",
   "execution_count": 70,
   "metadata": {},
   "outputs": [
    {
     "data": {
      "text/plain": [
       "13.0"
      ]
     },
     "execution_count": 70,
     "metadata": {},
     "output_type": "execute_result"
    }
   ],
   "source": [
    "np.ceil(6100/500)"
   ]
  },
  {
   "cell_type": "code",
   "execution_count": null,
   "metadata": {},
   "outputs": [],
   "source": []
  },
  {
   "cell_type": "code",
   "execution_count": null,
   "metadata": {},
   "outputs": [],
   "source": []
  },
  {
   "cell_type": "code",
   "execution_count": null,
   "metadata": {},
   "outputs": [],
   "source": []
  }
 ],
 "metadata": {
  "kernelspec": {
   "display_name": "Python 3.10.3 64-bit",
   "language": "python",
   "name": "python3"
  },
  "language_info": {
   "codemirror_mode": {
    "name": "ipython",
    "version": 3
   },
   "file_extension": ".py",
   "mimetype": "text/x-python",
   "name": "python",
   "nbconvert_exporter": "python",
   "pygments_lexer": "ipython3",
   "version": "3.10.3"
  },
  "orig_nbformat": 4,
  "vscode": {
   "interpreter": {
    "hash": "aee8b7b246df8f9039afb4144a1f6fd8d2ca17a180786b69acc140d282b71a49"
   }
  }
 },
 "nbformat": 4,
 "nbformat_minor": 2
}
