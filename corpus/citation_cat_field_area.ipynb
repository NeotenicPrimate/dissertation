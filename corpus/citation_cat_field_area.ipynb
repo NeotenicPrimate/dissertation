{
 "cells": [
  {
   "cell_type": "code",
   "execution_count": null,
   "metadata": {},
   "outputs": [],
   "source": [
    "%run './model/multi_corpus.py'\n",
    "%run './constants.py'\n",
    "\n",
    "from matplotlib import cm"
   ]
  },
  {
   "cell_type": "code",
   "execution_count": null,
   "metadata": {},
   "outputs": [],
   "source": [
    "corpora = citation_graphs()\n",
    "Gs = {field_name: corpus['G'] for (field_name, corpus) in corpora.items()}\n",
    "Dfs = {field_name: corpus['Df'] for (field_name, corpus) in corpora.items()}"
   ]
  },
  {
   "cell_type": "markdown",
   "metadata": {},
   "source": [
    "# Journal"
   ]
  },
  {
   "cell_type": "code",
   "execution_count": null,
   "metadata": {},
   "outputs": [],
   "source": [
    "n_cols = 2\n",
    "height = 6\n",
    "width = 8\n",
    "n_rows = np.ceil(len(corpora) / n_cols)\n",
    "\n",
    "fig, axs = plt.subplots(int(n_rows), int(n_cols), figsize=(n_cols*width, n_rows*height))\n",
    "for ax, (field_name, corpus) in zip(axs.flatten(), corpora.items()):\n",
    "\n",
    "    journals, counts = corpus['Df'].groupby('Journal').agg([pl.count()]).sort(pl.col('count'), descending=True)\n",
    "    journals = journals.to_list()[:5]\n",
    "    journals = [''.join([word[0].capitalize() for word in journal.split(' ') if len(word) > 2]) for journal in journals]\n",
    "\n",
    "    counts = counts.to_list()[:5]\n",
    "\n",
    "    ax.bar(journals, counts, edgecolor='k')\n",
    "    ax.set_xlabel('Journal')\n",
    "    ax.set_ylabel('Freq')\n",
    "\n",
    "    ax.set_xticks(range(len(journals)), journals, rotation=45, ha='right')\n",
    "\n",
    "\n",
    "    ax.set_title(f'{field_name.capitalize()}\\nJournals', fontweight='semibold', fontsize=20)\n",
    "\n",
    "    ax.spines['top'].set_color('k')\n",
    "    ax.spines['top'].set_linewidth(1)\n",
    "    ax.spines['bottom'].set_color('k')\n",
    "    ax.spines['bottom'].set_linewidth(1)\n",
    "    ax.spines['right'].set_color('k')\n",
    "    ax.spines['right'].set_linewidth(1)\n",
    "    ax.spines['left'].set_color('k')\n",
    "    ax.spines['left'].set_linewidth(1)\n",
    "\n",
    "fig.set_facecolor('w')\n",
    "plt.tight_layout()\n",
    "plt.savefig(f'{OBSIDIAN_IMG_PATH}/journals.png')\n",
    "plt.show()"
   ]
  },
  {
   "cell_type": "markdown",
   "metadata": {},
   "source": [
    "# Category"
   ]
  },
  {
   "cell_type": "code",
   "execution_count": null,
   "metadata": {},
   "outputs": [],
   "source": [
    "n_cols = 2\n",
    "height = 6\n",
    "width = 8\n",
    "n_rows = np.ceil(len(corpora) / n_cols)\n",
    "\n",
    "fig, axs = plt.subplots(int(n_rows), int(n_cols), figsize=(n_cols*width, n_rows*height))\n",
    "for ax, (field_name, corpus) in zip(axs.flatten(), corpora.items()):\n",
    "\n",
    "    journals, counts = corpus['Df'].select([pl.col('Category').arr.first()]).groupby('Category').agg([pl.count()]).sort(pl.col('count'), descending=True)\n",
    "    journals = journals.to_list()[:5]\n",
    "    counts = counts.to_list()[:5]\n",
    "\n",
    "    ax.bar(journals, counts, edgecolor='k')\n",
    "    ax.set_xlabel('Journal')\n",
    "    ax.set_ylabel('Freq')\n",
    "\n",
    "    ax.set_xticks(range(len(journals)), journals, rotation=45, ha='right')\n",
    "\n",
    "\n",
    "    ax.set_title(f'{field_name.capitalize()}\\nJournals', fontweight='semibold', fontsize=20)\n",
    "\n",
    "    ax.spines['top'].set_color('k')\n",
    "    ax.spines['top'].set_linewidth(1)\n",
    "    ax.spines['bottom'].set_color('k')\n",
    "    ax.spines['bottom'].set_linewidth(1)\n",
    "    ax.spines['right'].set_color('k')\n",
    "    ax.spines['right'].set_linewidth(1)\n",
    "    ax.spines['left'].set_color('k')\n",
    "    ax.spines['left'].set_linewidth(1)\n",
    "\n",
    "fig.set_facecolor('w')\n",
    "plt.tight_layout()\n",
    "plt.savefig(f'{OBSIDIAN_IMG_PATH}/categories.png')\n",
    "plt.show()"
   ]
  },
  {
   "cell_type": "markdown",
   "metadata": {},
   "source": [
    "# Area"
   ]
  },
  {
   "cell_type": "code",
   "execution_count": null,
   "metadata": {},
   "outputs": [],
   "source": [
    "n_cols = 2\n",
    "height = 6\n",
    "width = 8\n",
    "n_rows = np.ceil(len(corpora) / n_cols)\n",
    "\n",
    "fig, axs = plt.subplots(int(n_rows), int(n_cols), figsize=(n_cols*width, n_rows*height))\n",
    "for ax, (field_name, corpus) in zip(axs.flatten(), corpora.items()):\n",
    "\n",
    "    journals, counts = corpus['Df'].select([pl.col('Areas').arr.first()]).groupby('Areas').agg([pl.count()]).sort(pl.col('count'), descending=True)\n",
    "    journals = journals.to_list()[:5]\n",
    "    counts = counts.to_list()[:5]\n",
    "\n",
    "    ax.bar(journals, counts, edgecolor='k')\n",
    "    ax.set_xlabel('Journal')\n",
    "    ax.set_ylabel('Freq')\n",
    "\n",
    "    ax.set_xticks(range(len(journals)), journals, rotation=45, ha='right')\n",
    "\n",
    "\n",
    "    ax.set_title(f'{field_name.capitalize()}\\nJournals', fontweight='semibold', fontsize=20)\n",
    "\n",
    "    ax.spines['top'].set_color('k')\n",
    "    ax.spines['top'].set_linewidth(1)\n",
    "    ax.spines['bottom'].set_color('k')\n",
    "    ax.spines['bottom'].set_linewidth(1)\n",
    "    ax.spines['right'].set_color('k')\n",
    "    ax.spines['right'].set_linewidth(1)\n",
    "    ax.spines['left'].set_color('k')\n",
    "    ax.spines['left'].set_linewidth(1)\n",
    "\n",
    "fig.set_facecolor('w')\n",
    "plt.tight_layout()\n",
    "plt.savefig(f'{OBSIDIAN_IMG_PATH}/areas.png')\n",
    "plt.show()"
   ]
  },
  {
   "cell_type": "code",
   "execution_count": null,
   "metadata": {},
   "outputs": [],
   "source": []
  },
  {
   "cell_type": "code",
   "execution_count": null,
   "metadata": {},
   "outputs": [],
   "source": []
  },
  {
   "cell_type": "code",
   "execution_count": null,
   "metadata": {},
   "outputs": [],
   "source": []
  }
 ],
 "metadata": {
  "language_info": {
   "name": "python"
  },
  "orig_nbformat": 4
 },
 "nbformat": 4,
 "nbformat_minor": 2
}
