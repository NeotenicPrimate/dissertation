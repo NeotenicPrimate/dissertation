{
 "cells": [
  {
   "cell_type": "code",
   "execution_count": 1,
   "metadata": {},
   "outputs": [],
   "source": [
    "%run './model/multi_corpus.py'\n",
    "%run './constants.py'\n",
    "\n",
    "%matplotlib inline\n",
    "\n",
    "from matplotlib import cm"
   ]
  },
  {
   "cell_type": "code",
   "execution_count": 3,
   "metadata": {},
   "outputs": [
    {
     "name": "stdout",
     "output_type": "stream",
     "text": [
      "Gender Studies Graph with 19647 nodes and 2649106 edges\n",
      "Geometry Graph with 12510 nodes and 1208185 edges\n",
      "Geophysics Graph with 21402 nodes and 3699772 edges\n",
      "Economics Graph with 12803 nodes and 1338707 edges\n",
      "Language & Linguistics Graph with 15692 nodes and 2130610 edges\n",
      "Probability & Statistics Graph with 15353 nodes and 2308625 edges\n",
      "Material Engineering Graph with 21306 nodes and 3507415 edges\n",
      "Artificial Intelligence Graph with 16142 nodes and 2795312 edges\n",
      "Sociology Graph with 17143 nodes and 2474146 edges\n",
      "International Business Graph with 13673 nodes and 1998495 edges\n",
      "Political Science Graph with 16548 nodes and 2165657 edges\n",
      "Genetics & Genomics Graph with 22262 nodes and 3450132 edges\n",
      "Immunology Graph with 22793 nodes and 4144310 edges\n",
      "Human Resources & Organizations Graph with 14713 nodes and 2277185 edges\n",
      "Ethnic & Cultural Studies Graph with 16863 nodes and 2241634 edges\n",
      "Neurology Graph with 20744 nodes and 3681821 edges\n"
     ]
    }
   ],
   "source": [
    "corpora = co_occurence_graphs()\n",
    "Gs = {field_name: corpus['G'] for (field_name, corpus) in corpora.items()}\n",
    "Dfs = {field_name: corpus['Df'] for (field_name, corpus) in corpora.items()}"
   ]
  },
  {
   "cell_type": "code",
   "execution_count": 9,
   "metadata": {},
   "outputs": [
    {
     "name": "stdout",
     "output_type": "stream",
     "text": [
      "Gender Studies\n",
      "Geometry\n",
      "Geophysics\n",
      "Economics\n",
      "Language & Linguistics\n",
      "Probability & Statistics\n",
      "Material Engineering\n",
      "Artificial Intelligence\n",
      "Sociology\n",
      "International Business\n",
      "Political Science\n",
      "Genetics & Genomics\n",
      "Immunology\n",
      "Human Resources & Organizations\n",
      "Ethnic & Cultural Studies\n",
      "Neurology\n"
     ]
    }
   ],
   "source": [
    "d = {}\n",
    "for field_name, G in Gs.items():\n",
    "    print(field_name)\n",
    "    G.remove_edges_from([(n1, n2) for n1, n2, w in G.edges(data='weight') if w < 2])\n",
    "    d[field_name] = G\n"
   ]
  },
  {
   "cell_type": "code",
   "execution_count": 11,
   "metadata": {},
   "outputs": [
    {
     "name": "stderr",
     "output_type": "stream",
     "text": [
      "/var/folders/rz/n4jmlyh1355cy_wkn5gd00x40000gn/T/ipykernel_39669/1664038193.py:29: UserWarning: This figure includes Axes that are not compatible with tight_layout, so results might be incorrect.\n",
      "  fig.tight_layout()\n"
     ]
    }
   ],
   "source": [
    "sns.reset_defaults()\n",
    "\n",
    "data = []\n",
    "field_names = []\n",
    "\n",
    "for field_name, G in d.items():\n",
    "\n",
    "    degrees = dict(G.degree()).values()\n",
    "    k, freq = zip(*Counter(degrees).items())\n",
    "    pk = np.array(freq) / np.sum(freq)\n",
    "\n",
    "    fig = plt.figure(figsize=(3, 3))\n",
    "    ax = fig.add_axes([0, 0, 1, 1])\n",
    "\n",
    "    ax.plot(k, freq, 'o', markeredgewidth=1, markeredgecolor='k')\n",
    "    # ax.plot(k, target_func(k, *popt), '--')\n",
    "    ax.set_yscale('log')\n",
    "    ax.set_xscale('log')\n",
    "    ax.set_xlabel('$\\log(k)$')\n",
    "    ax.set_ylabel('$\\log(freq)$')\n",
    "\n",
    "    ax1 = ax.twinx()\n",
    "    ax1.plot(k, pk, 'o', markeredgewidth=1, markeredgecolor='k')\n",
    "\n",
    "    ax1.set_yscale('log')\n",
    "    ax1.set_xscale('log')\n",
    "    ax1.set_ylabel('$\\log(P(k))$')\n",
    "\n",
    "    fig.tight_layout()\n",
    "\n",
    "    plt.savefig(\n",
    "        os.path.join(LATEX_FIGURES_PATH, 'co_occurrence_deg_dist', f'{field_name.capitalize()}.png'), \n",
    "        transparent=True, \n",
    "        dpi=150,\n",
    "        bbox_inches='tight'\n",
    "    )"
   ]
  },
  {
   "cell_type": "code",
   "execution_count": null,
   "metadata": {},
   "outputs": [],
   "source": []
  }
 ],
 "metadata": {
  "kernelspec": {
   "display_name": "venv",
   "language": "python",
   "name": "python3"
  },
  "language_info": {
   "codemirror_mode": {
    "name": "ipython",
    "version": 3
   },
   "file_extension": ".py",
   "mimetype": "text/x-python",
   "name": "python",
   "nbconvert_exporter": "python",
   "pygments_lexer": "ipython3",
   "version": "3.10.3"
  },
  "orig_nbformat": 4
 },
 "nbformat": 4,
 "nbformat_minor": 2
}
