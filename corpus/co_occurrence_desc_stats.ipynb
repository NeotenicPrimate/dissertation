{
 "cells": [
  {
   "cell_type": "code",
   "execution_count": null,
   "metadata": {},
   "outputs": [],
   "source": [
    "%run './model/multi_corpus.py'\n",
    "%run './constants.py'\n",
    "\n",
    "sns.set(rc = {'figure.figsize':(15,8)})"
   ]
  },
  {
   "cell_type": "code",
   "execution_count": null,
   "metadata": {},
   "outputs": [],
   "source": [
    "corpora = co_citation_graphs()\n",
    "Gs = {field_name: corpus['G'] for (field_name, corpus) in corpora.items()}\n",
    "Dfs = {field_name: corpus['Df'] for (field_name, corpus) in corpora.items()}"
   ]
  },
  {
   "cell_type": "code",
   "execution_count": null,
   "metadata": {},
   "outputs": [],
   "source": [
    "def gini(x):\n",
    "    mad = np.abs(np.subtract.outer(x, x)).mean()\n",
    "    rmad = mad/np.mean(x)\n",
    "    g = 0.5 * rmad\n",
    "    return g"
   ]
  },
  {
   "cell_type": "code",
   "execution_count": null,
   "metadata": {},
   "outputs": [],
   "source": [
    "d = {}\n",
    "\n",
    "for field_name, corpus in corpora.items():\n",
    "\n",
    "    print(field_name)\n",
    "\n",
    "    df = corpus['Df']\n",
    "    G = corpus['G']\n",
    "\n",
    "    start_date, end_date = (\n",
    "        df\n",
    "        .filter(pl.col('Doi').is_in(list(G.nodes)))\n",
    "        .select(pl.col('Date').min().alias('Min'), pl.col('Date').max().alias('Max'))\n",
    "        .row(0)\n",
    "    )\n",
    "\n",
    "    degree = dict(G.degree()).values()\n",
    "\n",
    "    large_component = max(nx.connected_components(G), key=len)\n",
    "    G_large_component = G.subgraph(large_component)\n",
    "\n",
    "    d[field_name] = {\n",
    "        'Nodes': nx.number_of_nodes(G),\n",
    "        'Edges': nx.number_of_edges(G),\n",
    "        'Density': nx.density(G),\n",
    "        'AvgDegree': sum(degree) / len(degree),\n",
    "        'AvgClustering': nx.average_clustering(G),\n",
    "        'DiameterLargestComponent': nx.diameter(G.subgraph(large_component)),\n",
    "        'AvgShortestPath': nx.average_shortest_path_length(G_large_component),\n",
    "        'ShortestPath': nx.shortest_path_length(G),\n",
    "        'Triangles': sum(nx.triangles(G).values()) / 3,\n",
    "        'Gini': gini(degree),\n",
    "        'Louvain': len(nx_comm.louvain_communities(G)),\n",
    "        'Components': len(list(nx.connected_components(G))),\n",
    "        'Clustering': nx.average_clustering(G),\n",
    "        'Transitivity': nx.transitivity(G),\n",
    "        'Centralization': float((len(G) * max(degree) - sum(degree))) / (len(G)-1)**2,\n",
    "        'Isolates': nx.number_of_isolates(G),\n",
    "        'Loops': nx.number_of_selfloops(G),\n",
    "        # 'LabelPropagation': len(nx_comm.label_propagation_communities(G)),\n",
    "    }\n",
    "\n",
    "df = pl.DataFrame([{'Field': field_name} | desc_d for field_name, desc_d in d.items()])\n",
    "\n",
    "latex = (\n",
    "    df\n",
    "        .to_pandas()\n",
    "        .to_latex(\n",
    "            index=False,\n",
    "            na_rep=' ',\n",
    "            bold_rows=True,\n",
    "            float_format=\"%.2f\",\n",
    "        )\n",
    ")\n",
    "with open(os.path.join(LATEX_TABLE_PATH, 'co_occurrence_desc_stats.tex'), 'w+') as file:\n",
    "    file.write(latex)\n"
   ]
  },
  {
   "cell_type": "code",
   "execution_count": null,
   "metadata": {},
   "outputs": [],
   "source": []
  },
  {
   "cell_type": "code",
   "execution_count": null,
   "metadata": {},
   "outputs": [],
   "source": []
  },
  {
   "cell_type": "code",
   "execution_count": null,
   "metadata": {},
   "outputs": [],
   "source": []
  }
 ],
 "metadata": {
  "kernelspec": {
   "display_name": "Python 3",
   "language": "python",
   "name": "python3"
  },
  "language_info": {
   "codemirror_mode": {
    "name": "ipython",
    "version": 3
   },
   "file_extension": ".py",
   "mimetype": "text/x-python",
   "name": "python",
   "nbconvert_exporter": "python",
   "pygments_lexer": "ipython3",
   "version": "3.10.3"
  },
  "orig_nbformat": 4
 },
 "nbformat": 4,
 "nbformat_minor": 2
}
