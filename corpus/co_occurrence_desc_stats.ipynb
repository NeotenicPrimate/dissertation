{
 "cells": [
  {
   "cell_type": "code",
   "execution_count": 1,
   "metadata": {},
   "outputs": [],
   "source": [
    "%run './model/multi_corpus.py'\n",
    "%run './constants.py'\n",
    "\n",
    "sns.set(rc = {'figure.figsize':(15,8)})"
   ]
  },
  {
   "cell_type": "code",
   "execution_count": 2,
   "metadata": {},
   "outputs": [
    {
     "name": "stdout",
     "output_type": "stream",
     "text": [
      "Gender Studies Graph with 1070 nodes and 2505 edges\n",
      "Geometry Graph with 749 nodes and 1262 edges\n",
      "Geophysics Graph with 22475 nodes and 119997 edges\n",
      "Economics Graph with 5710 nodes and 81283 edges\n",
      "Language & Linguistics Graph with 1925 nodes and 13565 edges\n",
      "Probability & Statistics Graph with 2802 nodes and 13312 edges\n",
      "Material Engineering Graph with 32157 nodes and 450244 edges\n",
      "Artificial Intelligence Graph with 2817 nodes and 15003 edges\n",
      "Sociology Graph with 3037 nodes and 31327 edges\n",
      "International Business Graph with 4191 nodes and 82833 edges\n",
      "Political Science Graph with 3367 nodes and 21319 edges\n",
      "Genetics & Genomics Graph with 11868 nodes and 73011 edges\n",
      "Immunology Graph with 17730 nodes and 271452 edges\n",
      "Human Resources & Organizations Graph with 4657 nodes and 43787 edges\n",
      "Ethnic & Cultural Studies Graph with 747 nodes and 1502 edges\n",
      "Neurology Graph with 22058 nodes and 348235 edges\n"
     ]
    }
   ],
   "source": [
    "corpora = co_citation_graphs()\n",
    "Gs = {field_name: corpus['G'] for (field_name, corpus) in corpora.items()}\n",
    "Dfs = {field_name: corpus['Df'] for (field_name, corpus) in corpora.items()}"
   ]
  },
  {
   "cell_type": "code",
   "execution_count": 4,
   "metadata": {},
   "outputs": [],
   "source": [
    "def gini(x):\n",
    "    mad = np.abs(np.subtract.outer(x, x)).mean()\n",
    "    rmad = mad/np.mean(x)\n",
    "    g = 0.5 * rmad\n",
    "    return g"
   ]
  },
  {
   "cell_type": "code",
   "execution_count": 3,
   "metadata": {},
   "outputs": [
    {
     "name": "stdout",
     "output_type": "stream",
     "text": [
      "Gender Studies\n",
      "Geometry\n",
      "Geophysics\n",
      "Economics\n",
      "Language & Linguistics\n",
      "Probability & Statistics\n",
      "Material Engineering\n",
      "Artificial Intelligence\n",
      "Sociology\n",
      "International Business\n",
      "Political Science\n",
      "Genetics & Genomics\n",
      "Immunology\n",
      "Human Resources & Organizations\n",
      "Ethnic & Cultural Studies\n",
      "Neurology\n"
     ]
    },
    {
     "name": "stderr",
     "output_type": "stream",
     "text": [
      "/var/folders/rz/n4jmlyh1355cy_wkn5gd00x40000gn/T/ipykernel_5645/3366035912.py:95: FutureWarning: In future versions `DataFrame.to_latex` is expected to utilise the base implementation of `Styler.to_latex` for formatting and rendering. The arguments signature may therefore change. It is recommended instead to use `DataFrame.style.to_latex` which also contains additional functionality.\n",
      "  latex = df.to_pandas().to_latex(\n"
     ]
    }
   ],
   "source": [
    "d = {}\n",
    "\n",
    "for field_name, corpus in corpora.items():\n",
    "\n",
    "    print(field_name)\n",
    "\n",
    "    df = corpus['Df']\n",
    "    G = corpus['G']\n",
    "\n",
    "    start_date, end_date = (\n",
    "        df\n",
    "        .filter(pl.col('Doi').is_in(list(G.nodes)))\n",
    "        .select(pl.col('Date').min().alias('Min'), pl.col('Date').max().alias('Max'))\n",
    "        .row(0)\n",
    "    )\n",
    "\n",
    "    degree = dict(G.degree()).values()\n",
    "\n",
    "    large_component = max(nx.connected_components(G), key=len)\n",
    "    G_large_component = G.subgraph(large_component)\n",
    "\n",
    "    d[field_name] = {\n",
    "        'Nodes': nx.number_of_nodes(G),\n",
    "        'Edges': nx.number_of_edges(G),\n",
    "        'Density': nx.density(G),\n",
    "        'AvgDegree': sum(degree) / len(degree),\n",
    "        'AvgClustering': nx.average_clustering(G),\n",
    "        'DiameterLargestComponent': nx.diameter(G.subgraph(large_component)),\n",
    "        'AvgShortestPath': nx.average_shortest_path_length(G_large_component),\n",
    "        'ShortestPath': nx.shortest_path_length(G),\n",
    "        'Triangles': sum(nx.triangles(G).values()) / 3,\n",
    "        'Gini': gini(degree),\n",
    "        'Louvain': len(nx_comm.louvain_communities(G)),\n",
    "        'Components': len(list(nx.connected_components(G))),\n",
    "        'Clustering': nx.average_clustering(G),\n",
    "        'Transitivity': nx.transitivity(G),\n",
    "        'Centralization': float((len(G) * max(degree) - sum(degree))) / (len(G)-1)**2,\n",
    "        'Isolates': nx.number_of_isolates(G),\n",
    "        'Loops': nx.number_of_selfloops(G),\n",
    "        # 'LabelPropagation': len(nx_comm.label_propagation_communities(G)),\n",
    "    }\n",
    "\n",
    "df = pl.DataFrame([{'Field': field_name} | desc_d for field_name, desc_d in d.items()])\n",
    "\n",
    "latex = (\n",
    "    df\n",
    "        .to_pandas()\n",
    "        .to_latex(\n",
    "            index=False,\n",
    "            na_rep=' ',\n",
    "            bold_rows=True,\n",
    "            float_format=\"%.2f\",\n",
    "        )\n",
    ")\n",
    "with open(os.path.join(LATEX_TABLE_PATH, 'co_occurrence_desc_stats.tex'), 'w+') as file:\n",
    "    file.write(latex)\n"
   ]
  },
  {
   "cell_type": "code",
   "execution_count": null,
   "metadata": {},
   "outputs": [],
   "source": []
  },
  {
   "cell_type": "code",
   "execution_count": null,
   "metadata": {},
   "outputs": [],
   "source": []
  },
  {
   "cell_type": "code",
   "execution_count": null,
   "metadata": {},
   "outputs": [],
   "source": []
  }
 ],
 "metadata": {
  "kernelspec": {
   "display_name": "Python 3",
   "language": "python",
   "name": "python3"
  },
  "language_info": {
   "codemirror_mode": {
    "name": "ipython",
    "version": 3
   },
   "file_extension": ".py",
   "mimetype": "text/x-python",
   "name": "python",
   "nbconvert_exporter": "python",
   "pygments_lexer": "ipython3",
   "version": "3.10.3"
  },
  "orig_nbformat": 4
 },
 "nbformat": 4,
 "nbformat_minor": 2
}
