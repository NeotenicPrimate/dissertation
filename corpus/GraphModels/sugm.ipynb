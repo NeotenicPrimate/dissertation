{
 "cells": [
  {
   "cell_type": "code",
   "execution_count": 1,
   "metadata": {},
   "outputs": [],
   "source": [
    "import networkx as nx\n",
    "import numpy as np\n",
    "import math\n",
    "import itertools"
   ]
  },
  {
   "cell_type": "code",
   "execution_count": 3,
   "metadata": {},
   "outputs": [
    {
     "name": "stdout",
     "output_type": "stream",
     "text": [
      "True\n"
     ]
    },
    {
     "data": {
      "image/png": "[encoded data removed]",
      "text/plain": [
       "<Figure size 432x288 with 1 Axes>"
      ]
     },
     "metadata": {},
     "output_type": "display_data"
    }
   ],
   "source": [
    "n = 10\n",
    "\n",
    "G = nx.gnp_random_graph(n=n, p=0.5, directed=True)\n",
    "G = nx.DiGraph([(u,v) for (u,v) in G.edges() if u < v])\n",
    "\n",
    "X = np.random.normal(0, 1, (n, 5))\n",
    "\n",
    "print(nx.is_directed_acyclic_graph(G))\n",
    "nx.draw(G, node_size=500, width=2.)"
   ]
  },
  {
   "cell_type": "code",
   "execution_count": 5,
   "metadata": {},
   "outputs": [
    {
     "data": {
      "text/plain": [
       "[(0, 5, {}),\n",
       " (0, 8, {}),\n",
       " (0, 9, {}),\n",
       " (5, 6, {}),\n",
       " (5, 8, {}),\n",
       " (1, 2, {}),\n",
       " (1, 3, {}),\n",
       " (1, 4, {}),\n",
       " (1, 6, {}),\n",
       " (1, 7, {}),\n",
       " (1, 8, {}),\n",
       " (2, 3, {}),\n",
       " (2, 6, {}),\n",
       " (2, 7, {}),\n",
       " (2, 8, {}),\n",
       " (2, 9, {}),\n",
       " (3, 7, {}),\n",
       " (3, 8, {}),\n",
       " (3, 9, {}),\n",
       " (4, 6, {}),\n",
       " (4, 7, {}),\n",
       " (4, 9, {}),\n",
       " (6, 9, {}),\n",
       " (7, 9, {})]"
      ]
     },
     "execution_count": 5,
     "metadata": {},
     "output_type": "execute_result"
    }
   ],
   "source": [
    "list(G.edges(data=True))"
   ]
  },
  {
   "cell_type": "markdown",
   "metadata": {},
   "source": [
    "- 003: 1, 2, 3\n",
    "- 012: 1 -> 2, 3\n",
    "- 102: 1 <-> 2, 3\n",
    "- 021D: 1 <- 2 -> 3\n",
    "- 021U: 1 -> 2 <- 3\n",
    "- 021C: 1 -> 2 -> 3\n",
    "- 111D: 1 <-> 2 <- 3\n",
    "- 111U: 1 <-> 2 -> 3\n",
    "- 030T: 1 -> 2 -> 3, 1 -> 3\n",
    "- 030C: 1 <- 2 <- 3, 1 -> 3\n",
    "- 201: 1 <-> 2 <-> 3\n",
    "- 120D: 1 <- 2 -> 3, 1 <-> 3\n",
    "- 120U: 1 -> 2 <- 3, 1 <-> 3\n",
    "- 120C: 1 -> 2 -> 3, 1 <-> 3\n",
    "- 210: 1 -> 2 <-> 3, 1 <-> 3\n",
    "- 300: 1 <-> 2 <-> 3, 1 <-> 3"
   ]
  },
  {
   "cell_type": "code",
   "execution_count": 67,
   "metadata": {},
   "outputs": [
    {
     "data": {
      "text/plain": [
       "{'003': 6,\n",
       " '012': 31,\n",
       " '021D': 14,\n",
       " '021U': 17,\n",
       " '021C': 25,\n",
       " '030T': 27,\n",
       " 'edges': 28}"
      ]
     },
     "execution_count": 67,
     "metadata": {},
     "output_type": "execute_result"
    }
   ],
   "source": [
    "triadic_census = nx.triadic_census(G)\n",
    "graphlet_codes = ['021U', '021D', '021C', '030T', '012', '003']\n",
    "d = dict(filter(lambda e: e[0] in graphlet_codes, triadic_census.items()))\n",
    "d['edges'] = len(G.edges)\n",
    "d"
   ]
  },
  {
   "cell_type": "code",
   "execution_count": 86,
   "metadata": {},
   "outputs": [
    {
     "data": {
      "text/plain": [
       "{'003': 0.05,\n",
       " '012': 0.2583,\n",
       " '021D': 0.1167,\n",
       " '021U': 0.1417,\n",
       " '021C': 0.2083,\n",
       " '030T': 0.225,\n",
       " 'edges': 0.2333}"
      ]
     },
     "execution_count": 86,
     "metadata": {},
     "output_type": "execute_result"
    }
   ],
   "source": [
    "n = len(G.nodes)\n",
    "r = 3\n",
    "tot_triads = math.factorial(n) / (math.factorial(n - r) * math.factorial(r))\n",
    "\n",
    "{k: round(v / tot_triads, 4) for k, v in d.items()}"
   ]
  },
  {
   "cell_type": "code",
   "execution_count": null,
   "metadata": {},
   "outputs": [],
   "source": []
  },
  {
   "cell_type": "code",
   "execution_count": 34,
   "metadata": {},
   "outputs": [
    {
     "data": {
      "text/plain": [
       "10"
      ]
     },
     "execution_count": 34,
     "metadata": {},
     "output_type": "execute_result"
    }
   ],
   "source": [
    "graphlet = nx.DiGraph()\n",
    "graphlet.add_edges_from([\n",
    "    (0, 1), \n",
    "    (1, 2), \n",
    "    (0, 2),\n",
    "])\n",
    "\n",
    "graphlets = []\n",
    "for sub_nodes in itertools.combinations(G.nodes(),len(graphlet.nodes())):\n",
    "    sub_graph = G.subgraph(sub_nodes)\n",
    "    if nx.is_weakly_connected(sub_graph) and nx.is_isomorphic(sub_graph, graphlet):\n",
    "        graphlets.append(sub_graph.edges())\n",
    "\n",
    "len(graphlets)"
   ]
  }
 ],
 "metadata": {
  "kernelspec": {
   "display_name": "Python 3",
   "language": "python",
   "name": "python3"
  },
  "language_info": {
   "codemirror_mode": {
    "name": "ipython",
    "version": 3
   },
   "file_extension": ".py",
   "mimetype": "text/x-python",
   "name": "python",
   "nbconvert_exporter": "python",
   "pygments_lexer": "ipython3",
   "version": "3.10.3"
  },
  "orig_nbformat": 4,
  "vscode": {
   "interpreter": {
    "hash": "aee8b7b246df8f9039afb4144a1f6fd8d2ca17a180786b69acc140d282b71a49"
   }
  }
 },
 "nbformat": 4,
 "nbformat_minor": 2
}
