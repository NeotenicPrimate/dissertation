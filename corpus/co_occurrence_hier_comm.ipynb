{
 "cells": [
  {
   "cell_type": "code",
   "execution_count": null,
   "metadata": {},
   "outputs": [],
   "source": [
    "%run './model/multi_corpus.py'\n",
    "# %run './model/ergm_functions.py'\n",
    "# %run './constants.py'\n",
    "\n",
    "import itertools"
   ]
  },
  {
   "cell_type": "code",
   "execution_count": null,
   "metadata": {},
   "outputs": [],
   "source": [
    "corpora = co_occurence_graphs(n_edges=100)\n",
    "Gs = {field_name: corpus['G'] for (field_name, corpus) in corpora.items()}\n",
    "Dfs = {field_name: corpus['Df'] for (field_name, corpus) in corpora.items()}"
   ]
  },
  {
   "cell_type": "markdown",
   "metadata": {},
   "source": [
    "# Girvan-Newman"
   ]
  },
  {
   "cell_type": "code",
   "execution_count": null,
   "metadata": {},
   "outputs": [],
   "source": [
    "sns.reset_defaults()\n",
    "\n",
    "for (field_name, G) in Gs.items():\n",
    "\n",
    "    # print(field_name)\n",
    "\n",
    "    nodes = list(G.nodes)\n",
    "    comms = list(nx_comm.girvan_newman(G))\n",
    "    comms.insert(0, (set(nodes),))\n",
    "\n",
    "    Z, leaves = compute_Z(comms)\n",
    "\n",
    "    fig = plt.figure(figsize=(15, 12))\n",
    "    ax = fig.add_axes([0, 0, 1, 1])\n",
    "\n",
    "    # ax.set_xlabel('Node')\n",
    "    ax.set_ylabel('Distance')\n",
    "    \n",
    "    dendrogram(Z, labels=leaves, ax=ax)\n",
    "    ax.yaxis.grid(False)\n",
    "    ax.xaxis.grid(False)\n",
    "\n",
    "    fig.tight_layout()\n",
    "\n",
    "    plt.savefig(\n",
    "        f'./hierarchical_girvan/{field_name.capitalize()}.png',\n",
    "        transparent=True, \n",
    "        dpi=300,\n",
    "        bbox_inches='tight'\n",
    "    )\n",
    "\n",
    "    plt.show()"
   ]
  },
  {
   "cell_type": "markdown",
   "metadata": {},
   "source": [
    "# Louvain"
   ]
  },
  {
   "cell_type": "code",
   "execution_count": null,
   "metadata": {},
   "outputs": [],
   "source": [
    "sns.reset_defaults()\n",
    "\n",
    "for (field_name, G) in Gs.items():\n",
    "\n",
    "    nodes = list(G.nodes)\n",
    "    \n",
    "    comms = list(sorted(nx_comm.louvain_partitions(G, weight=None), key=len))\n",
    "    comms.insert(0, (set(nodes),))\n",
    "    comms.append(tuple({n} for n in nodes))\n",
    "\n",
    "    Z, leaves = compute_Z(comms)\n",
    "\n",
    "    fig = plt.figure(figsize=(15, 12))\n",
    "    ax = fig.add_axes([0, 0, 1, 1])\n",
    "\n",
    "    # ax.set_xlabel('Node')\n",
    "    ax.set_ylabel('Distance')\n",
    "    \n",
    "    dendrogram(Z, labels=leaves, ax=ax)\n",
    "    ax.yaxis.grid(False)\n",
    "    ax.xaxis.grid(False)\n",
    "\n",
    "    fig.tight_layout()\n",
    "\n",
    "    plt.savefig(\n",
    "        f'./hierarchical_louvain/{field_name.capitalize()}.png',\n",
    "        transparent=True, \n",
    "        dpi=300,\n",
    "        bbox_inches='tight'\n",
    "    )\n",
    "\n",
    "    plt.show()"
   ]
  },
  {
   "cell_type": "markdown",
   "metadata": {},
   "source": [
    "# Circle Packing"
   ]
  },
  {
   "cell_type": "code",
   "execution_count": null,
   "metadata": {},
   "outputs": [],
   "source": [
    "import circlify"
   ]
  },
  {
   "cell_type": "code",
   "execution_count": null,
   "metadata": {},
   "outputs": [],
   "source": [
    "field_name = 'Sociology'\n",
    "levels = 5\n",
    "method = 'girvan_newman' # louvain, girvan_newman\n",
    "\n",
    "G = Gs['Sociology']\n",
    "\n",
    "if method == 'girvan_newman':\n",
    "    hier_comms = list(nx_comm.girvan_newman(G))\n",
    "elif method == 'louvain':\n",
    "    hier_comms = list(nx_comm.louvain_partitions(G, resolution=1))\n",
    "    hier_comms = list(reversed(hier_comms))\n",
    "\n",
    "levels = min(levels, len(hier_comms))\n",
    "\n",
    "root = set().union(*hier_comms[0])\n",
    "hier_comms.insert(0, (root,))\n",
    "\n",
    "hier_comms = hier_comms[:levels]\n",
    "len(hier_comms)"
   ]
  },
  {
   "cell_type": "code",
   "execution_count": null,
   "metadata": {},
   "outputs": [],
   "source": [
    "core_threshold = 3\n",
    "\n",
    "coreness = nx.core_number(G)\n",
    "\n",
    "G_tree = nx.DiGraph()\n",
    "\n",
    "for i in range(len(hier_comms)-1):\n",
    "\n",
    "    for community_i, community_i1 in itertools.product(hier_comms[i], hier_comms[i+1]):\n",
    "        \n",
    "        # core_community_i = dict(filter(lambda tup: tup[0] in community_i, coreness.items()))\n",
    "        # core_community_i = dict(filter(lambda tup: tup[1] >= max(core_community_i.values())-core_threshold, core_community_i.items()))\n",
    "        # core_community_i = dict(sorted(core_community_i.items(), key=lambda tup: tup[1]))\n",
    "        # core_community_i = frozenset(core_community_i.keys())\n",
    "        # u = (i, core_community_i)\n",
    "        \n",
    "        u = (i, frozenset(community_i))\n",
    "        \n",
    "        # core_community_i1 = dict(filter(lambda tup: tup[0] in community_i, coreness.items()))\n",
    "        # core_community_i1 = dict(filter(lambda tup: tup[1] >= max(core_community_i1.values())-core_threshold, core_community_i1.items()))\n",
    "        # core_community_i1 = dict(sorted(core_community_i1.items(), key=lambda tup: tup[1]))\n",
    "        # core_community_i1 = frozenset(core_community_i1.keys())\n",
    "        # v = (i+1, core_community_i1)\n",
    "        \n",
    "        v = (i+1, frozenset(community_i1))\n",
    "\n",
    "        G_tree.add_node(u, datum=10)\n",
    "        G_tree.add_node(v, datum=10)\n",
    "\n",
    "        if community_i1.issubset(community_i):\n",
    "            G_tree.add_edge(u, v)\n",
    "\n",
    "print(G_tree)\n",
    "\n",
    "root = (0, frozenset(root))\n",
    "tree = nx.tree_data(G_tree, root, ident='id', children='children')"
   ]
  },
  {
   "cell_type": "code",
   "execution_count": null,
   "metadata": {},
   "outputs": [],
   "source": [
    "circles = circlify.circlify(\n",
    "    [tree],\n",
    "    show_enclosure=False, \n",
    "    target_enclosure=circlify.Circle(x=0, y=0, r=1)\n",
    ")\n",
    "\n",
    "fig, ax = plt.subplots(figsize=(14,14))\n",
    "\n",
    "ax.set_title(f'{field_name}')\n",
    "ax.axis('off')\n",
    "\n",
    "lim = max(\n",
    "    max(\n",
    "        abs(circle.x) + circle.r,\n",
    "        abs(circle.y) + circle.r,\n",
    "    )\n",
    "    for circle in circles\n",
    ")\n",
    "\n",
    "plt.xlim(-lim, lim)\n",
    "plt.ylim(-lim, lim)\n",
    "\n",
    "for circle in circles:\n",
    "    x, y, r = circle\n",
    "    ax.add_patch( plt.Circle((x, y), r, alpha=0.1, linewidth=2, color=\"#69b3a2\"))\n",
    "    if circle.level == levels:\n",
    "      label = '\\n'.join(list(circle.ex[\"id\"][1])[:3])\n",
    "      plt.annotate(label, (x, y), ha='center', color=\"k\", fontsize=5)"
   ]
  },
  {
   "cell_type": "code",
   "execution_count": null,
   "metadata": {},
   "outputs": [],
   "source": []
  },
  {
   "cell_type": "code",
   "execution_count": null,
   "metadata": {},
   "outputs": [],
   "source": []
  }
 ],
 "metadata": {
  "kernelspec": {
   "display_name": "Python 3",
   "language": "python",
   "name": "python3"
  },
  "language_info": {
   "codemirror_mode": {
    "name": "ipython",
    "version": 3
   },
   "file_extension": ".py",
   "mimetype": "text/x-python",
   "name": "python",
   "nbconvert_exporter": "python",
   "pygments_lexer": "ipython3",
   "version": "3.9.6"
  },
  "orig_nbformat": 4
 },
 "nbformat": 4,
 "nbformat_minor": 2
}
