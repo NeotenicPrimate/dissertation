{
 "cells": [
  {
   "cell_type": "code",
   "execution_count": 33,
   "metadata": {},
   "outputs": [],
   "source": [
    "%run './model/corpus.py'\n",
    "\n",
    "import networkx as nx\n",
    "import numpy as np\n",
    "import polars as pl\n",
    "\n",
    "import itertools\n",
    "\n",
    "import torch\n",
    "from torch_geometric.data import Data\n",
    "from torch_geometric.nn import Node2Vec\n",
    "from torch_geometric.utils.convert import to_networkx, from_networkx\n",
    "\n",
    "import sklearn\n",
    "\n",
    "from sklearn.decomposition import PCA\n",
    "\n",
    "import matplotlib.pyplot as plt\n",
    "import seaborn as sns\n",
    "sns.set(rc={'figure.figsize':(12, 9)})\n"
   ]
  },
  {
   "cell_type": "code",
   "execution_count": 2,
   "metadata": {},
   "outputs": [
    {
     "name": "stdout",
     "output_type": "stream",
     "text": [
      "\n",
      "            Graph: DiGraph with 34154 nodes and 386394 edges\n",
      "            Df: (34164, 13)\n",
      "        \n"
     ]
    }
   ],
   "source": [
    "corpus = Corpus(\"Organizations\")\n",
    "\n",
    "c = corpus\n",
    "df_full = c.citation_df\n",
    "G_citation_full = c.citation_graph"
   ]
  },
  {
   "cell_type": "code",
   "execution_count": 3,
   "metadata": {},
   "outputs": [],
   "source": [
    "n = 1000\n",
    "\n",
    "most_cited_nodes = list(dict(sorted(nx.in_degree_centrality(G_citation_full).items(), key=lambda x: x[1], reverse=True)).keys())[:n]\n",
    "\n",
    "G_citation = nx.DiGraph(nx.subgraph(G_citation_full, most_cited_nodes))\n",
    "G_citation.remove_nodes_from(list(nx.isolates(G_citation)))\n",
    "df = df_full.filter(pl.col('Doi').is_in(list(G_citation.nodes)))\n",
    "\n",
    "dois, texts = df.select([pl.col('Doi'), pl.col('Text')])\n",
    "dois, texts = dois.to_list(), texts.to_list()"
   ]
  },
  {
   "cell_type": "code",
   "execution_count": 4,
   "metadata": {},
   "outputs": [],
   "source": [
    "doi_pairs = list(itertools.product(dois, dois))\n",
    "n_pairs = len(doi_pairs)"
   ]
  },
  {
   "cell_type": "code",
   "execution_count": 5,
   "metadata": {},
   "outputs": [],
   "source": [
    "def cosine_similarity(v1, v2):\n",
    "    return np.dot(v1, v2) / (np.linalg.norm(v1) * np.linalg.norm(v2))"
   ]
  },
  {
   "cell_type": "markdown",
   "metadata": {},
   "source": [
    "# Node2Vec"
   ]
  },
  {
   "cell_type": "code",
   "execution_count": 6,
   "metadata": {},
   "outputs": [],
   "source": [
    "pyg_citation = from_networkx(G_citation)"
   ]
  },
  {
   "cell_type": "code",
   "execution_count": 7,
   "metadata": {},
   "outputs": [
    {
     "name": "stdout",
     "output_type": "stream",
     "text": [
      "Self loops:\t False\n",
      "Isolates:\t False\n",
      "Directed:\t True\n",
      "Undirected:\t False\n",
      "Num Edges:\t 9755\n",
      "Num Nodes:\t 995\n",
      "Node Features:\t 0\n",
      "Edge Features:\t 0\n"
     ]
    }
   ],
   "source": [
    "print('Self loops:\\t', pyg_citation.has_self_loops())\n",
    "print('Isolates:\\t', pyg_citation.has_isolated_nodes())\n",
    "print('Directed:\\t', pyg_citation.is_directed())\n",
    "print('Undirected:\\t', pyg_citation.is_undirected())\n",
    "# print('Num Classes:\\t', pyg_citation.num_classes)\n",
    "print('Num Edges:\\t', pyg_citation.num_edges)\n",
    "print('Num Nodes:\\t', pyg_citation.num_nodes)\n",
    "print('Node Features:\\t', pyg_citation.num_node_features)\n",
    "print('Edge Features:\\t', pyg_citation.num_edge_features)"
   ]
  },
  {
   "cell_type": "code",
   "execution_count": 8,
   "metadata": {},
   "outputs": [
    {
     "data": {
      "text/plain": [
       "Data(edge_index=[2, 9755], num_nodes=995)"
      ]
     },
     "execution_count": 8,
     "metadata": {},
     "output_type": "execute_result"
    }
   ],
   "source": [
    "pyg_citation"
   ]
  },
  {
   "cell_type": "code",
   "execution_count": 9,
   "metadata": {},
   "outputs": [
    {
     "name": "stdout",
     "output_type": "stream",
     "text": [
      "Train: 696, Test: 149, Validation: 150\n"
     ]
    }
   ],
   "source": [
    "train_size = 0.70\n",
    "\n",
    "nodes = pyg_citation.edge_index.numpy()\n",
    "nodes = np.unique(list(nodes[0]) + list(nodes[1]))\n",
    "\n",
    "train_set, test_val_set = sklearn.model_selection.train_test_split(nodes, train_size=train_size, random_state=1)\n",
    "test_set, val_set = sklearn.model_selection.train_test_split(test_val_set, train_size=0.5, random_state=1)\n",
    "\n",
    "print(f'Train: {len(train_set)}, Test: {len(test_set)}, Validation: {len(val_set)}')\n",
    "assert(len(train_set) + len(test_set) + len(val_set) == len(nodes))"
   ]
  },
  {
   "cell_type": "code",
   "execution_count": 10,
   "metadata": {},
   "outputs": [
    {
     "name": "stdout",
     "output_type": "stream",
     "text": [
      "train mask \t tensor([1, 1, 0, 0, 1, 1, 0, 1, 0, 1, 1, 1, 0, 0, 1])\n",
      "test mask  \t tensor([0, 0, 1, 0, 0, 0, 0, 0, 1, 0, 0, 0, 0, 0, 0])\n",
      "val mask   \t tensor([0, 0, 0, 1, 0, 0, 1, 0, 0, 0, 0, 0, 1, 1, 0])\n",
      "after\t\t Data(edge_index=[2, 9755], num_nodes=995, train_mask=[995], test_mask=[995], val_mask=[995])\n"
     ]
    }
   ],
   "source": [
    "device = 'cuda' if torch.cuda.is_available() else 'cpu'\n",
    "\n",
    "# build test train val masks\n",
    "train_mask = torch.zeros(len(nodes), dtype=torch.long, device=device)\n",
    "for i in train_set:\n",
    "    train_mask[i] = 1.\n",
    "\n",
    "test_mask = torch.zeros(len(nodes), dtype=torch.long, device=device)\n",
    "for i in test_set:\n",
    "    test_mask[i] = 1.\n",
    "    \n",
    "val_mask = torch.zeros(len(nodes), dtype=torch.long, device=device)\n",
    "for i in val_set:\n",
    "    val_mask[i] = 1.\n",
    "    \n",
    "print(\"train mask \\t\",train_mask[0:15])\n",
    "print(\"test mask  \\t\",test_mask[0:15])\n",
    "print(\"val mask   \\t\",val_mask[0:15]) \n",
    "\n",
    "pyg_citation.train_mask = train_mask\n",
    "pyg_citation.test_mask = test_mask\n",
    "pyg_citation.val_mask = val_mask\n",
    "\n",
    "print(\"after\\t\\t\",pyg_citation)\n"
   ]
  },
  {
   "cell_type": "code",
   "execution_count": 11,
   "metadata": {},
   "outputs": [
    {
     "name": "stdout",
     "output_type": "stream",
     "text": [
      "Epoch: 00, Loss: 6.6938\n",
      "Epoch: 01, Loss: 5.7873\n",
      "Epoch: 02, Loss: 5.1914\n",
      "Epoch: 03, Loss: 4.7359\n",
      "Epoch: 04, Loss: 4.3482\n",
      "Epoch: 05, Loss: 3.9566\n",
      "Epoch: 06, Loss: 3.6230\n",
      "Epoch: 07, Loss: 3.3171\n",
      "Epoch: 08, Loss: 3.0414\n",
      "Epoch: 09, Loss: 2.7780\n"
     ]
    }
   ],
   "source": [
    "embedding_dim = 128\n",
    "walk_length = 20\n",
    "context_size = 10\n",
    "walks_per_node = 10\n",
    "\n",
    "epochs = 10\n",
    "\n",
    "node_model = Node2Vec(\n",
    "    pyg_citation.edge_index,\n",
    "    embedding_dim=embedding_dim,\n",
    "    walk_length=walk_length,\n",
    "    context_size=context_size,\n",
    "    walks_per_node=walks_per_node,\n",
    "    num_negative_samples=1,\n",
    "    p=1,\n",
    "    q=1,\n",
    "    sparse=True\n",
    ").to(device)\n",
    "\n",
    "loader = node_model.loader(batch_size=128, shuffle=True, num_workers=4)\n",
    "optimizer = torch.optim.SparseAdam(list(node_model.parameters()), lr=0.01)\n",
    "\n",
    "for epoch in range(epochs):\n",
    "\n",
    "    node_model.train()\n",
    "    total_loss = 0\n",
    "    for pos_rw, neg_rw in loader:\n",
    "        optimizer.zero_grad()\n",
    "        loss = node_model.loss(pos_rw.to(device), neg_rw.to(device))\n",
    "        loss.backward()\n",
    "        optimizer.step()\n",
    "        total_loss += loss.item()\n",
    "    loss = total_loss / len(loader)\n",
    "\n",
    "    # node_model.eval()\n",
    "    # z = node_model()\n",
    "    # acc = node_model.test(z[pyg_citation.train_mask], pyg_citation.y[pyg_citation.train_mask],\n",
    "    #                  z[pyg_citation.test_mask], pyg_citation.y[pyg_citation.test_mask],\n",
    "    #                  max_iter=10)\n",
    "    \n",
    "    print(f'Epoch: {epoch:02d}, Loss: {loss:.4f}')\n",
    "\n",
    "node_model = node_model()\n",
    "node_embeddings = dict(zip(\n",
    "    G_citation.nodes(),\n",
    "    node_model.detach().cpu().numpy(),\n",
    "))"
   ]
  },
  {
   "cell_type": "code",
   "execution_count": 12,
   "metadata": {},
   "outputs": [
    {
     "name": "stdout",
     "output_type": "stream",
     "text": [
      "990023 / 990025"
     ]
    }
   ],
   "source": [
    "node_similarity = {}\n",
    "for i, (doi1, doi2) in enumerate(doi_pairs):\n",
    "    if doi1 != doi2:\n",
    "        node_similarity[(doi1, doi2)] = cosine_similarity(node_embeddings[doi1], node_embeddings[doi2])\n",
    "        print(f'\\r{i} / {n_pairs}', flush=True, end='')"
   ]
  },
  {
   "cell_type": "code",
   "execution_count": 34,
   "metadata": {},
   "outputs": [
    {
     "data": {
      "image/png": "[encoded data removed]",
      "text/plain": [
       "<Figure size 864x648 with 1 Axes>"
      ]
     },
     "metadata": {},
     "output_type": "display_data"
    }
   ],
   "source": [
    "pca = PCA(n_components=2)\n",
    "points = pca.fit_transform(list(node_embeddings.values()))\n",
    "\n",
    "plt.plot(points[:,0], points[:,1], 'o')\n",
    "plt.show()\n"
   ]
  },
  {
   "cell_type": "markdown",
   "metadata": {},
   "source": [
    "# Doc2Vec"
   ]
  },
  {
   "cell_type": "code",
   "execution_count": 13,
   "metadata": {},
   "outputs": [],
   "source": [
    "import nltk\n",
    "from gensim.models.doc2vec import Doc2Vec, TaggedDocument"
   ]
  },
  {
   "cell_type": "code",
   "execution_count": 14,
   "metadata": {},
   "outputs": [],
   "source": [
    "filtered_texts = []\n",
    "for text in texts:\n",
    "    tags = nltk.pos_tag(texts[0].split(' '))\n",
    "    filtered_tags = list(filter(lambda x: x[1] != 'NNP', tags))\n",
    "    text = list(map(lambda x: x[0], filtered_tags))\n",
    "    filtered_texts.append(text)"
   ]
  },
  {
   "cell_type": "code",
   "execution_count": 15,
   "metadata": {},
   "outputs": [],
   "source": [
    "documents = [TaggedDocument(text, [doi]) for doi, text in zip(dois, filtered_texts)]\n",
    "\n",
    "doc_model = Doc2Vec(documents, vector_size=128, window=10, min_count=1, workers=4, epochs=10)\n",
    "\n",
    "doc_embeddings = dict(zip(dois, doc_model.dv.vectors))"
   ]
  },
  {
   "cell_type": "code",
   "execution_count": 16,
   "metadata": {},
   "outputs": [],
   "source": [
    "doc_similarity = {}\n",
    "for (u, v) in doi_pairs:\n",
    "    doc_similarity[(u, v)] = doc_model.dv.n_similarity([u], [v])"
   ]
  },
  {
   "cell_type": "code",
   "execution_count": 35,
   "metadata": {},
   "outputs": [
    {
     "data": {
      "image/png": "[encoded data removed]",
      "text/plain": [
       "<Figure size 864x648 with 1 Axes>"
      ]
     },
     "metadata": {},
     "output_type": "display_data"
    }
   ],
   "source": [
    "pca = PCA(n_components=2)\n",
    "points = pca.fit_transform(list(doc_embeddings.values()))\n",
    "\n",
    "plt.plot(points[:,0], points[:,1], 'o')\n",
    "plt.show()"
   ]
  },
  {
   "cell_type": "markdown",
   "metadata": {},
   "source": [
    "# Node / Doc Correlations"
   ]
  },
  {
   "cell_type": "code",
   "execution_count": 17,
   "metadata": {},
   "outputs": [
    {
     "data": {
      "text/html": [
       "<div>\n",
       "<style scoped>\n",
       "    .dataframe tbody tr th:only-of-type {\n",
       "        vertical-align: middle;\n",
       "    }\n",
       "\n",
       "    .dataframe tbody tr th {\n",
       "        vertical-align: top;\n",
       "    }\n",
       "\n",
       "    .dataframe thead th {\n",
       "        text-align: right;\n",
       "    }\n",
       "\n",
       "    .dataframe td {\n",
       "        white-space: pre;\n",
       "    }\n",
       "\n",
       "    .dataframe td {\n",
       "        padding-top: 0;\n",
       "    }\n",
       "\n",
       "    .dataframe td {\n",
       "        padding-bottom: 0;\n",
       "    }\n",
       "</style>\n",
       "<table border=\"1\" class=\"dataframe\">\n",
       "<small>shape: (5, 4)</small>\n",
       "<thead>\n",
       "<tr>\n",
       "<th>\n",
       "DoiSrc\n",
       "</th>\n",
       "<th>\n",
       "DoiDst\n",
       "</th>\n",
       "<th>\n",
       "NodeSimilarity\n",
       "</th>\n",
       "<th>\n",
       "DocSimilarity\n",
       "</th>\n",
       "</tr>\n",
       "<tr>\n",
       "<td>\n",
       "str\n",
       "</td>\n",
       "<td>\n",
       "str\n",
       "</td>\n",
       "<td>\n",
       "f32\n",
       "</td>\n",
       "<td>\n",
       "f32\n",
       "</td>\n",
       "</tr>\n",
       "</thead>\n",
       "<tbody>\n",
       "<tr>\n",
       "<td>\n",
       "&quot;10.1086/517897...\n",
       "</td>\n",
       "<td>\n",
       "&quot;10.2307/256876...\n",
       "</td>\n",
       "<td>\n",
       "0.127382\n",
       "</td>\n",
       "<td>\n",
       "0.989172\n",
       "</td>\n",
       "</tr>\n",
       "<tr>\n",
       "<td>\n",
       "&quot;10.1086/517897...\n",
       "</td>\n",
       "<td>\n",
       "&quot;10.1086/227352...\n",
       "</td>\n",
       "<td>\n",
       "0.081357\n",
       "</td>\n",
       "<td>\n",
       "0.987412\n",
       "</td>\n",
       "</tr>\n",
       "<tr>\n",
       "<td>\n",
       "&quot;10.1086/517897...\n",
       "</td>\n",
       "<td>\n",
       "&quot;10.1287/orsc.1...\n",
       "</td>\n",
       "<td>\n",
       "0.043373\n",
       "</td>\n",
       "<td>\n",
       "0.988418\n",
       "</td>\n",
       "</tr>\n",
       "<tr>\n",
       "<td>\n",
       "&quot;10.1086/517897...\n",
       "</td>\n",
       "<td>\n",
       "&quot;10.5465/AMR.20...\n",
       "</td>\n",
       "<td>\n",
       "-0.051609\n",
       "</td>\n",
       "<td>\n",
       "0.986735\n",
       "</td>\n",
       "</tr>\n",
       "<tr>\n",
       "<td>\n",
       "&quot;10.1086/517897...\n",
       "</td>\n",
       "<td>\n",
       "&quot;10.2307/258140...\n",
       "</td>\n",
       "<td>\n",
       "-0.018036\n",
       "</td>\n",
       "<td>\n",
       "0.983635\n",
       "</td>\n",
       "</tr>\n",
       "</tbody>\n",
       "</table>\n",
       "</div>"
      ],
      "text/plain": [
       "shape: (5, 4)\n",
       "┌────────────────┬───────────────────────────┬────────────────┬───────────────┐\n",
       "│ DoiSrc         ┆ DoiDst                    ┆ NodeSimilarity ┆ DocSimilarity │\n",
       "│ ---            ┆ ---                       ┆ ---            ┆ ---           │\n",
       "│ str            ┆ str                       ┆ f32            ┆ f32           │\n",
       "╞════════════════╪═══════════════════════════╪════════════════╪═══════════════╡\n",
       "│ 10.1086/517897 ┆ 10.2307/256876            ┆ 0.127382       ┆ 0.989172      │\n",
       "│ 10.1086/517897 ┆ 10.1086/227352            ┆ 0.081357       ┆ 0.987412      │\n",
       "│ 10.1086/517897 ┆ 10.1287/orsc.1080.0406    ┆ 0.043373       ┆ 0.988418      │\n",
       "│ 10.1086/517897 ┆ 10.5465/AMR.2007.25275520 ┆ -0.051609      ┆ 0.986735      │\n",
       "│ 10.1086/517897 ┆ 10.2307/258140            ┆ -0.018036      ┆ 0.983635      │\n",
       "└────────────────┴───────────────────────────┴────────────────┴───────────────┘"
      ]
     },
     "execution_count": 17,
     "metadata": {},
     "output_type": "execute_result"
    }
   ],
   "source": [
    "node_sim_src, node_sim_dst = zip(*node_similarity.keys())\n",
    "node_sim = node_similarity.values()\n",
    "\n",
    "df_node_sim = pl.DataFrame([\n",
    "    pl.Series('DoiSrc', node_sim_src, pl.Utf8),\n",
    "    pl.Series('DoiDst', node_sim_dst, pl.Utf8),\n",
    "    pl.Series('NodeSimilarity', node_sim, pl.Float32),\n",
    "])\n",
    "\n",
    "doc_sim_src, doc_sim_dst = zip(*doc_similarity.keys())\n",
    "doc_sim = doc_similarity.values()\n",
    "\n",
    "df_doc_sim = pl.DataFrame([\n",
    "    pl.Series('DoiSrc', doc_sim_src, pl.Utf8),\n",
    "    pl.Series('DoiDst', doc_sim_dst, pl.Utf8),\n",
    "    pl.Series('DocSimilarity', doc_sim, pl.Float32),\n",
    "])\n",
    "\n",
    "df_corr = df_node_sim.join(df_doc_sim, on=['DoiSrc', 'DoiDst'], how='inner')\n",
    "df_corr.head(5)"
   ]
  },
  {
   "cell_type": "code",
   "execution_count": 18,
   "metadata": {},
   "outputs": [
    {
     "data": {
      "text/html": [
       "<div>\n",
       "<style scoped>\n",
       "    .dataframe tbody tr th:only-of-type {\n",
       "        vertical-align: middle;\n",
       "    }\n",
       "\n",
       "    .dataframe tbody tr th {\n",
       "        vertical-align: top;\n",
       "    }\n",
       "\n",
       "    .dataframe thead th {\n",
       "        text-align: right;\n",
       "    }\n",
       "\n",
       "    .dataframe td {\n",
       "        white-space: pre;\n",
       "    }\n",
       "\n",
       "    .dataframe td {\n",
       "        padding-top: 0;\n",
       "    }\n",
       "\n",
       "    .dataframe td {\n",
       "        padding-bottom: 0;\n",
       "    }\n",
       "</style>\n",
       "<table border=\"1\" class=\"dataframe\">\n",
       "<small>shape: (1, 1)</small>\n",
       "<thead>\n",
       "<tr>\n",
       "<th>\n",
       "sp_rank_corr\n",
       "</th>\n",
       "</tr>\n",
       "<tr>\n",
       "<td>\n",
       "f64\n",
       "</td>\n",
       "</tr>\n",
       "</thead>\n",
       "<tbody>\n",
       "<tr>\n",
       "<td>\n",
       "-0.000346\n",
       "</td>\n",
       "</tr>\n",
       "</tbody>\n",
       "</table>\n",
       "</div>"
      ],
      "text/plain": [
       "shape: (1, 1)\n",
       "┌──────────────┐\n",
       "│ sp_rank_corr │\n",
       "│ ---          │\n",
       "│ f64          │\n",
       "╞══════════════╡\n",
       "│ -0.000346    │\n",
       "└──────────────┘"
      ]
     },
     "execution_count": 18,
     "metadata": {},
     "output_type": "execute_result"
    }
   ],
   "source": [
    "# df_corr.select(pl.col('NodeSimilarity').corr(pl.col('DocSimilarity')))\n",
    "df_corr.select(pl.spearman_rank_corr('NodeSimilarity', 'DocSimilarity').alias('sp_rank_corr'))"
   ]
  },
  {
   "cell_type": "code",
   "execution_count": null,
   "metadata": {},
   "outputs": [],
   "source": []
  },
  {
   "cell_type": "code",
   "execution_count": 19,
   "metadata": {},
   "outputs": [],
   "source": [
    "mean_doc_vec = doc_model.dv.get_mean_vector(dois)\n",
    "mean_node_vec = np.mean(node_model.detach().cpu().numpy(), axis=0)"
   ]
  },
  {
   "cell_type": "code",
   "execution_count": 20,
   "metadata": {},
   "outputs": [
    {
     "data": {
      "text/plain": [
       "(128, 128)"
      ]
     },
     "execution_count": 20,
     "metadata": {},
     "output_type": "execute_result"
    }
   ],
   "source": [
    "len(mean_doc_vec), len(mean_node_vec)"
   ]
  },
  {
   "cell_type": "code",
   "execution_count": null,
   "metadata": {},
   "outputs": [],
   "source": []
  }
 ],
 "metadata": {
  "kernelspec": {
   "display_name": "Python 3",
   "language": "python",
   "name": "python3"
  },
  "language_info": {
   "codemirror_mode": {
    "name": "ipython",
    "version": 3
   },
   "file_extension": ".py",
   "mimetype": "text/x-python",
   "name": "python",
   "nbconvert_exporter": "python",
   "pygments_lexer": "ipython3",
   "version": "3.10.3"
  },
  "orig_nbformat": 4,
  "vscode": {
   "interpreter": {
    "hash": "aee8b7b246df8f9039afb4144a1f6fd8d2ca17a180786b69acc140d282b71a49"
   }
  }
 },
 "nbformat": 4,
 "nbformat_minor": 2
}
