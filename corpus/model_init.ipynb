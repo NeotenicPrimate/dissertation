{
 "cells": [
  {
   "cell_type": "code",
   "execution_count": 5,
   "metadata": {},
   "outputs": [],
   "source": [
    "%run './model/multi_corpus.py'\n",
    "%run './constants.py'"
   ]
  },
  {
   "cell_type": "code",
   "execution_count": 6,
   "metadata": {},
   "outputs": [
    {
     "name": "stdout",
     "output_type": "stream",
     "text": [
      "Gender Studies (4493, 13)\n",
      "Neurology (38385, 13)\n",
      "Artificial Intelligence (8071, 13)\n",
      "Sociology (5311, 13)\n",
      "Ethnic & Cultural Studies (3917, 13)\n",
      "Material Engineering (58879, 13)\n",
      "Human Resources & Organizations (7786, 13)\n",
      "Political Science (7278, 13)\n",
      "Immunology (42447, 13)\n",
      "Genetics & Genomics (33177, 13)\n",
      "Economics (9064, 13)\n",
      "International Business (7934, 13)\n",
      "Language & Linguistics (4354, 13)\n",
      "Probability & Statistics (8217, 13)\n",
      "Geometry (5495, 13)\n",
      "Geophysics (51030, 13)\n"
     ]
    }
   ],
   "source": [
    "citation_df()\n",
    "\n",
    "# 12 m"
   ]
  },
  {
   "cell_type": "code",
   "execution_count": 3,
   "metadata": {},
   "outputs": [
    {
     "name": "stdout",
     "output_type": "stream",
     "text": [
      "Gender Studies (2506, 3)\n",
      "Geometry (1263, 3)\n",
      "Geophysics (119998, 3)\n",
      "Economics (81284, 3)\n",
      "Language & Linguistics (13566, 3)\n",
      "Probability & Statistics (13313, 3)\n",
      "Material Engineering (450245, 3)\n",
      "Artificial Intelligence (15004, 3)\n",
      "Sociology (31328, 3)\n",
      "International Business (82834, 3)\n",
      "Political Science (21320, 3)\n",
      "Genetics & Genomics (73012, 3)\n",
      "Immunology (271453, 3)\n",
      "Human Resources & Organizations (43788, 3)\n",
      "Ethnic & Cultural Studies (1503, 3)\n",
      "Neurology (348236, 3)\n"
     ]
    }
   ],
   "source": [
    "co_citation_dfs()\n",
    "\n",
    "# 5 m"
   ]
  },
  {
   "cell_type": "code",
   "execution_count": 3,
   "metadata": {},
   "outputs": [
    {
     "name": "stdout",
     "output_type": "stream",
     "text": [
      "Gender Studies (2649107, 3)\n",
      "Geometry (1208186, 3)\n",
      "Geophysics (3699773, 3)\n",
      "Economics (1338708, 3)\n",
      "Language & Linguistics (2130611, 3)\n",
      "Probability & Statistics (2308626, 3)\n",
      "Material Engineering (3507416, 3)\n",
      "Artificial Intelligence (2795313, 3)\n",
      "Sociology (2474147, 3)\n",
      "International Business (1998496, 3)\n",
      "Political Science (2165658, 3)\n",
      "Genetics & Genomics (3450133, 3)\n",
      "Immunology (4144311, 3)\n",
      "Human Resources & Organizations (2277186, 3)\n",
      "Ethnic & Cultural Studies (2241635, 3)\n",
      "Neurology (3681822, 3)\n"
     ]
    }
   ],
   "source": [
    "co_occurence_dfs(n_samples=5000)\n",
    "\n",
    "# 1000  – 40 m\n",
    "# 5000  – 674 m"
   ]
  },
  {
   "cell_type": "code",
   "execution_count": 4,
   "metadata": {},
   "outputs": [
    {
     "name": "stdout",
     "output_type": "stream",
     "text": [
      "Gender Studies DiGraph with 4498 nodes and 10516 edges\n",
      "Geometry DiGraph with 5513 nodes and 7766 edges\n",
      "Geophysics DiGraph with 51481 nodes and 222792 edges\n",
      "Economics DiGraph with 9092 nodes and 77939 edges\n",
      "Language & Linguistics DiGraph with 4352 nodes and 21175 edges\n",
      "Probability & Statistics DiGraph with 8228 nodes and 29299 edges\n",
      "Material Engineering DiGraph with 59034 nodes and 447905 edges\n",
      "Artificial Intelligence DiGraph with 8066 nodes and 33053 edges\n",
      "Sociology DiGraph with 5308 nodes and 35343 edges\n",
      "International Business DiGraph with 7934 nodes and 61098 edges\n",
      "Political Science DiGraph with 7300 nodes and 38877 edges\n",
      "Genetics & Genomics DiGraph with 33382 nodes and 140529 edges\n",
      "Immunology DiGraph with 42506 nodes and 290160 edges\n",
      "Human Resources & Organizations DiGraph with 7825 nodes and 54232 edges\n",
      "Ethnic & Cultural Studies DiGraph with 3922 nodes and 8950 edges\n",
      "Neurology DiGraph with 38498 nodes and 343411 edges\n"
     ]
    }
   ],
   "source": [
    "cgs = citation_graphs()"
   ]
  },
  {
   "cell_type": "code",
   "execution_count": 3,
   "metadata": {},
   "outputs": [
    {
     "name": "stdout",
     "output_type": "stream",
     "text": [
      "Gender Studies Graph with 86 nodes and 100 edges\n",
      "Geometry Graph with 67 nodes and 100 edges\n",
      "Geophysics Graph with 118 nodes and 100 edges\n",
      "Economics Graph with 82 nodes and 100 edges\n",
      "Language & Linguistics Graph with 77 nodes and 100 edges\n",
      "Probability & Statistics Graph with 62 nodes and 100 edges\n",
      "Material Engineering Graph with 93 nodes and 100 edges\n",
      "Artificial Intelligence Graph with 88 nodes and 100 edges\n",
      "Sociology Graph with 64 nodes and 100 edges\n",
      "International Business Graph with 63 nodes and 100 edges\n",
      "Political Science Graph with 128 nodes and 100 edges\n",
      "Genetics & Genomics Graph with 45 nodes and 100 edges\n",
      "Immunology Graph with 115 nodes and 100 edges\n",
      "Human Resources & Organizations Graph with 100 nodes and 100 edges\n",
      "Ethnic & Cultural Studies Graph with 96 nodes and 100 edges\n",
      "Neurology Graph with 59 nodes and 100 edges\n"
     ]
    }
   ],
   "source": [
    "ccgs = co_citation_graphs(n_edges=100)"
   ]
  },
  {
   "cell_type": "code",
   "execution_count": 4,
   "metadata": {},
   "outputs": [
    {
     "name": "stdout",
     "output_type": "stream",
     "text": [
      "Gender Studies Graph with 58 nodes and 100 edges\n",
      "Geometry Graph with 70 nodes and 100 edges\n",
      "Geophysics Graph with 65 nodes and 100 edges\n",
      "Economics Graph with 48 nodes and 100 edges\n",
      "Language & Linguistics Graph with 57 nodes and 100 edges\n",
      "Probability & Statistics Graph with 60 nodes and 100 edges\n",
      "Material Engineering Graph with 48 nodes and 100 edges\n",
      "Artificial Intelligence Graph with 50 nodes and 100 edges\n",
      "Sociology Graph with 75 nodes and 100 edges\n",
      "International Business Graph with 55 nodes and 100 edges\n",
      "Political Science Graph with 56 nodes and 100 edges\n",
      "Genetics & Genomics Graph with 72 nodes and 100 edges\n",
      "Immunology Graph with 89 nodes and 100 edges\n",
      "Human Resources & Organizations Graph with 67 nodes and 100 edges\n",
      "Ethnic & Cultural Studies Graph with 54 nodes and 100 edges\n",
      "Neurology Graph with 47 nodes and 100 edges\n"
     ]
    }
   ],
   "source": [
    "cog = co_occurence_graphs(n_edges=100)\n",
    "\n",
    "# 4 s"
   ]
  },
  {
   "cell_type": "code",
   "execution_count": 7,
   "metadata": {},
   "outputs": [
    {
     "name": "stdout",
     "output_type": "stream",
     "text": [
      "Gender Studies (32, 5)\n",
      "Geometry (32, 5)\n",
      "Geophysics (35, 5)\n",
      "Economics (34, 5)\n",
      "Language & Linguistics (33, 5)\n",
      "Probability & Statistics (32, 5)\n",
      "Material Engineering (33, 5)\n",
      "Artificial Intelligence (33, 5)\n",
      "Sociology (32, 5)\n",
      "International Business (33, 5)\n",
      "Political Science (32, 5)\n",
      "Genetics & Genomics (31, 5)\n",
      "Immunology (33, 5)\n",
      "Human Resources & Organizations (33, 5)\n",
      "Ethnic & Cultural Studies (32, 5)\n",
      "Neurology (33, 5)\n"
     ]
    }
   ],
   "source": [
    "temporal_dfs()\n",
    "\n",
    "# 5 s"
   ]
  },
  {
   "cell_type": "code",
   "execution_count": null,
   "metadata": {},
   "outputs": [],
   "source": []
  },
  {
   "cell_type": "code",
   "execution_count": null,
   "metadata": {},
   "outputs": [],
   "source": []
  },
  {
   "cell_type": "code",
   "execution_count": null,
   "metadata": {},
   "outputs": [],
   "source": []
  }
 ],
 "metadata": {
  "kernelspec": {
   "display_name": "Python 3",
   "language": "python",
   "name": "python3"
  },
  "language_info": {
   "codemirror_mode": {
    "name": "ipython",
    "version": 3
   },
   "file_extension": ".py",
   "mimetype": "text/x-python",
   "name": "python",
   "nbconvert_exporter": "python",
   "pygments_lexer": "ipython3",
   "version": "3.10.3"
  },
  "orig_nbformat": 4,
  "vscode": {
   "interpreter": {
    "hash": "aee8b7b246df8f9039afb4144a1f6fd8d2ca17a180786b69acc140d282b71a49"
   }
  }
 },
 "nbformat": 4,
 "nbformat_minor": 2
}
