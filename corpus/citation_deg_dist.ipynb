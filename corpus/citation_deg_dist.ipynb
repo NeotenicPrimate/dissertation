{
 "cells": [
  {
   "cell_type": "code",
   "execution_count": null,
   "metadata": {},
   "outputs": [],
   "source": [
    "%run './model/multi_corpus.py'\n",
    "%run './constants.py'\n",
    "\n",
    "%matplotlib inline\n",
    "\n",
    "from matplotlib import cm\n",
    "import powerlaw"
   ]
  },
  {
   "cell_type": "code",
   "execution_count": null,
   "metadata": {},
   "outputs": [],
   "source": [
    "corpora = citation_graphs()\n",
    "Gs = {field_name: corpus['G'] for (field_name, corpus) in corpora.items()}\n",
    "Dfs = {field_name: corpus['Df'] for (field_name, corpus) in corpora.items()}"
   ]
  },
  {
   "cell_type": "code",
   "execution_count": null,
   "metadata": {},
   "outputs": [],
   "source": [
    "sns.reset_defaults()\n",
    "\n",
    "data = []\n",
    "field_names = []\n",
    "\n",
    "for field_name, G in Gs.items():\n",
    "\n",
    "    degrees = dict(G.in_degree()).values()\n",
    "    k, freq = zip(*Counter(degrees).items())\n",
    "    pk = np.array(freq) / np.sum(freq)\n",
    "\n",
    "    fig = plt.figure(figsize=(3, 3))\n",
    "    ax = fig.add_axes([0, 0, 1, 1])\n",
    "\n",
    "    ax.plot(k, freq, 'o', markeredgewidth=1, markeredgecolor='k')\n",
    "    # ax.plot(k, target_func(k, *popt), '--')\n",
    "    ax.set_yscale('log')\n",
    "    ax.set_xscale('log')\n",
    "    ax.set_xlabel('$\\log(k)$')\n",
    "    ax.set_ylabel('$\\log(freq)$')\n",
    "\n",
    "\n",
    "    ax1 = ax.twinx()\n",
    "    ax1.plot(k, pk, 'o', markeredgewidth=1, markeredgecolor='k')\n",
    "\n",
    "    ax1.set_yscale('log')\n",
    "    ax1.set_xscale('log')\n",
    "    ax1.set_ylabel('$\\log(P(k))$')\n",
    "\n",
    "    # fit = powerlaw.Fit(list(degrees))\n",
    "    # fit.power_law.plot_pdf(color='r', linestyle='-', ax=ax1)\n",
    "\n",
    "    fig.tight_layout()\n",
    "\n",
    "    plt.savefig(\n",
    "        os.path.join(LATEX_FIGURES_PATH, 'citation_deg_dist', f'{field_name.capitalize()}.png'), \n",
    "        transparent=True, \n",
    "        dpi=150,\n",
    "        bbox_inches='tight'\n",
    "    )"
   ]
  },
  {
   "cell_type": "code",
   "execution_count": null,
   "metadata": {},
   "outputs": [],
   "source": []
  }
 ],
 "metadata": {
  "kernelspec": {
   "display_name": "venv",
   "language": "python",
   "name": "python3"
  },
  "language_info": {
   "codemirror_mode": {
    "name": "ipython",
    "version": 3
   },
   "file_extension": ".py",
   "mimetype": "text/x-python",
   "name": "python",
   "nbconvert_exporter": "python",
   "pygments_lexer": "ipython3",
   "version": "3.10.3"
  },
  "orig_nbformat": 4
 },
 "nbformat": 4,
 "nbformat_minor": 2
}
