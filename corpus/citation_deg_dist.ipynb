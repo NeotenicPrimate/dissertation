{
 "cells": [
  {
   "cell_type": "code",
   "execution_count": 21,
   "metadata": {},
   "outputs": [],
   "source": [
    "%run './model/multi_corpus.py'\n",
    "%run './constants.py'\n",
    "\n",
    "%matplotlib inline\n",
    "\n",
    "from matplotlib import cm\n",
    "import powerlaw"
   ]
  },
  {
   "cell_type": "code",
   "execution_count": 22,
   "metadata": {},
   "outputs": [
    {
     "name": "stdout",
     "output_type": "stream",
     "text": [
      "Gender Studies DiGraph with 4498 nodes and 10516 edges\n",
      "Geometry DiGraph with 5513 nodes and 7766 edges\n",
      "Geophysics DiGraph with 51481 nodes and 222792 edges\n",
      "Economics DiGraph with 9092 nodes and 77939 edges\n",
      "Language & Linguistics DiGraph with 4352 nodes and 21175 edges\n",
      "Probability & Statistics DiGraph with 8228 nodes and 29299 edges\n",
      "Material Engineering DiGraph with 59034 nodes and 447905 edges\n",
      "Artificial Intelligence DiGraph with 8066 nodes and 33053 edges\n",
      "Sociology DiGraph with 5308 nodes and 35343 edges\n",
      "International Business DiGraph with 7934 nodes and 61098 edges\n",
      "Political Science DiGraph with 7300 nodes and 38877 edges\n",
      "Genetics & Genomics DiGraph with 33382 nodes and 140529 edges\n",
      "Immunology DiGraph with 42506 nodes and 290160 edges\n",
      "Human Resources & Organizations DiGraph with 7825 nodes and 54232 edges\n",
      "Ethnic & Cultural Studies DiGraph with 3922 nodes and 8950 edges\n",
      "Neurology DiGraph with 38498 nodes and 343411 edges\n"
     ]
    }
   ],
   "source": [
    "corpora = citation_graphs()\n",
    "Gs = {field_name: corpus['G'] for (field_name, corpus) in corpora.items()}\n",
    "Dfs = {field_name: corpus['Df'] for (field_name, corpus) in corpora.items()}"
   ]
  },
  {
   "cell_type": "code",
   "execution_count": 29,
   "metadata": {},
   "outputs": [
    {
     "name": "stderr",
     "output_type": "stream",
     "text": [
      "/var/folders/rz/n4jmlyh1355cy_wkn5gd00x40000gn/T/ipykernel_40810/101213931.py:33: UserWarning: This figure includes Axes that are not compatible with tight_layout, so results might be incorrect.\n",
      "  fig.tight_layout()\n"
     ]
    }
   ],
   "source": [
    "sns.reset_defaults()\n",
    "\n",
    "data = []\n",
    "field_names = []\n",
    "\n",
    "for field_name, G in Gs.items():\n",
    "\n",
    "    degrees = dict(G.in_degree()).values()\n",
    "    k, freq = zip(*Counter(degrees).items())\n",
    "    pk = np.array(freq) / np.sum(freq)\n",
    "\n",
    "    fig = plt.figure(figsize=(3, 3))\n",
    "    ax = fig.add_axes([0, 0, 1, 1])\n",
    "\n",
    "    ax.plot(k, freq, 'o', markeredgewidth=1, markeredgecolor='k')\n",
    "    # ax.plot(k, target_func(k, *popt), '--')\n",
    "    ax.set_yscale('log')\n",
    "    ax.set_xscale('log')\n",
    "    ax.set_xlabel('$\\log(k)$')\n",
    "    ax.set_ylabel('$\\log(freq)$')\n",
    "\n",
    "\n",
    "    ax1 = ax.twinx()\n",
    "    ax1.plot(k, pk, 'o', markeredgewidth=1, markeredgecolor='k')\n",
    "\n",
    "    ax1.set_yscale('log')\n",
    "    ax1.set_xscale('log')\n",
    "    ax1.set_ylabel('$\\log(P(k))$')\n",
    "\n",
    "    # fit = powerlaw.Fit(list(degrees))\n",
    "    # fit.power_law.plot_pdf(color='r', linestyle='-', ax=ax1)\n",
    "\n",
    "    fig.tight_layout()\n",
    "\n",
    "    plt.savefig(\n",
    "        os.path.join(LATEX_FIGURES_PATH, 'citation_deg_dist', f'{field_name.capitalize()}.png'), \n",
    "        transparent=True, \n",
    "        dpi=150,\n",
    "        bbox_inches='tight'\n",
    "    )"
   ]
  },
  {
   "cell_type": "code",
   "execution_count": null,
   "metadata": {},
   "outputs": [],
   "source": []
  }
 ],
 "metadata": {
  "kernelspec": {
   "display_name": "venv",
   "language": "python",
   "name": "python3"
  },
  "language_info": {
   "codemirror_mode": {
    "name": "ipython",
    "version": 3
   },
   "file_extension": ".py",
   "mimetype": "text/x-python",
   "name": "python",
   "nbconvert_exporter": "python",
   "pygments_lexer": "ipython3",
   "version": "3.10.3"
  },
  "orig_nbformat": 4
 },
 "nbformat": 4,
 "nbformat_minor": 2
}
