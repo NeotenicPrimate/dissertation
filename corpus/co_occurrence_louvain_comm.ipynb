{
 "cells": [
  {
   "cell_type": "code",
   "execution_count": null,
   "metadata": {},
   "outputs": [],
   "source": [
    "%run './model/multi_corpus.py'\n",
    "%run './constants.py'\n",
    "\n",
    "from itertools import accumulate\n",
    "import operator"
   ]
  },
  {
   "cell_type": "code",
   "execution_count": null,
   "metadata": {},
   "outputs": [],
   "source": [
    "corpora = co_occurence_graphs()\n",
    "Gs = {field_name: corpus['G'] for (field_name, corpus) in corpora.items()}\n",
    "Dfs = {field_name: corpus['Df'] for (field_name, corpus) in corpora.items()}"
   ]
  },
  {
   "cell_type": "code",
   "execution_count": null,
   "metadata": {},
   "outputs": [],
   "source": [
    "communities = {}\n",
    "community_lengths = {}\n",
    "community_number = {}\n",
    "for field_name, G in Gs.items():\n",
    "    print(field_name)\n",
    "    comms = nx.community.louvain_communities(G)\n",
    "    communities[field_name] = comms\n",
    "    community_lengths[field_name] = [len(comm) for comm in comms]\n",
    "    community_number[field_name] = len(comms)"
   ]
  },
  {
   "cell_type": "code",
   "execution_count": null,
   "metadata": {},
   "outputs": [],
   "source": [
    "sns.reset_defaults()\n",
    "\n",
    "for field_name, comms in community_lengths.items():\n",
    "\n",
    "    fig = plt.figure(figsize=(15, 10))\n",
    "    ax = fig.add_axes([0, 0, 1, 1])\n",
    "\n",
    "    comm_id = range(len(comms))\n",
    "    sorted_comms = sorted(comms, reverse=True)\n",
    "    cum_comms = list(accumulate(sorted_comms, operator.add))\n",
    "\n",
    "    dist = np.array(cum_comms) / sum(sorted_comms)\n",
    "\n",
    "    ax.bar(comm_id, sorted_comms, edgecolor='k')\n",
    "\n",
    "    ax2 = ax.twinx()\n",
    "\n",
    "    ax2.plot(\n",
    "        comm_id,\n",
    "        dist,\n",
    "        'ro-', \n",
    "        markeredgewidth=1, \n",
    "        markeredgecolor='k',\n",
    "        markerfacecolor=\"white\", \n",
    "        linewidth=3,\n",
    "    )\n",
    "\n",
    "    plt.xticks(range(0, len(comms)))\n",
    "\n",
    "    fig.tight_layout()\n",
    "\n",
    "    plt.savefig(\n",
    "        os.path.join(LATEX_FIGURES_PATH, 'co_occurrence_louvain_comm_dist', f'{field_name.capitalize()}.png'), \n",
    "        transparent=True, \n",
    "        dpi=150,\n",
    "        bbox_inches='tight'\n",
    "    )\n",
    "\n",
    "    plt.show()"
   ]
  },
  {
   "cell_type": "code",
   "execution_count": null,
   "metadata": {},
   "outputs": [],
   "source": []
  },
  {
   "cell_type": "code",
   "execution_count": null,
   "metadata": {},
   "outputs": [],
   "source": []
  },
  {
   "cell_type": "code",
   "execution_count": null,
   "metadata": {},
   "outputs": [],
   "source": [
    "field_name = 'Political Science'\n",
    "G = Gs[field_name]\n",
    "comms = communities[field_name]\n",
    "\n",
    "n = 20\n",
    "\n",
    "degree = dict(G.degree(weight='weight'))\n",
    "sorted_degrees = sorted(degree.items(), key=lambda tup: tup[1], reverse=True)\n",
    "node_order = {n: i for i, (n, _) in enumerate(sorted_degrees)}\n",
    "\n",
    "df = pl.DataFrame()\n",
    "for i, comm in enumerate(comms):\n",
    "    ordered_comm = [(n, node_order[n]) for n in comm]\n",
    "    sorted_comm = sorted(ordered_comm, key=lambda tup: tup[1])\n",
    "    sorted_terms = list(map(lambda tup: tup[0], sorted_comm))\n",
    "    sorted_terms = sorted_terms + [None] * (n - len(sorted_terms))\n",
    "    df = df.with_columns(pl.Series(f'Community {i}', sorted_terms[:n]))"
   ]
  },
  {
   "cell_type": "code",
   "execution_count": null,
   "metadata": {},
   "outputs": [],
   "source": [
    "df"
   ]
  },
  {
   "cell_type": "code",
   "execution_count": null,
   "metadata": {},
   "outputs": [],
   "source": []
  },
  {
   "cell_type": "code",
   "execution_count": null,
   "metadata": {},
   "outputs": [],
   "source": []
  }
 ],
 "metadata": {
  "kernelspec": {
   "display_name": "Python 3",
   "language": "python",
   "name": "python3"
  },
  "language_info": {
   "codemirror_mode": {
    "name": "ipython",
    "version": 3
   },
   "file_extension": ".py",
   "mimetype": "text/x-python",
   "name": "python",
   "nbconvert_exporter": "python",
   "pygments_lexer": "ipython3",
   "version": "3.10.3"
  },
  "orig_nbformat": 4
 },
 "nbformat": 4,
 "nbformat_minor": 2
}
