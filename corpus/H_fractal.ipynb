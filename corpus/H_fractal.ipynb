{
 "cells": [
  {
   "cell_type": "code",
   "execution_count": 21,
   "metadata": {},
   "outputs": [],
   "source": [
    "%run './model/multi_corpus.py'\n",
    "%run './constants.py'"
   ]
  },
  {
   "cell_type": "code",
   "execution_count": 22,
   "metadata": {},
   "outputs": [
    {
     "name": "stdout",
     "output_type": "stream",
     "text": [
      "Gender Studies Graph with 57 nodes and 100 edges\n",
      "Geometry Graph with 61 nodes and 100 edges\n",
      "Geophysics Graph with 63 nodes and 100 edges\n",
      "Economics Graph with 50 nodes and 100 edges\n",
      "Language & Linguistics Graph with 58 nodes and 100 edges\n",
      "Probability & Statistics Graph with 58 nodes and 100 edges\n",
      "Material Engineering Graph with 49 nodes and 100 edges\n",
      "Artificial Intelligence Graph with 49 nodes and 100 edges\n",
      "Sociology Graph with 76 nodes and 100 edges\n",
      "International Business Graph with 51 nodes and 100 edges\n",
      "Political Science Graph with 56 nodes and 100 edges\n",
      "Genetics & Genomics Graph with 71 nodes and 100 edges\n",
      "Immunology Graph with 92 nodes and 100 edges\n",
      "Human Resources & Organizations Graph with 66 nodes and 100 edges\n",
      "Ethnic & Cultural Studies Graph with 52 nodes and 100 edges\n",
      "Neurology Graph with 46 nodes and 100 edges\n"
     ]
    }
   ],
   "source": [
    "corpora = co_occurence_graphs(n_edges=100)\n",
    "Gs_co = {field_name: corpus['G'] for (field_name, corpus) in corpora.items()}\n",
    "Dfs_co = {field_name: corpus['Df'] for (field_name, corpus) in corpora.items()}"
   ]
  },
  {
   "cell_type": "code",
   "execution_count": 23,
   "metadata": {},
   "outputs": [
    {
     "name": "stdout",
     "output_type": "stream",
     "text": [
      "Gender Studies Graph with 90 nodes and 100 edges\n",
      "Geometry Graph with 96 nodes and 100 edges\n",
      "Geophysics Graph with 129 nodes and 100 edges\n",
      "Economics Graph with 73 nodes and 100 edges\n",
      "Language & Linguistics Graph with 59 nodes and 100 edges\n",
      "Probability & Statistics Graph with 49 nodes and 100 edges\n",
      "Material Engineering Graph with 87 nodes and 100 edges\n",
      "Artificial Intelligence Graph with 81 nodes and 100 edges\n",
      "Sociology Graph with 64 nodes and 100 edges\n",
      "International Business Graph with 61 nodes and 100 edges\n",
      "Political Science Graph with 119 nodes and 100 edges\n",
      "Genetics & Genomics Graph with 47 nodes and 100 edges\n",
      "Immunology Graph with 114 nodes and 100 edges\n",
      "Human Resources & Organizations Graph with 91 nodes and 100 edges\n",
      "Ethnic & Cultural Studies Graph with 90 nodes and 100 edges\n",
      "Neurology Graph with 92 nodes and 100 edges\n"
     ]
    }
   ],
   "source": [
    "corpora = co_citation_graphs(n_edges=100)\n",
    "Gs_cc = {field_name: corpus['G'] for (field_name, corpus) in corpora.items()}\n",
    "Dfs_cc = {field_name: corpus['Df'] for (field_name, corpus) in corpora.items()}"
   ]
  },
  {
   "cell_type": "code",
   "execution_count": 24,
   "metadata": {},
   "outputs": [],
   "source": [
    "field_name = 'Sociology'\n",
    "\n",
    "G_co = Gs_co[field_name]\n",
    "G_cc = Gs_cc[field_name]"
   ]
  },
  {
   "cell_type": "code",
   "execution_count": 25,
   "metadata": {},
   "outputs": [
    {
     "name": "stdout",
     "output_type": "stream",
     "text": [
      "11\n",
      "4\n",
      "\n",
      "12\n",
      "10\n",
      "\n",
      "53\n",
      "72\n",
      "\n"
     ]
    }
   ],
   "source": [
    "G_cc_components = list(nx.connected_components(G_cc))\n",
    "G_co_components = list(nx.connected_components(G_co))\n",
    "\n",
    "print(len(G_cc_components))\n",
    "print(len(G_co_components))\n",
    "print()\n",
    "\n",
    "G_cc_louvain_communities = list(nx.community.louvain_communities(G_cc))\n",
    "G_co_louvain_communities = list(nx.community.louvain_communities(G_co))\n",
    "\n",
    "print(len(G_cc_louvain_communities))\n",
    "print(len(G_co_louvain_communities))\n",
    "print()\n",
    "\n",
    "G_cc_girvan_newman_communities = list(nx.community.girvan_newman(G_cc))\n",
    "G_co_girvan_newman_communities = list(nx.community.girvan_newman(G_co))\n",
    "\n",
    "print(len(G_cc_girvan_newman_communities))\n",
    "print(len(G_co_girvan_newman_communities))\n",
    "print()"
   ]
  },
  {
   "cell_type": "code",
   "execution_count": null,
   "metadata": {},
   "outputs": [],
   "source": [
    "G_cc_girvan_newman_communities"
   ]
  }
 ],
 "metadata": {
  "kernelspec": {
   "display_name": "venv",
   "language": "python",
   "name": "python3"
  },
  "language_info": {
   "codemirror_mode": {
    "name": "ipython",
    "version": 3
   },
   "file_extension": ".py",
   "mimetype": "text/x-python",
   "name": "python",
   "nbconvert_exporter": "python",
   "pygments_lexer": "ipython3",
   "version": "3.10.3"
  },
  "orig_nbformat": 4
 },
 "nbformat": 4,
 "nbformat_minor": 2
}
