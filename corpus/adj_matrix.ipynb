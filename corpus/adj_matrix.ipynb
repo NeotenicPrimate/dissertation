{
 "cells": [
  {
   "cell_type": "code",
   "execution_count": 1,
   "metadata": {},
   "outputs": [],
   "source": [
    "%run './model/multi_corpus.py'\n",
    "%run './constants.py'"
   ]
  },
  {
   "cell_type": "code",
   "execution_count": 2,
   "metadata": {},
   "outputs": [
    {
     "name": "stdout",
     "output_type": "stream",
     "text": [
      "Gender Studies Graph with 57 nodes and 100 edges\n",
      "Geometry Graph with 61 nodes and 100 edges\n",
      "Geophysics Graph with 63 nodes and 100 edges\n",
      "Economics Graph with 50 nodes and 100 edges\n",
      "Language & Linguistics Graph with 58 nodes and 100 edges\n",
      "Probability & Statistics Graph with 58 nodes and 100 edges\n",
      "Material Engineering Graph with 49 nodes and 100 edges\n",
      "Artificial Intelligence Graph with 49 nodes and 100 edges\n",
      "Sociology Graph with 76 nodes and 100 edges\n",
      "International Business Graph with 51 nodes and 100 edges\n",
      "Political Science Graph with 56 nodes and 100 edges\n",
      "Genetics & Genomics Graph with 71 nodes and 100 edges\n",
      "Immunology Graph with 92 nodes and 100 edges\n",
      "Human Resources & Organizations Graph with 66 nodes and 100 edges\n",
      "Ethnic & Cultural Studies Graph with 52 nodes and 100 edges\n",
      "Neurology Graph with 46 nodes and 100 edges\n"
     ]
    }
   ],
   "source": [
    "corpora = co_occurence_graphs(100)\n",
    "Gs = {field_name: corpus['G'] for (field_name, corpus) in corpora.items()}\n",
    "Dfs = {field_name: corpus['Df'] for (field_name, corpus) in corpora.items()}"
   ]
  },
  {
   "cell_type": "code",
   "execution_count": 3,
   "metadata": {},
   "outputs": [
    {
     "data": {
      "text/plain": [
       "{'Gender Studies': <networkx.classes.graph.Graph at 0x12aeb5330>,\n",
       " 'Geometry': <networkx.classes.graph.Graph at 0x103e40400>,\n",
       " 'Geophysics': <networkx.classes.graph.Graph at 0x103e41db0>,\n",
       " 'Economics': <networkx.classes.graph.Graph at 0x103e42920>,\n",
       " 'Language & Linguistics': <networkx.classes.graph.Graph at 0x103e427d0>,\n",
       " 'Probability & Statistics': <networkx.classes.graph.Graph at 0x12e6509d0>,\n",
       " 'Material Engineering': <networkx.classes.graph.Graph at 0x12e650b20>,\n",
       " 'Artificial Intelligence': <networkx.classes.graph.Graph at 0x12e650730>,\n",
       " 'Sociology': <networkx.classes.graph.Graph at 0x12e650ac0>,\n",
       " 'International Business': <networkx.classes.graph.Graph at 0x12e6507f0>,\n",
       " 'Political Science': <networkx.classes.graph.Graph at 0x12e650880>,\n",
       " 'Genetics & Genomics': <networkx.classes.graph.Graph at 0x12e650820>,\n",
       " 'Immunology': <networkx.classes.graph.Graph at 0x12e6507c0>,\n",
       " 'Human Resources & Organizations': <networkx.classes.graph.Graph at 0x12e650e80>,\n",
       " 'Ethnic & Cultural Studies': <networkx.classes.graph.Graph at 0x12e650d60>,\n",
       " 'Neurology': <networkx.classes.graph.Graph at 0x12e650dc0>}"
      ]
     },
     "execution_count": 3,
     "metadata": {},
     "output_type": "execute_result"
    }
   ],
   "source": [
    "Gs"
   ]
  },
  {
   "cell_type": "code",
   "execution_count": 12,
   "metadata": {},
   "outputs": [],
   "source": [
    "for field_name, G in Gs.items():\n",
    "    path = f'./adj_list/'\n",
    "\n",
    "    if not os.path.exists(path):\n",
    "        os.mkdir(path)\n",
    "    \n",
    "    path = path + f'{field_name}.csv'\n",
    "    M = nx.to_numpy_array(G)\n",
    "    np.savetxt(path, M, delimiter=\"\\t\")"
   ]
  },
  {
   "cell_type": "code",
   "execution_count": null,
   "metadata": {},
   "outputs": [],
   "source": []
  }
 ],
 "metadata": {
  "kernelspec": {
   "display_name": "venv",
   "language": "python",
   "name": "python3"
  },
  "language_info": {
   "codemirror_mode": {
    "name": "ipython",
    "version": 3
   },
   "file_extension": ".py",
   "mimetype": "text/x-python",
   "name": "python",
   "nbconvert_exporter": "python",
   "pygments_lexer": "ipython3",
   "version": "3.10.3"
  }
 },
 "nbformat": 4,
 "nbformat_minor": 2
}
