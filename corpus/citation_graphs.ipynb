{
 "cells": [
  {
   "cell_type": "code",
   "execution_count": null,
   "metadata": {},
   "outputs": [],
   "source": [
    "%run './model/multi_corpus.py'\n",
    "\n",
    "from matplotlib import cm"
   ]
  },
  {
   "cell_type": "code",
   "execution_count": null,
   "metadata": {},
   "outputs": [],
   "source": [
    "corpora = citation_graphs()\n",
    "Gs = {field_name: corpus['G'] for (field_name, corpus) in corpora.items()}\n",
    "Dfs = {field_name: corpus['Df'] for (field_name, corpus) in corpora.items()}"
   ]
  },
  {
   "cell_type": "markdown",
   "metadata": {},
   "source": [
    "# Citation Graphs"
   ]
  },
  {
   "cell_type": "code",
   "execution_count": null,
   "metadata": {},
   "outputs": [],
   "source": [
    "cmap = cm.plasma\n",
    "node_factor = 500\n",
    "# n_cols = 2\n",
    "# n_rows = np.ceil(len(corpora) / n_cols)\n",
    "\n",
    "sns.set()\n",
    "\n",
    "for field_name, G in Gs.items():\n",
    "    fig, ax = plt.subplots(1, figsize=(10, 10))\n",
    "\n",
    "    print(field_name)\n",
    "\n",
    "    G = G.to_undirected()\n",
    "    G = G.subgraph(max(nx.connected_components(G), key=len))\n",
    "    cent_map = dict(nx.betweenness_centrality(G))\n",
    "\n",
    "    sorted_cent_map = dict(sorted(cent_map.items(), key=lambda tup: tup[1]))\n",
    "    node_list = list(sorted_cent_map.keys())\n",
    "    node_cent = np.fromiter(sorted_cent_map.values(), float)\n",
    "    normalized_node_map = dict(zip(node_list, node_cent / node_cent.max()))\n",
    "    normalized_node_list = list(normalized_node_map.keys())\n",
    "    normalized_node_cent = np.fromiter(normalized_node_map.values(), float)\n",
    "\n",
    "    pos = nx.nx_agraph.graphviz_layout(G, prog=\"sfdp\") # dot, twopi, fdp, sfdp, circo\n",
    "\n",
    "    for i, (node, cent) in enumerate(normalized_node_map.items()):\n",
    "        greater_nodes = nx.draw_networkx_nodes(\n",
    "            G, \n",
    "            pos, \n",
    "            nodelist=[node],\n",
    "            node_size=[cent * node_factor],\n",
    "            # node_color=[cent],\n",
    "            node_shape='o',\n",
    "            alpha=1,\n",
    "            ax=ax,\n",
    "            cmap=cmap,\n",
    "            linewidths=1,\n",
    "            edgecolors='k',\n",
    "            margins=None,\n",
    "        ) \n",
    "        greater_nodes.set_zorder(i)\n",
    "\n",
    "    edges = nx.draw_networkx_edges(\n",
    "        G, \n",
    "        pos,\n",
    "        width=1.0,\n",
    "        edge_color='k',\n",
    "        style='solid',\n",
    "        alpha=0.1, \n",
    "        ax=ax,\n",
    "        arrows=True,\n",
    "        nodelist=node_list,\n",
    "        node_size=node_cent * node_factor,\n",
    "        node_shape='o',\n",
    "        connectionstyle='arc3, rad=0.3',\n",
    "    )\n",
    "\n",
    "    # edges.set_zorder(-1)\n",
    "    # for c in edges:\n",
    "    #     c.set_zorder(-1)\n",
    "\n",
    "    ax.axis('off')\n",
    "\n",
    "    ax.grid(False)\n",
    "\n",
    "    plt.savefig(\n",
    "        os.path.join('./citation_graphs', f'{field_name.capitalize()}.png'), \n",
    "        transparent=True,\n",
    "        dpi=150 \n",
    "    )\n",
    "\n",
    "    plt.show()"
   ]
  },
  {
   "cell_type": "code",
   "execution_count": null,
   "metadata": {},
   "outputs": [],
   "source": []
  },
  {
   "cell_type": "code",
   "execution_count": null,
   "metadata": {},
   "outputs": [],
   "source": []
  }
 ],
 "metadata": {
  "kernelspec": {
   "display_name": "Python 3",
   "language": "python",
   "name": "python3"
  },
  "language_info": {
   "codemirror_mode": {
    "name": "ipython",
    "version": 3
   },
   "file_extension": ".py",
   "mimetype": "text/x-python",
   "name": "python",
   "nbconvert_exporter": "python",
   "pygments_lexer": "ipython3",
   "version": "3.9.6"
  },
  "orig_nbformat": 4,
  "vscode": {
   "interpreter": {
    "hash": "aee8b7b246df8f9039afb4144a1f6fd8d2ca17a180786b69acc140d282b71a49"
   }
  }
 },
 "nbformat": 4,
 "nbformat_minor": 2
}
