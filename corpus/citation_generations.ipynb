{
 "cells": [
  {
   "cell_type": "code",
   "execution_count": null,
   "metadata": {},
   "outputs": [],
   "source": [
    "%run './model/multi_corpus.py'\n",
    "%run './constants.py'\n",
    "\n",
    "from matplotlib import cm"
   ]
  },
  {
   "cell_type": "code",
   "execution_count": null,
   "metadata": {},
   "outputs": [],
   "source": [
    "corpora = citation_graphs()\n",
    "Gs = {field_name: corpus['G'] for (field_name, corpus) in corpora.items()}\n",
    "Dfs = {field_name: corpus['Df'] for (field_name, corpus) in corpora.items()}"
   ]
  },
  {
   "attachments": {},
   "cell_type": "markdown",
   "metadata": {},
   "source": [
    "# Generational Growth"
   ]
  },
  {
   "cell_type": "code",
   "execution_count": null,
   "metadata": {},
   "outputs": [],
   "source": [
    "sns.reset_defaults()\n",
    "\n",
    "for (field_name, corpus) in corpora.items():\n",
    "\n",
    "    print(field_name)\n",
    "\n",
    "    G = corpus['G'].reverse()\n",
    "\n",
    "    num_per_gen = [len(l) for l in nx.topological_generations(G)]\n",
    "    gens = range(len(num_per_gen))\n",
    "    \n",
    "    fig = plt.figure(figsize=(5, 5))\n",
    "    ax = fig.add_axes([0, 0, 1, 1])\n",
    "\n",
    "    ax.barh(gens, num_per_gen, align='center', edgecolor='k')\n",
    "    ax.set_yticks(gens, labels=gens)\n",
    "    ax.invert_yaxis()\n",
    "    ax.set_xlabel('Freq')\n",
    "    ax.set_ylabel('Generation')\n",
    "    \n",
    "    ax.set_yticks(np.arange(0, max(gens), 2))\n",
    "\n",
    "    ax.grid(False)\n",
    "    fig.tight_layout()\n",
    "\n",
    "    plt.savefig(\n",
    "        os.path.join(LATEX_FIGURES_PATH, 'generational_doc_dist', f'{field_name.capitalize()}.png'), \n",
    "        transparent=True, \n",
    "        dpi=150,\n",
    "        bbox_inches='tight',\n",
    "    )"
   ]
  },
  {
   "cell_type": "markdown",
   "metadata": {},
   "source": [
    "# Descendants"
   ]
  },
  {
   "cell_type": "code",
   "execution_count": null,
   "metadata": {},
   "outputs": [],
   "source": [
    "field_name = 'Artificial Intelligence'\n",
    "corpus = corpora[field_name]\n",
    "\n",
    "df = corpus['Df']\n",
    "G = corpus['G'].reverse()"
   ]
  },
  {
   "cell_type": "code",
   "execution_count": null,
   "metadata": {},
   "outputs": [],
   "source": [
    "sns.reset_defaults()\n",
    "cmap = cm.plasma\n",
    "\n",
    "node_size = 50\n",
    "\n",
    "roots = [n for n in G.nodes() if G.in_degree(n) == 0]\n",
    "root = roots[1]\n",
    "\n",
    "G_genealogy = nx.bfs_tree(G, root)\n",
    "\n",
    "# pos = nx.nx_agraph.graphviz_layout(G_genealogy, prog=\"dot\") # dot, twopi, fdp, sfdp, circo\n",
    "pos = nx.nx_agraph.graphviz_layout(G_genealogy, prog=\"sfdp\") # dot, twopi, fdp, sfdp, circo\n",
    "# pos = nx.nx_agraph.graphviz_layout(G_genealogy, prog=\"circo\") # dot, twopi, fdp, sfdp, circo\n",
    "# pos = nx.nx_agraph.graphviz_layout(G_genealogy, prog=\"twopi\") # dot, twopi, fdp, sfdp, circo\n",
    "\n",
    "plt.figure(figsize=(25, 25))\n",
    "\n",
    "root_node = nx.draw_networkx_nodes(\n",
    "    G_genealogy, \n",
    "    pos, \n",
    "    nodelist=[root],\n",
    "    node_size=200,\n",
    "    node_color='red',\n",
    "    node_shape='o',\n",
    "    alpha=None,\n",
    "    cmap=None,\n",
    "    vmin=None,\n",
    "    vmax=None,\n",
    "    ax=None,\n",
    "    linewidths=1.0, \n",
    "    edgecolors='k', \n",
    "    label=root, \n",
    "    margins=None\n",
    ")\n",
    "root_node.set_zorder(2)\n",
    "\n",
    "nodes = nx.draw_networkx_nodes(\n",
    "    G_genealogy, \n",
    "    pos, \n",
    "    nodelist=None,\n",
    "    node_size=node_size,\n",
    "    # node_color=None,\n",
    "    node_shape='o',\n",
    "    alpha=None,\n",
    "    cmap=cmap,\n",
    "    vmin=None,\n",
    "    vmax=None,\n",
    "    ax=None,\n",
    "    linewidths=1.0, \n",
    "    edgecolors='k', \n",
    "    # label=None, \n",
    "    margins=None\n",
    ")\n",
    "nodes.set_zorder(1)\n",
    "\n",
    "edges = nx.draw_networkx_edges(\n",
    "    G_genealogy, \n",
    "    pos,\n",
    "    edgelist=None,\n",
    "    width=1.0,\n",
    "    edge_color='k',\n",
    "    style='solid',\n",
    "    alpha=0.5,\n",
    "    arrowstyle=None,\n",
    "    arrowsize=10,\n",
    "    edge_cmap=None,\n",
    "    edge_vmin=None,\n",
    "    edge_vmax=None,\n",
    "    ax=None,\n",
    "    arrows=None,\n",
    "    label=None,\n",
    "    node_size=node_size,\n",
    "    nodelist=None,\n",
    "    node_shape='o',\n",
    "    connectionstyle='arc3',\n",
    "    min_source_margin=0,\n",
    "    min_target_margin=0,\n",
    ")\n",
    "\n",
    "for c in edges:\n",
    "    c.set_zorder(-1)\n",
    "# edges.set_zorder(-1)\n",
    "\n",
    "plt.legend()\n",
    "\n",
    "plt.grid(False)\n",
    "plt.box(False)\n",
    "\n",
    "root = root.replace('/', '-')\n",
    "plt.savefig(\n",
    "    os.path.join(LATEX_FIGURES_PATH, 'genealogy_trees', f'{root}.png'), \n",
    "    transparent=True, \n",
    "    dpi=300,\n",
    "    bbox_inches='tight',\n",
    ")"
   ]
  },
  {
   "cell_type": "code",
   "execution_count": null,
   "metadata": {},
   "outputs": [],
   "source": []
  },
  {
   "cell_type": "code",
   "execution_count": null,
   "metadata": {},
   "outputs": [],
   "source": []
  }
 ],
 "metadata": {
  "kernelspec": {
   "display_name": "Python 3",
   "language": "python",
   "name": "python3"
  },
  "language_info": {
   "codemirror_mode": {
    "name": "ipython",
    "version": 3
   },
   "file_extension": ".py",
   "mimetype": "text/x-python",
   "name": "python",
   "nbconvert_exporter": "python",
   "pygments_lexer": "ipython3",
   "version": "3.10.3"
  },
  "orig_nbformat": 4,
  "vscode": {
   "interpreter": {
    "hash": "aee8b7b246df8f9039afb4144a1f6fd8d2ca17a180786b69acc140d282b71a49"
   }
  }
 },
 "nbformat": 4,
 "nbformat_minor": 2
}
