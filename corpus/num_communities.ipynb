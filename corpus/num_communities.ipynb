{
 "cells": [
  {
   "cell_type": "code",
   "execution_count": 1,
   "metadata": {},
   "outputs": [],
   "source": [
    "%run './model/multi_corpus.py'\n",
    "%run './constants.py'"
   ]
  },
  {
   "cell_type": "code",
   "execution_count": 14,
   "metadata": {},
   "outputs": [
    {
     "name": "stdout",
     "output_type": "stream",
     "text": [
      "Gender Studies Graph with 18375 nodes and 2362724 edges\n",
      "Geometry Graph with 11881 nodes and 1119429 edges\n",
      "Geophysics Graph with 21341 nodes and 3709723 edges\n",
      "Economics Graph with 12780 nodes and 1347658 edges\n",
      "Language & Linguistics Graph with 14771 nodes and 1955723 edges\n",
      "Probability & Statistics Graph with 15127 nodes and 2272474 edges\n",
      "Material Engineering Graph with 20958 nodes and 3361647 edges\n",
      "Artificial Intelligence Graph with 15040 nodes and 2598151 edges\n",
      "Sociology Graph with 16822 nodes and 2381323 edges\n",
      "International Business Graph with 13395 nodes and 1955815 edges\n",
      "Political Science Graph with 16461 nodes and 2126471 edges\n",
      "Genetics & Genomics Graph with 22220 nodes and 3447289 edges\n",
      "Immunology Graph with 22126 nodes and 3990841 edges\n",
      "Human Resources & Organizations Graph with 14355 nodes and 2170039 edges\n",
      "Ethnic & Cultural Studies Graph with 15986 nodes and 2037714 edges\n",
      "Neurology Graph with 20501 nodes and 3662226 edges\n"
     ]
    }
   ],
   "source": [
    "corpora = co_occurence_graphs()\n",
    "Gs = {field_name: corpus['G'] for (field_name, corpus) in corpora.items()}\n",
    "Dfs = {field_name: corpus['Df'] for (field_name, corpus) in corpora.items()}"
   ]
  },
  {
   "cell_type": "code",
   "execution_count": 15,
   "metadata": {},
   "outputs": [
    {
     "name": "stdout",
     "output_type": "stream",
     "text": [
      "Gender Studies\n",
      "Geometry\n",
      "Geophysics\n",
      "Economics\n",
      "Language & Linguistics\n",
      "Probability & Statistics\n",
      "Material Engineering\n",
      "Artificial Intelligence\n",
      "Sociology\n",
      "International Business\n",
      "Political Science\n",
      "Genetics & Genomics\n",
      "Immunology\n",
      "Human Resources & Organizations\n",
      "Ethnic & Cultural Studies\n",
      "Neurology\n"
     ]
    },
    {
     "data": {
      "text/plain": [
       "{'Gender Studies': 6,\n",
       " 'Geometry': 8,\n",
       " 'Geophysics': 4,\n",
       " 'Economics': 7,\n",
       " 'Language & Linguistics': 7,\n",
       " 'Probability & Statistics': 5,\n",
       " 'Material Engineering': 6,\n",
       " 'Artificial Intelligence': 6,\n",
       " 'Sociology': 6,\n",
       " 'International Business': 4,\n",
       " 'Political Science': 6,\n",
       " 'Genetics & Genomics': 7,\n",
       " 'Immunology': 9,\n",
       " 'Human Resources & Organizations': 7,\n",
       " 'Ethnic & Cultural Studies': 5,\n",
       " 'Neurology': 4}"
      ]
     },
     "execution_count": 15,
     "metadata": {},
     "output_type": "execute_result"
    }
   ],
   "source": [
    "louvain_co = {}\n",
    "\n",
    "for field_name, G in Gs.items():\n",
    "    print(field_name)\n",
    "    communities = nx_comm.louvain_communities(G)\n",
    "    louvain_co[field_name] = len(communities)\n",
    "\n",
    "louvain_co"
   ]
  },
  {
   "cell_type": "code",
   "execution_count": 10,
   "metadata": {},
   "outputs": [],
   "source": [
    "# girvan_newman_co = {}\n",
    "\n",
    "# for field_name, G in Gs.items():\n",
    "#     print(field_name)\n",
    "#     communities = nx_comm.girvan_newman(G)\n",
    "#     girvan_newman_co[field_name] = len(list(communities))\n",
    "\n",
    "# girvan_newman_co"
   ]
  },
  {
   "cell_type": "code",
   "execution_count": 11,
   "metadata": {},
   "outputs": [
    {
     "name": "stdout",
     "output_type": "stream",
     "text": [
      "Gender Studies Graph with 439 nodes and 810 edges\n",
      "Geometry Graph with 298 nodes and 388 edges\n",
      "Geophysics Graph with 16305 nodes and 82952 edges\n",
      "Economics Graph with 4278 nodes and 53161 edges\n",
      "Language & Linguistics Graph with 1270 nodes and 7819 edges\n",
      "Probability & Statistics Graph with 1805 nodes and 8151 edges\n",
      "Material Engineering Graph with 19577 nodes and 213117 edges\n",
      "Artificial Intelligence Graph with 1897 nodes and 9012 edges\n",
      "Sociology Graph with 2327 nodes and 21230 edges\n",
      "International Business Graph with 2667 nodes and 39483 edges\n",
      "Political Science Graph with 2442 nodes and 13314 edges\n",
      "Genetics & Genomics Graph with 9323 nodes and 55121 edges\n",
      "Immunology Graph with 12636 nodes and 190468 edges\n",
      "Human Resources & Organizations Graph with 3063 nodes and 24554 edges\n",
      "Ethnic & Cultural Studies Graph with 310 nodes and 506 edges\n",
      "Neurology Graph with 18589 nodes and 270528 edges\n"
     ]
    }
   ],
   "source": [
    "corpora = co_citation_graphs()\n",
    "Gs_cc = {field_name: corpus['G'] for (field_name, corpus) in corpora.items()}\n",
    "Dfs_cc = {field_name: corpus['Df'] for (field_name, corpus) in corpora.items()}"
   ]
  },
  {
   "cell_type": "code",
   "execution_count": 13,
   "metadata": {},
   "outputs": [
    {
     "name": "stdout",
     "output_type": "stream",
     "text": [
      "Gender Studies\n",
      "Geometry\n",
      "Geophysics\n",
      "Economics\n",
      "Language & Linguistics\n",
      "Probability & Statistics\n",
      "Material Engineering\n",
      "Artificial Intelligence\n",
      "Sociology\n",
      "International Business\n",
      "Political Science\n",
      "Genetics & Genomics\n",
      "Immunology\n",
      "Human Resources & Organizations\n",
      "Ethnic & Cultural Studies\n",
      "Neurology\n"
     ]
    },
    {
     "data": {
      "text/plain": [
       "{'Gender Studies': 14,\n",
       " 'Geometry': 6,\n",
       " 'Geophysics': 10,\n",
       " 'Economics': 13,\n",
       " 'Language & Linguistics': 10,\n",
       " 'Probability & Statistics': 9,\n",
       " 'Material Engineering': 14,\n",
       " 'Artificial Intelligence': 9,\n",
       " 'Sociology': 10,\n",
       " 'International Business': 8,\n",
       " 'Political Science': 9,\n",
       " 'Genetics & Genomics': 28,\n",
       " 'Immunology': 22,\n",
       " 'Human Resources & Organizations': 7,\n",
       " 'Ethnic & Cultural Studies': 8,\n",
       " 'Neurology': 17}"
      ]
     },
     "execution_count": 13,
     "metadata": {},
     "output_type": "execute_result"
    }
   ],
   "source": [
    "louvain_cc = {}\n",
    "\n",
    "for field_name, G in Gs.items():\n",
    "    print(field_name)\n",
    "    communities = nx_comm.louvain_communities(G)\n",
    "    louvain_cc[field_name] = len(communities)\n",
    "\n",
    "louvain_cc"
   ]
  },
  {
   "cell_type": "code",
   "execution_count": null,
   "metadata": {},
   "outputs": [],
   "source": [
    "# girvan_newman_cc = {}\n",
    "\n",
    "# for field_name, G in Gs.items():\n",
    "#     print(field_name)\n",
    "#     communities = nx_comm.girvan_newman(G)\n",
    "#     girvan_newman_cc[field_name] = len(list(communities.values()))"
   ]
  },
  {
   "cell_type": "code",
   "execution_count": 22,
   "metadata": {},
   "outputs": [
    {
     "data": {
      "text/plain": [
       "array([[1.        , 0.29024062],\n",
       "       [0.29024062, 1.        ]])"
      ]
     },
     "execution_count": 22,
     "metadata": {},
     "output_type": "execute_result"
    }
   ],
   "source": [
    "np.corrcoef(list(louvain_cc.values()), list(louvain_co.values()))"
   ]
  },
  {
   "cell_type": "code",
   "execution_count": null,
   "metadata": {},
   "outputs": [],
   "source": []
  },
  {
   "cell_type": "code",
   "execution_count": 25,
   "metadata": {},
   "outputs": [
    {
     "data": {
      "text/plain": [
       "0.036265577415643714"
      ]
     },
     "execution_count": 25,
     "metadata": {},
     "output_type": "execute_result"
    }
   ],
   "source": [
    "from scipy.stats import poisson\n",
    "\n",
    "# Parameters\n",
    "lambda_value = 5  # Expected number of fields\n",
    "k_value = 9  # Observed number of fields\n",
    "\n",
    "# Probability using Poisson distribution\n",
    "probability = poisson.pmf(k_value, lambda_value)\n",
    "probability\n"
   ]
  },
  {
   "cell_type": "code",
   "execution_count": null,
   "metadata": {},
   "outputs": [],
   "source": []
  }
 ],
 "metadata": {
  "kernelspec": {
   "display_name": "Python 3",
   "language": "python",
   "name": "python3"
  },
  "language_info": {
   "codemirror_mode": {
    "name": "ipython",
    "version": 3
   },
   "file_extension": ".py",
   "mimetype": "text/x-python",
   "name": "python",
   "nbconvert_exporter": "python",
   "pygments_lexer": "ipython3",
   "version": "3.10.3"
  },
  "orig_nbformat": 4
 },
 "nbformat": 4,
 "nbformat_minor": 2
}
