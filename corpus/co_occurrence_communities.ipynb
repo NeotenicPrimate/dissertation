{
 "cells": [
  {
   "cell_type": "code",
   "execution_count": null,
   "metadata": {},
   "outputs": [],
   "source": [
    "%run './model/multi_corpus.py'\n",
    "# %run './constants.py'\n",
    "\n",
    "import itertools\n",
    "\n",
    "from mpl_chord_diagram import chord_diagram"
   ]
  },
  {
   "cell_type": "code",
   "execution_count": null,
   "metadata": {},
   "outputs": [],
   "source": [
    "corpora = co_occurence_graphs(n_edges=5000)\n",
    "Gs = {field_name: corpus['G'] for (field_name, corpus) in corpora.items()}\n",
    "Dfs = {field_name: corpus['Df'] for (field_name, corpus) in corpora.items()}"
   ]
  },
  {
   "cell_type": "code",
   "execution_count": null,
   "metadata": {
    "scrolled": true
   },
   "outputs": [],
   "source": [
    "top_terms = 5\n",
    "\n",
    "for field_name, G in Gs.items():\n",
    "\n",
    "    print(field_name)\n",
    "\n",
    "    # if field_name not in ['Geometry']:\n",
    "    #     continue\n",
    "\n",
    "    # communities = [frozenset(c) for c in nx.community.louvain_communities(G)]\n",
    "    communities = nx.community.louvain_communities(G)\n",
    "\n",
    "    core_threshold = 3\n",
    "\n",
    "    cores = nx.core_number(G)\n",
    "    centrality = nx.degree_centrality(G)\n",
    "\n",
    "    G_communities = nx.Graph()\n",
    "    for community_i, community_j in itertools.combinations(communities, 2):\n",
    "        \n",
    "        edge_boundary = nx.edge_boundary(G, community_i, community_j)\n",
    "        edge_weight = sum([G[u][v]['weight'] for (u, v) in edge_boundary])\n",
    "\n",
    "        if edge_weight:\n",
    "\n",
    "            community_core_i = dict(filter(lambda tup: tup[0] in community_i, cores.items()))\n",
    "            community_core_i = dict(filter(lambda tup: tup[1] >= max(community_core_i.values())-core_threshold, community_core_i.items()))\n",
    "            community_core_i = dict(sorted(community_core_i.items(), key=lambda tup: tup[1]))\n",
    "\n",
    "            centrality_core_i = dict(filter(lambda t: t[0] in community_core_i, centrality.items()))\n",
    "            centrality_core_i = sorted(centrality_core_i.items(), key=lambda t: t[1], reverse=True)\n",
    "            centrality_core_i = [term for term, _ in centrality_core_i[:top_terms]]\n",
    "\n",
    "            community_i_name = '\\n'.join(centrality_core_i)\n",
    "\n",
    "            community_core_j = dict(filter(lambda tup: tup[0] in community_j, cores.items()))\n",
    "            community_core_j = dict(filter(lambda tup: tup[1] >= max(community_core_j.values())-core_threshold, community_core_j.items()))\n",
    "            community_core_j = dict(sorted(community_core_j.items(), key=lambda tup: tup[1]))\n",
    "\n",
    "            centrality_core_j = dict(filter(lambda t: t[0] in community_core_j, centrality.items()))\n",
    "            centrality_core_j = sorted(centrality_core_j.items(), key=lambda t: t[1], reverse=True)\n",
    "            centrality_core_j = [term for term, _ in centrality_core_j[:top_terms]]\n",
    "\n",
    "            community_j_name = '\\n'.join(centrality_core_j)\n",
    "\n",
    "            G_communities.add_edge(community_i_name, community_j_name, weight=edge_weight)\n",
    "\n",
    "    nodes = G_communities.nodes\n",
    "    M = nx.adjacency_matrix(G_communities).toarray()\n",
    "\n",
    "    # np.fill_diagonal(M, 0)\n",
    "    # # print(M)\n",
    "    # upper_triangle = np.triu(M)\n",
    "    degree_centrality = np.sum(M, axis=0) / 2\n",
    "    # degree_centrality_list = degree_centrality.tolist()\n",
    "    \n",
    "    d = dict(sorted(zip(nodes, degree_centrality), key=lambda t: t[1], reverse=True))\n",
    "\n",
    "    fig = plt.figure(figsize=(10, 8))\n",
    "    ax = fig.add_axes([0, 0, 1, 1])\n",
    "\n",
    "    plt.bar(d.keys(), d.values(), edgecolor='k')\n",
    "\n",
    "    ax.set_xlabel('Community')\n",
    "    ax.set_ylabel('Edges')\n",
    "\n",
    "    plt.setp(ax.spines.values(), lw=1, color='k', alpha=1)\n",
    "    fig.tight_layout()\n",
    "\n",
    "\n",
    "    # fig, ax = plt.subplots(figsize=(10, 10))\n",
    "    # chord_diagram(M, names=nodes, directed=True, rotate_names=True, ax=ax, fontsize=16)\n",
    "    # ax.set_title(field_name, y=1.15, fontsize=20)\n",
    "\n",
    "    # fig.savefig(f'./chord/{field_name}.png', dpi=150, transparent=True, bbox_inches='tight')\n",
    "\n",
    "    plt.tight_layout()\n",
    "\n",
    "    fig.savefig(f'./community_edge_weights/{field_name}.png', dpi=150, transparent=True, bbox_inches='tight')\n",
    "    plt.show()"
   ]
  },
  {
   "cell_type": "code",
   "execution_count": null,
   "metadata": {},
   "outputs": [],
   "source": []
  },
  {
   "cell_type": "code",
   "execution_count": null,
   "metadata": {},
   "outputs": [],
   "source": []
  },
  {
   "cell_type": "code",
   "execution_count": null,
   "metadata": {},
   "outputs": [],
   "source": []
  }
 ],
 "metadata": {
  "kernelspec": {
   "display_name": "Python 3 (ipykernel)",
   "language": "python",
   "name": "python3"
  },
  "language_info": {
   "codemirror_mode": {
    "name": "ipython",
    "version": 3
   },
   "file_extension": ".py",
   "mimetype": "text/x-python",
   "name": "python",
   "nbconvert_exporter": "python",
   "pygments_lexer": "ipython3",
   "version": "3.9.6"
  }
 },
 "nbformat": 4,
 "nbformat_minor": 4
}
