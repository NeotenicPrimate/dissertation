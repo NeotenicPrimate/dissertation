{
 "cells": [
  {
   "cell_type": "code",
   "execution_count": 1,
   "metadata": {},
   "outputs": [],
   "source": [
    "%run './model/multi_corpus.py'\n",
    "%run './model/ergm_functions.py'\n",
    "%run './constants.py'\n",
    "\n",
    "sns.set(rc = {'figure.figsize':(15,8)})\n",
    "\n",
    "import multiprocessing as mp\n",
    "import polars as pl\n",
    "from itertools import combinations\n",
    "# mp.set_start_method('forkserver')\n",
    "import math\n",
    "\n",
    "import networkx as nx\n",
    "\n",
    "import arviz as az\n",
    "import matplotlib.pyplot as plt\n",
    "import numpy as np\n",
    "import pymc as pm\n",
    "import scipy as sp\n",
    "\n",
    "from itertools import product\n",
    "from scipy.special import comb\n",
    "from sklearn.preprocessing import MinMaxScaler\n",
    "\n",
    "import os\n",
    "\n",
    "from scipy.spatial.distance import cosine\n",
    "from scipy.stats import norm\n",
    "\n",
    "import pytensor.tensor as pt\n",
    "\n",
    "from IPython.display import display\n",
    "\n",
    "# RANDOM_SEED = 8927\n",
    "# rng = np.random.default_rng(RANDOM_SEED)\n",
    "az.style.use(\"arviz-darkgrid\")"
   ]
  },
  {
   "cell_type": "code",
   "execution_count": 3,
   "metadata": {},
   "outputs": [
    {
     "name": "stdout",
     "output_type": "stream",
     "text": [
      "Gender Studies DiGraph with 2224 nodes and 4332 edges\n",
      "Geometry DiGraph with 2121 nodes and 2652 edges\n",
      "Geophysics DiGraph with 38952 nodes and 162177 edges\n",
      "Economics DiGraph with 7147 nodes and 55537 edges\n",
      "Language & Linguistics DiGraph with 3128 nodes and 13572 edges\n",
      "Probability & Statistics DiGraph with 5496 nodes and 19273 edges\n",
      "Material Engineering DiGraph with 39045 nodes and 253189 edges\n",
      "Artificial Intelligence DiGraph with 5475 nodes and 21705 edges\n",
      "Sociology DiGraph with 4083 nodes and 25676 edges\n",
      "International Business DiGraph with 5254 nodes and 36786 edges\n",
      "Political Science DiGraph with 5305 nodes and 26335 edges\n",
      "Genetics & Genomics DiGraph with 26776 nodes and 109991 edges\n",
      "Immunology DiGraph with 27301 nodes and 195148 edges\n",
      "Human Resources & Organizations DiGraph with 5848 nodes and 34965 edges\n",
      "Ethnic & Cultural Studies DiGraph with 2105 nodes and 4041 edges\n",
      "Neurology DiGraph with 32881 nodes and 282230 edges\n"
     ]
    }
   ],
   "source": [
    "corpora = citation_graphs()\n",
    "Gs = {field_name: corpus['G'] for (field_name, corpus) in corpora.items()}\n",
    "Dfs = {field_name: corpus['Df'] for (field_name, corpus) in corpora.items()}"
   ]
  },
  {
   "cell_type": "code",
   "execution_count": 16,
   "metadata": {},
   "outputs": [],
   "source": [
    "def date(G, df, t):\n",
    "\n",
    "    # if two nodes are within t years of each other 1, otherwise 0\n",
    "    \n",
    "    nodes = np.array(G.nodes)\n",
    "    delta_mat = np.zeros((nodes.size, nodes.size))\n",
    "\n",
    "    for (u, v) in combinations(nodes, 2):\n",
    "\n",
    "        year_u, = df.filter(pl.col('Doi').eq(pl.lit(u))).select(pl.col('Date').dt.year()).row(0)\n",
    "        year_v, = df.filter(pl.col('Doi').eq(pl.lit(v))).select(pl.col('Date').dt.year()).row(0)\n",
    "\n",
    "        if abs(year_u - year_v) <= t:\n",
    "            delta = 1\n",
    "        else:\n",
    "            delta = 0\n",
    "\n",
    "        idx_u = np.where(nodes == u)[0]\n",
    "        idx_v = np.where(nodes == v)[0]\n",
    "\n",
    "        delta_mat[idx_u, idx_v] = delta\n",
    "\n",
    "    return delta_mat"
   ]
  },
  {
   "cell_type": "code",
   "execution_count": null,
   "metadata": {},
   "outputs": [],
   "source": [
    "def delta_f(G, f, undirected=True):\n",
    "\n",
    "    nodes = np.array(G.nodes)\n",
    "    delta_mat = np.zeros((nodes.size, nodes.size))\n",
    "\n",
    "    for (u, v) in combinations(nodes, 2):\n",
    "\n",
    "        G_without = G.copy()\n",
    "        G_with = G.copy()\n",
    "\n",
    "        if not G_with.has_edge(u, v): G_with.add_edge(u, v)\n",
    "        if G_without.has_edge(u, v): G_without.remove_edge(u, v)\n",
    "\n",
    "        stat_delta = f(G_with) - f(G_without)\n",
    "\n",
    "        idx_u = np.where(nodes == u)[0]\n",
    "        idx_v = np.where(nodes == v)[0]\n",
    "\n",
    "        delta_mat[idx_u, idx_v] = stat_delta\n",
    "\n",
    "    return delta_mat"
   ]
  },
  {
   "cell_type": "code",
   "execution_count": null,
   "metadata": {},
   "outputs": [],
   "source": [
    "def edges(G):\n",
    "    return len(G.edges)\n",
    "\n",
    "def triangles(G):\n",
    "    return sum(nx.triangles(G).values()) / 3"
   ]
  },
  {
   "cell_type": "code",
   "execution_count": 18,
   "metadata": {},
   "outputs": [],
   "source": [
    "delta_edges = lambda G: delta_f(G, edges)\n",
    "delta_triangles = lambda G: delta_f(G, triangles)"
   ]
  },
  {
   "cell_type": "code",
   "execution_count": 19,
   "metadata": {},
   "outputs": [
    {
     "name": "stdout",
     "output_type": "stream",
     "text": [
      "Gender Studies\n"
     ]
    },
    {
     "ename": "KeyboardInterrupt",
     "evalue": "",
     "output_type": "error",
     "traceback": [
      "\u001b[0;31m---------------------------------------------------------------------------\u001b[0m",
      "\u001b[0;31mTypeError\u001b[0m                                 Traceback (most recent call last)",
      "File \u001b[0;32m/Library/Frameworks/Python.framework/Versions/3.10/lib/python3.10/site-packages/networkx/classes/digraph.py:532\u001b[0m, in \u001b[0;36mDiGraph.add_nodes_from\u001b[0;34m(self, nodes_for_adding, **attr)\u001b[0m\n\u001b[1;32m    531\u001b[0m \u001b[39mtry\u001b[39;00m:\n\u001b[0;32m--> 532\u001b[0m     newnode \u001b[39m=\u001b[39m n \u001b[39mnot\u001b[39;49;00m \u001b[39min\u001b[39;49;00m \u001b[39mself\u001b[39;49m\u001b[39m.\u001b[39;49m_node\n\u001b[1;32m    533\u001b[0m     newdict \u001b[39m=\u001b[39m attr\n",
      "\u001b[0;31mTypeError\u001b[0m: unhashable type: 'dict'",
      "\nDuring handling of the above exception, another exception occurred:\n",
      "\u001b[0;31mKeyboardInterrupt\u001b[0m                         Traceback (most recent call last)",
      "\u001b[1;32m/Users/vladimirborel/Documents/GitHub/dissertation/corpus/citation_ergm.ipynb Cell 7\u001b[0m in \u001b[0;36m<cell line: 4>\u001b[0;34m()\u001b[0m\n\u001b[1;32m      <a href='vscode-notebook-cell:/Users/vladimirborel/Documents/GitHub/dissertation/corpus/citation_ergm.ipynb#W2sZmlsZQ%3D%3D?line=8'>9</a>\u001b[0m df \u001b[39m=\u001b[39m d[\u001b[39m'\u001b[39m\u001b[39mDf\u001b[39m\u001b[39m'\u001b[39m]\n\u001b[1;32m     <a href='vscode-notebook-cell:/Users/vladimirborel/Documents/GitHub/dissertation/corpus/citation_ergm.ipynb#W2sZmlsZQ%3D%3D?line=10'>11</a>\u001b[0m observed \u001b[39m=\u001b[39m nx\u001b[39m.\u001b[39mto_numpy_array(G, weight\u001b[39m=\u001b[39m\u001b[39mNone\u001b[39;00m)\n\u001b[1;32m     <a href='vscode-notebook-cell:/Users/vladimirborel/Documents/GitHub/dissertation/corpus/citation_ergm.ipynb#W2sZmlsZQ%3D%3D?line=12'>13</a>\u001b[0m βs_xs \u001b[39m=\u001b[39m {\n\u001b[0;32m---> <a href='vscode-notebook-cell:/Users/vladimirborel/Documents/GitHub/dissertation/corpus/citation_ergm.ipynb#W2sZmlsZQ%3D%3D?line=13'>14</a>\u001b[0m     \u001b[39m'\u001b[39m\u001b[39mDensity\u001b[39m\u001b[39m'\u001b[39m: delta_edges(G),\n\u001b[1;32m     <a href='vscode-notebook-cell:/Users/vladimirborel/Documents/GitHub/dissertation/corpus/citation_ergm.ipynb#W2sZmlsZQ%3D%3D?line=14'>15</a>\u001b[0m     \u001b[39m'\u001b[39m\u001b[39mTriangles\u001b[39m\u001b[39m'\u001b[39m: delta_triangles(G),\n\u001b[1;32m     <a href='vscode-notebook-cell:/Users/vladimirborel/Documents/GitHub/dissertation/corpus/citation_ergm.ipynb#W2sZmlsZQ%3D%3D?line=15'>16</a>\u001b[0m     \u001b[39m# 'Stars': delta_star(G, 3),\u001b[39;00m\n\u001b[1;32m     <a href='vscode-notebook-cell:/Users/vladimirborel/Documents/GitHub/dissertation/corpus/citation_ergm.ipynb#W2sZmlsZQ%3D%3D?line=16'>17</a>\u001b[0m     \u001b[39m# 'Betweenness': delta_betweenness(G),\u001b[39;00m\n\u001b[1;32m     <a href='vscode-notebook-cell:/Users/vladimirborel/Documents/GitHub/dissertation/corpus/citation_ergm.ipynb#W2sZmlsZQ%3D%3D?line=17'>18</a>\u001b[0m     \u001b[39m# 'Closeness': delta_closeness(G),\u001b[39;00m\n\u001b[1;32m     <a href='vscode-notebook-cell:/Users/vladimirborel/Documents/GitHub/dissertation/corpus/citation_ergm.ipynb#W2sZmlsZQ%3D%3D?line=18'>19</a>\u001b[0m     \u001b[39m# 'Eigenvector': delta_eigenvector(G),\u001b[39;00m\n\u001b[1;32m     <a href='vscode-notebook-cell:/Users/vladimirborel/Documents/GitHub/dissertation/corpus/citation_ergm.ipynb#W2sZmlsZQ%3D%3D?line=19'>20</a>\u001b[0m     \u001b[39m# 'Centralization': delta_centralization(G),\u001b[39;00m\n\u001b[1;32m     <a href='vscode-notebook-cell:/Users/vladimirborel/Documents/GitHub/dissertation/corpus/citation_ergm.ipynb#W2sZmlsZQ%3D%3D?line=20'>21</a>\u001b[0m     \u001b[39m# 'Clustering': delta_clustering(G),\u001b[39;00m\n\u001b[1;32m     <a href='vscode-notebook-cell:/Users/vladimirborel/Documents/GitHub/dissertation/corpus/citation_ergm.ipynb#W2sZmlsZQ%3D%3D?line=21'>22</a>\u001b[0m     \u001b[39m# 'Transitivity': delta_transitivity(G),\u001b[39;00m\n\u001b[1;32m     <a href='vscode-notebook-cell:/Users/vladimirborel/Documents/GitHub/dissertation/corpus/citation_ergm.ipynb#W2sZmlsZQ%3D%3D?line=22'>23</a>\u001b[0m     \u001b[39m# 'Cliques': delta_cliques(G),\u001b[39;00m\n\u001b[1;32m     <a href='vscode-notebook-cell:/Users/vladimirborel/Documents/GitHub/dissertation/corpus/citation_ergm.ipynb#W2sZmlsZQ%3D%3D?line=23'>24</a>\u001b[0m     \u001b[39m# 'Components': delta_components(G),\u001b[39;00m\n\u001b[1;32m     <a href='vscode-notebook-cell:/Users/vladimirborel/Documents/GitHub/dissertation/corpus/citation_ergm.ipynb#W2sZmlsZQ%3D%3D?line=24'>25</a>\u001b[0m     \u001b[39m# 'Gini': delta_gini(G),\u001b[39;00m\n\u001b[1;32m     <a href='vscode-notebook-cell:/Users/vladimirborel/Documents/GitHub/dissertation/corpus/citation_ergm.ipynb#W2sZmlsZQ%3D%3D?line=25'>26</a>\u001b[0m     \u001b[39m# 'Louvain': delta_louvain(G),\u001b[39;00m\n\u001b[1;32m     <a href='vscode-notebook-cell:/Users/vladimirborel/Documents/GitHub/dissertation/corpus/citation_ergm.ipynb#W2sZmlsZQ%3D%3D?line=26'>27</a>\u001b[0m     \u001b[39m'\u001b[39m\u001b[39mDate\u001b[39m\u001b[39m'\u001b[39m: date(G, df, \u001b[39m5\u001b[39m)\n\u001b[1;32m     <a href='vscode-notebook-cell:/Users/vladimirborel/Documents/GitHub/dissertation/corpus/citation_ergm.ipynb#W2sZmlsZQ%3D%3D?line=27'>28</a>\u001b[0m     \u001b[39m# 'Geodesic': delta_geodesic(G),\u001b[39;00m\n\u001b[1;32m     <a href='vscode-notebook-cell:/Users/vladimirborel/Documents/GitHub/dissertation/corpus/citation_ergm.ipynb#W2sZmlsZQ%3D%3D?line=28'>29</a>\u001b[0m }\n\u001b[1;32m     <a href='vscode-notebook-cell:/Users/vladimirborel/Documents/GitHub/dissertation/corpus/citation_ergm.ipynb#W2sZmlsZQ%3D%3D?line=30'>31</a>\u001b[0m dist[field_name] \u001b[39m=\u001b[39m βs_xs\n\u001b[1;32m     <a href='vscode-notebook-cell:/Users/vladimirborel/Documents/GitHub/dissertation/corpus/citation_ergm.ipynb#W2sZmlsZQ%3D%3D?line=32'>33</a>\u001b[0m \u001b[39mwith\u001b[39;00m pm\u001b[39m.\u001b[39mModel() \u001b[39mas\u001b[39;00m model:\n",
      "\u001b[1;32m/Users/vladimirborel/Documents/GitHub/dissertation/corpus/citation_ergm.ipynb Cell 7\u001b[0m in \u001b[0;36m<lambda>\u001b[0;34m(G)\u001b[0m\n\u001b[0;32m----> <a href='vscode-notebook-cell:/Users/vladimirborel/Documents/GitHub/dissertation/corpus/citation_ergm.ipynb#W2sZmlsZQ%3D%3D?line=0'>1</a>\u001b[0m delta_edges \u001b[39m=\u001b[39m \u001b[39mlambda\u001b[39;00m G: delta_f(G, edges)\n\u001b[1;32m      <a href='vscode-notebook-cell:/Users/vladimirborel/Documents/GitHub/dissertation/corpus/citation_ergm.ipynb#W2sZmlsZQ%3D%3D?line=1'>2</a>\u001b[0m delta_triangles \u001b[39m=\u001b[39m \u001b[39mlambda\u001b[39;00m G: delta_f(G, triangles)\n",
      "File \u001b[0;32m~/Documents/GitHub/dissertation/corpus/model/ergm_functions.py:18\u001b[0m, in \u001b[0;36mdelta_f\u001b[0;34m(G, f, standardize)\u001b[0m\n\u001b[1;32m     14\u001b[0m delta_mat \u001b[39m=\u001b[39m np\u001b[39m.\u001b[39mzeros((nodes\u001b[39m.\u001b[39msize, nodes\u001b[39m.\u001b[39msize))\n\u001b[1;32m     16\u001b[0m \u001b[39mfor\u001b[39;00m (u, v) \u001b[39min\u001b[39;00m combinations(nodes, \u001b[39m2\u001b[39m):\n\u001b[0;32m---> 18\u001b[0m     G_without \u001b[39m=\u001b[39m G\u001b[39m.\u001b[39mcopy()\n\u001b[1;32m     19\u001b[0m     G_with \u001b[39m=\u001b[39m G\u001b[39m.\u001b[39mcopy()\n\u001b[1;32m     21\u001b[0m     \u001b[39mif\u001b[39;00m \u001b[39mnot\u001b[39;00m G_with\u001b[39m.\u001b[39mhas_edge(u, v): G_with\u001b[39m.\u001b[39madd_edge(u, v)\n",
      "File \u001b[0;32m/Library/Frameworks/Python.framework/Versions/3.10/lib/python3.10/site-packages/networkx/classes/graph.py:1642\u001b[0m, in \u001b[0;36mGraph.copy\u001b[0;34m(self, as_view)\u001b[0m\n\u001b[1;32m   1640\u001b[0m G \u001b[39m=\u001b[39m \u001b[39mself\u001b[39m\u001b[39m.\u001b[39m\u001b[39m__class__\u001b[39m()\n\u001b[1;32m   1641\u001b[0m G\u001b[39m.\u001b[39mgraph\u001b[39m.\u001b[39mupdate(\u001b[39mself\u001b[39m\u001b[39m.\u001b[39mgraph)\n\u001b[0;32m-> 1642\u001b[0m G\u001b[39m.\u001b[39;49madd_nodes_from((n, d\u001b[39m.\u001b[39;49mcopy()) \u001b[39mfor\u001b[39;49;00m n, d \u001b[39min\u001b[39;49;00m \u001b[39mself\u001b[39;49m\u001b[39m.\u001b[39;49m_node\u001b[39m.\u001b[39;49mitems())\n\u001b[1;32m   1643\u001b[0m G\u001b[39m.\u001b[39madd_edges_from(\n\u001b[1;32m   1644\u001b[0m     (u, v, datadict\u001b[39m.\u001b[39mcopy())\n\u001b[1;32m   1645\u001b[0m     \u001b[39mfor\u001b[39;00m u, nbrs \u001b[39min\u001b[39;00m \u001b[39mself\u001b[39m\u001b[39m.\u001b[39m_adj\u001b[39m.\u001b[39mitems()\n\u001b[1;32m   1646\u001b[0m     \u001b[39mfor\u001b[39;00m v, datadict \u001b[39min\u001b[39;00m nbrs\u001b[39m.\u001b[39mitems()\n\u001b[1;32m   1647\u001b[0m )\n\u001b[1;32m   1648\u001b[0m \u001b[39mreturn\u001b[39;00m G\n",
      "File \u001b[0;32m/Library/Frameworks/Python.framework/Versions/3.10/lib/python3.10/site-packages/networkx/classes/digraph.py:532\u001b[0m, in \u001b[0;36mDiGraph.add_nodes_from\u001b[0;34m(self, nodes_for_adding, **attr)\u001b[0m\n\u001b[1;32m    530\u001b[0m \u001b[39mfor\u001b[39;00m n \u001b[39min\u001b[39;00m nodes_for_adding:\n\u001b[1;32m    531\u001b[0m     \u001b[39mtry\u001b[39;00m:\n\u001b[0;32m--> 532\u001b[0m         newnode \u001b[39m=\u001b[39m n \u001b[39mnot\u001b[39;49;00m \u001b[39min\u001b[39;49;00m \u001b[39mself\u001b[39;49m\u001b[39m.\u001b[39;49m_node\n\u001b[1;32m    533\u001b[0m         newdict \u001b[39m=\u001b[39m attr\n\u001b[1;32m    534\u001b[0m     \u001b[39mexcept\u001b[39;00m \u001b[39mTypeError\u001b[39;00m:\n",
      "\u001b[0;31mKeyboardInterrupt\u001b[0m: "
     ]
    }
   ],
   "source": [
    "tables = []\n",
    "dist = {}\n",
    "\n",
    "for (field_name, d) in corpora.items():\n",
    "\n",
    "    print(field_name)\n",
    "\n",
    "    G = d['G']\n",
    "    df = d['Df']\n",
    "\n",
    "    observed = nx.to_numpy_array(G, weight=None)\n",
    "\n",
    "    βs_xs = {\n",
    "        'Density': delta_edges(G),\n",
    "        'Triangles': delta_triangles(G),\n",
    "        # 'Stars': delta_star(G, 3),\n",
    "        # 'Betweenness': delta_betweenness(G),\n",
    "        # 'Closeness': delta_closeness(G),\n",
    "        # 'Eigenvector': delta_eigenvector(G),\n",
    "        # 'Centralization': delta_centralization(G),\n",
    "        # 'Clustering': delta_clustering(G),\n",
    "        # 'Transitivity': delta_transitivity(G),\n",
    "        # 'Cliques': delta_cliques(G),\n",
    "        # 'Components': delta_components(G),\n",
    "        # 'Gini': delta_gini(G),\n",
    "        # 'Louvain': delta_louvain(G),\n",
    "        'Date': date(G, df, 5)\n",
    "        # 'Geodesic': delta_geodesic(G),\n",
    "    }\n",
    "\n",
    "    dist[field_name] = βs_xs\n",
    "\n",
    "    with pm.Model() as model:\n",
    "\n",
    "        βs = []\n",
    "        xs = []\n",
    "        for β_name, x in βs_xs.items():\n",
    "            β = pm.Normal(β_name, sigma=1, initval=None)\n",
    "            βs.append(β)\n",
    "            xs.append(x)\n",
    "\n",
    "        μ = sum(β * x for β, x in zip(βs, xs))\n",
    "\n",
    "        likelihood = pm.math.sigmoid(μ)\n",
    "\n",
    "        pm.Bernoulli(name='logit', p=likelihood, observed=observed)\n",
    "\n",
    "        trace = pm.sample(\n",
    "            tune=1000,\n",
    "            draws=2000,\n",
    "            chains=4,\n",
    "            # init = 'adapt_diag',\n",
    "            cores=4,\n",
    "            # step=pm.Metropolis(),\n",
    "            step=pm.NUTS(),\n",
    "            # random_seed=12345,\n",
    "        )\n",
    "\n",
    "        trace.to_netcdf(os.path.join(os.path.join(OUTPUT_PATH, f'citation_traces'), f'{field_name}.nc'))\n"
   ]
  },
  {
   "cell_type": "code",
   "execution_count": null,
   "metadata": {},
   "outputs": [],
   "source": []
  },
  {
   "cell_type": "code",
   "execution_count": null,
   "metadata": {},
   "outputs": [],
   "source": []
  }
 ],
 "metadata": {
  "kernelspec": {
   "display_name": "Python 3",
   "language": "python",
   "name": "python3"
  },
  "language_info": {
   "codemirror_mode": {
    "name": "ipython",
    "version": 3
   },
   "file_extension": ".py",
   "mimetype": "text/x-python",
   "name": "python",
   "nbconvert_exporter": "python",
   "pygments_lexer": "ipython3",
   "version": "3.10.3"
  },
  "orig_nbformat": 4
 },
 "nbformat": 4,
 "nbformat_minor": 2
}
