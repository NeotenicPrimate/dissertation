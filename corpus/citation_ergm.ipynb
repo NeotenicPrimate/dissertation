{
 "cells": [
  {
   "cell_type": "code",
   "execution_count": 1,
   "metadata": {},
   "outputs": [],
   "source": [
    "%run './model/multi_corpus.py'\n",
    "%run './model/ergm_functions.py'\n",
    "%run './constants.py'\n",
    "\n",
    "sns.set(rc = {'figure.figsize':(15,8)})\n",
    "\n",
    "import multiprocessing as mp\n",
    "import polars as pl\n",
    "from itertools import combinations\n",
    "# mp.set_start_method('forkserver')\n",
    "import math\n",
    "\n",
    "import networkx as nx\n",
    "\n",
    "import arviz as az\n",
    "import matplotlib.pyplot as plt\n",
    "import numpy as np\n",
    "import pymc as pm\n",
    "import scipy as sp\n",
    "\n",
    "from itertools import product\n",
    "from scipy.special import comb\n",
    "from sklearn.preprocessing import MinMaxScaler\n",
    "\n",
    "import os\n",
    "\n",
    "from scipy.spatial.distance import cosine\n",
    "from scipy.stats import norm\n",
    "\n",
    "import pytensor.tensor as pt\n",
    "\n",
    "from IPython.display import display\n",
    "\n",
    "# RANDOM_SEED = 8927\n",
    "# rng = np.random.default_rng(RANDOM_SEED)\n",
    "az.style.use(\"arviz-darkgrid\")"
   ]
  },
  {
   "cell_type": "code",
   "execution_count": 3,
   "metadata": {},
   "outputs": [
    {
     "name": "stdout",
     "output_type": "stream",
     "text": [
      "Gender Studies DiGraph with 2224 nodes and 4332 edges\n",
      "Geometry DiGraph with 2121 nodes and 2652 edges\n",
      "Geophysics DiGraph with 38952 nodes and 162177 edges\n",
      "Economics DiGraph with 7147 nodes and 55537 edges\n",
      "Language & Linguistics DiGraph with 3128 nodes and 13572 edges\n",
      "Probability & Statistics DiGraph with 5496 nodes and 19273 edges\n",
      "Material Engineering DiGraph with 39045 nodes and 253189 edges\n",
      "Artificial Intelligence DiGraph with 5475 nodes and 21705 edges\n",
      "Sociology DiGraph with 4083 nodes and 25676 edges\n",
      "International Business DiGraph with 5254 nodes and 36786 edges\n",
      "Political Science DiGraph with 5305 nodes and 26335 edges\n",
      "Genetics & Genomics DiGraph with 26776 nodes and 109991 edges\n",
      "Immunology DiGraph with 27301 nodes and 195148 edges\n",
      "Human Resources & Organizations DiGraph with 5848 nodes and 34965 edges\n",
      "Ethnic & Cultural Studies DiGraph with 2105 nodes and 4041 edges\n",
      "Neurology DiGraph with 32881 nodes and 282230 edges\n"
     ]
    }
   ],
   "source": [
    "corpora = citation_graphs()\n",
    "Gs = {field_name: corpus['G'] for (field_name, corpus) in corpora.items()}\n",
    "Dfs = {field_name: corpus['Df'] for (field_name, corpus) in corpora.items()}"
   ]
  },
  {
   "cell_type": "code",
   "execution_count": 16,
   "metadata": {},
   "outputs": [],
   "source": [
    "def date(G, df, t):\n",
    "\n",
    "    # if two nodes are within t years of each other 1, otherwise 0\n",
    "    \n",
    "    nodes = np.array(G.nodes)\n",
    "    delta_mat = np.zeros((nodes.size, nodes.size))\n",
    "\n",
    "    for (u, v) in combinations(nodes, 2):\n",
    "\n",
    "        year_u, = df.filter(pl.col('Doi').eq(pl.lit(u))).select(pl.col('Date').dt.year()).row(0)\n",
    "        year_v, = df.filter(pl.col('Doi').eq(pl.lit(v))).select(pl.col('Date').dt.year()).row(0)\n",
    "\n",
    "        if abs(year_u - year_v) <= t:\n",
    "            delta = 1\n",
    "        else:\n",
    "            delta = 0\n",
    "\n",
    "        idx_u = np.where(nodes == u)[0]\n",
    "        idx_v = np.where(nodes == v)[0]\n",
    "\n",
    "        delta_mat[idx_u, idx_v] = delta\n",
    "\n",
    "    return delta_mat"
   ]
  },
  {
   "cell_type": "code",
   "execution_count": null,
   "metadata": {},
   "outputs": [],
   "source": [
    "def delta_f(G, f, undirected=True):\n",
    "\n",
    "    nodes = np.array(G.nodes)\n",
    "    delta_mat = np.zeros((nodes.size, nodes.size))\n",
    "\n",
    "    for (u, v) in combinations(nodes, 2):\n",
    "\n",
    "        G_without = G.copy()\n",
    "        G_with = G.copy()\n",
    "\n",
    "        if not G_with.has_edge(u, v): G_with.add_edge(u, v)\n",
    "        if G_without.has_edge(u, v): G_without.remove_edge(u, v)\n",
    "\n",
    "        stat_delta = f(G_with) - f(G_without)\n",
    "\n",
    "        idx_u = np.where(nodes == u)[0]\n",
    "        idx_v = np.where(nodes == v)[0]\n",
    "\n",
    "        delta_mat[idx_u, idx_v] = stat_delta\n",
    "\n",
    "    return delta_mat"
   ]
  },
  {
   "cell_type": "code",
   "execution_count": null,
   "metadata": {},
   "outputs": [],
   "source": [
    "def edges(G):\n",
    "    return len(G.edges)\n",
    "\n",
    "def triangles(G):\n",
    "    return sum(nx.triangles(G).values()) / 3"
   ]
  },
  {
   "cell_type": "code",
   "execution_count": 18,
   "metadata": {},
   "outputs": [],
   "source": [
    "delta_edges = lambda G: delta_f(G, edges)\n",
    "delta_triangles = lambda G: delta_f(G, triangles)"
   ]
  },
  {
   "cell_type": "code",
   "execution_count": 19,
   "metadata": {},
   "outputs": [
    {
     "name": "stdout",
     "output_type": "stream",
     "text": [
      "Gender Studies\n"
     ]
    }
   ],
   "source": [
    "tables = []\n",
    "dist = {}\n",
    "\n",
    "for (field_name, d) in corpora.items():\n",
    "\n",
    "    print(field_name)\n",
    "\n",
    "    G = d['G']\n",
    "    df = d['Df']\n",
    "\n",
    "    observed = nx.to_numpy_array(G, weight=None)\n",
    "\n",
    "    βs_xs = {\n",
    "        'Density': delta_edges(G),\n",
    "        'Triangles': delta_triangles(G),\n",
    "        # 'Stars': delta_star(G, 3),\n",
    "        # 'Betweenness': delta_betweenness(G),\n",
    "        # 'Closeness': delta_closeness(G),\n",
    "        # 'Eigenvector': delta_eigenvector(G),\n",
    "        # 'Centralization': delta_centralization(G),\n",
    "        # 'Clustering': delta_clustering(G),\n",
    "        # 'Transitivity': delta_transitivity(G),\n",
    "        # 'Cliques': delta_cliques(G),\n",
    "        # 'Components': delta_components(G),\n",
    "        # 'Gini': delta_gini(G),\n",
    "        # 'Louvain': delta_louvain(G),\n",
    "        'Date': date(G, df, 5)\n",
    "        # 'Geodesic': delta_geodesic(G),\n",
    "    }\n",
    "\n",
    "    dist[field_name] = βs_xs\n",
    "\n",
    "    with pm.Model() as model:\n",
    "\n",
    "        βs = []\n",
    "        xs = []\n",
    "        for β_name, x in βs_xs.items():\n",
    "            β = pm.Normal(β_name, sigma=1, initval=None)\n",
    "            βs.append(β)\n",
    "            xs.append(x)\n",
    "\n",
    "        μ = sum(β * x for β, x in zip(βs, xs))\n",
    "\n",
    "        likelihood = pm.math.sigmoid(μ)\n",
    "\n",
    "        pm.Bernoulli(name='logit', p=likelihood, observed=observed)\n",
    "\n",
    "        trace = pm.sample(\n",
    "            tune=1000,\n",
    "            draws=2000,\n",
    "            chains=4,\n",
    "            # init = 'adapt_diag',\n",
    "            cores=4,\n",
    "            # step=pm.Metropolis(),\n",
    "            step=pm.NUTS(),\n",
    "            # random_seed=12345,\n",
    "        )\n",
    "\n",
    "        trace.to_netcdf(os.path.join(os.path.join(OUTPUT_PATH, f'citation_traces'), f'{field_name}.nc'))\n"
   ]
  },
  {
   "cell_type": "code",
   "execution_count": null,
   "metadata": {},
   "outputs": [],
   "source": []
  },
  {
   "cell_type": "code",
   "execution_count": null,
   "metadata": {},
   "outputs": [],
   "source": []
  }
 ],
 "metadata": {
  "kernelspec": {
   "display_name": "Python 3",
   "language": "python",
   "name": "python3"
  },
  "language_info": {
   "codemirror_mode": {
    "name": "ipython",
    "version": 3
   },
   "file_extension": ".py",
   "mimetype": "text/x-python",
   "name": "python",
   "nbconvert_exporter": "python",
   "pygments_lexer": "ipython3",
   "version": "3.10.3"
  },
  "orig_nbformat": 4
 },
 "nbformat": 4,
 "nbformat_minor": 2
}
